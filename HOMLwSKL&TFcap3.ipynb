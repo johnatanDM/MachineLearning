{
  "nbformat": 4,
  "nbformat_minor": 0,
  "metadata": {
    "colab": {
      "name": "HOMLwSKL&TFcap3.ipynb",
      "provenance": [],
      "collapsed_sections": [],
      "authorship_tag": "ABX9TyMRxJD/6D3wHpNHyKBFWIw0",
      "include_colab_link": true
    },
    "kernelspec": {
      "name": "python3",
      "display_name": "Python 3"
    }
  },
  "cells": [
    {
      "cell_type": "markdown",
      "metadata": {
        "id": "view-in-github",
        "colab_type": "text"
      },
      "source": [
        "<a href=\"https://colab.research.google.com/github/johnatanDM/MachineLearning/blob/main/HOMLwSKL%26TFcap3.ipynb\" target=\"_parent\"><img src=\"https://colab.research.google.com/assets/colab-badge.svg\" alt=\"Open In Colab\"/></a>"
      ]
    },
    {
      "cell_type": "markdown",
      "metadata": {
        "id": "uTxP2bnLycZv"
      },
      "source": [
        "#Classificação\r\n",
        "\r\n",
        "Baixando o dataset MNIST"
      ]
    },
    {
      "cell_type": "code",
      "metadata": {
        "id": "uv2ISPA2xvRr"
      },
      "source": [
        "from sklearn.datasets import fetch_openml\r\n",
        "X,y = fetch_openml('mnist_784', version=1, return_X_y=True, as_frame=False)"
      ],
      "execution_count": 1,
      "outputs": []
    },
    {
      "cell_type": "code",
      "metadata": {
        "colab": {
          "base_uri": "https://localhost:8080/"
        },
        "id": "LSqPpGUx2rgc",
        "outputId": "39fbf5d0-d95c-4fb4-b25d-830bfe216bc6"
      },
      "source": [
        "X.shape"
      ],
      "execution_count": 2,
      "outputs": [
        {
          "output_type": "execute_result",
          "data": {
            "text/plain": [
              "(70000, 784)"
            ]
          },
          "metadata": {
            "tags": []
          },
          "execution_count": 2
        }
      ]
    },
    {
      "cell_type": "code",
      "metadata": {
        "colab": {
          "base_uri": "https://localhost:8080/"
        },
        "id": "-4lKNqZM3XIq",
        "outputId": "0832fc8b-d22d-4991-be75-e38753217206"
      },
      "source": [
        "y.shape"
      ],
      "execution_count": 3,
      "outputs": [
        {
          "output_type": "execute_result",
          "data": {
            "text/plain": [
              "(70000,)"
            ]
          },
          "metadata": {
            "tags": []
          },
          "execution_count": 3
        }
      ]
    },
    {
      "cell_type": "code",
      "metadata": {
        "colab": {
          "base_uri": "https://localhost:8080/",
          "height": 248
        },
        "id": "vogAcP8D5rwv",
        "outputId": "83abba47-27f2-4164-c9d6-e2e8d6b2d4bc"
      },
      "source": [
        "#vamos ver um exemplo desse dataset\r\n",
        "import matplotlib\r\n",
        "import matplotlib.pyplot as plt\r\n",
        "\r\n",
        "some_digit = X[36000]\r\n",
        "some_digit_image = some_digit.reshape(28, 28)\r\n",
        "\r\n",
        "plt.imshow(some_digit_image, cmap = matplotlib.cm.binary, interpolation=\"nearest\")\r\n",
        "plt.axis(\"off\")\r\n",
        "plt.show()"
      ],
      "execution_count": 4,
      "outputs": [
        {
          "output_type": "display_data",
          "data": {
            "image/png": "[encoded data removed]",
            "text/plain": [
              "<Figure size 432x288 with 1 Axes>"
            ]
          },
          "metadata": {
            "tags": [],
            "needs_background": "light"
          }
        }
      ]
    },
    {
      "cell_type": "code",
      "metadata": {
        "colab": {
          "base_uri": "https://localhost:8080/",
          "height": 35
        },
        "id": "NG2r6FVr6z9M",
        "outputId": "db1bbffb-2ba6-43c6-d3a5-e3e5d0afe4e1"
      },
      "source": [
        "y[36000]"
      ],
      "execution_count": 5,
      "outputs": [
        {
          "output_type": "execute_result",
          "data": {
            "application/vnd.google.colaboratory.intrinsic+json": {
              "type": "string"
            },
            "text/plain": [
              "'9'"
            ]
          },
          "metadata": {
            "tags": []
          },
          "execution_count": 5
        }
      ]
    },
    {
      "cell_type": "code",
      "metadata": {
        "id": "1sdkv5iz7Au0"
      },
      "source": [
        "#separar conjunto de treino e conjunto de teste\r\n",
        "X_train, X_test, y_train, y_test = X[:60000], X[60000:], y[:60000], y[60000:]"
      ],
      "execution_count": 6,
      "outputs": []
    },
    {
      "cell_type": "code",
      "metadata": {
        "id": "fGYpI8_m8Ah9"
      },
      "source": [
        "#emabaralhar o conjunto de treino\r\n",
        "import numpy as np\r\n",
        "\r\n",
        "shuffle_index = np.random.permutation(60000)\r\n",
        "X_train, y_train = X_train[shuffle_index], y_train[shuffle_index]"
      ],
      "execution_count": 7,
      "outputs": []
    },
    {
      "cell_type": "markdown",
      "metadata": {
        "id": "SO_hbHVzAMF0"
      },
      "source": [
        "Treinando um Classificador binário"
      ]
    },
    {
      "cell_type": "code",
      "metadata": {
        "colab": {
          "base_uri": "https://localhost:8080/",
          "height": 53
        },
        "id": "ZWx1q6qP8cK9",
        "outputId": "67fedab4-2dcd-4929-a22a-d163e72134dc"
      },
      "source": [
        "y_train_9 = (y_train == '9')\r\n",
        "y_test_9 = (y_test == '9')\r\n",
        "print(y_train_9)\r\n",
        "y_train[0]"
      ],
      "execution_count": 8,
      "outputs": [
        {
          "output_type": "stream",
          "text": [
            "[ True False False ... False False False]\n"
          ],
          "name": "stdout"
        },
        {
          "output_type": "execute_result",
          "data": {
            "application/vnd.google.colaboratory.intrinsic+json": {
              "type": "string"
            },
            "text/plain": [
              "'9'"
            ]
          },
          "metadata": {
            "tags": []
          },
          "execution_count": 8
        }
      ]
    },
    {
      "cell_type": "code",
      "metadata": {
        "id": "HczGTJdRC3gJ"
      },
      "source": [
        "# np.unique(y_test_9)"
      ],
      "execution_count": 9,
      "outputs": []
    },
    {
      "cell_type": "code",
      "metadata": {
        "colab": {
          "base_uri": "https://localhost:8080/"
        },
        "id": "Ah1Tr8XNBIIx",
        "outputId": "fe41e5a1-dedd-41fd-c83c-a55eda343b46"
      },
      "source": [
        "#iremos usar o SGD - Gradiente Descendente Estocástico\r\n",
        "from sklearn.linear_model import SGDClassifier\r\n",
        "\r\n",
        "sgd_clf = SGDClassifier(random_state=42)\r\n",
        "sgd_clf.fit(X_train, y_train_9)"
      ],
      "execution_count": 10,
      "outputs": [
        {
          "output_type": "execute_result",
          "data": {
            "text/plain": [
              "SGDClassifier(alpha=0.0001, average=False, class_weight=None,\n",
              "              early_stopping=False, epsilon=0.1, eta0=0.0, fit_intercept=True,\n",
              "              l1_ratio=0.15, learning_rate='optimal', loss='hinge',\n",
              "              max_iter=1000, n_iter_no_change=5, n_jobs=None, penalty='l2',\n",
              "              power_t=0.5, random_state=42, shuffle=True, tol=0.001,\n",
              "              validation_fraction=0.1, verbose=0, warm_start=False)"
            ]
          },
          "metadata": {
            "tags": []
          },
          "execution_count": 10
        }
      ]
    },
    {
      "cell_type": "code",
      "metadata": {
        "colab": {
          "base_uri": "https://localhost:8080/"
        },
        "id": "3gvF3EXRBs_X",
        "outputId": "fae4508c-69be-47bc-e98e-c62d4e060067"
      },
      "source": [
        "#fazendo as predições\r\n",
        "sgd_clf.predict([some_digit])"
      ],
      "execution_count": 11,
      "outputs": [
        {
          "output_type": "execute_result",
          "data": {
            "text/plain": [
              "array([False])"
            ]
          },
          "metadata": {
            "tags": []
          },
          "execution_count": 11
        }
      ]
    },
    {
      "cell_type": "markdown",
      "metadata": {
        "id": "TivH-PfpX1YY"
      },
      "source": [
        "Medindo o desempenho"
      ]
    },
    {
      "cell_type": "code",
      "metadata": {
        "colab": {
          "base_uri": "https://localhost:8080/"
        },
        "id": "5fwkcpXzX29i",
        "outputId": "68968e04-271c-4724-fa3d-1c18e37d0f34"
      },
      "source": [
        "#Validação cruzada\r\n",
        "from sklearn.model_selection import StratifiedKFold\r\n",
        "from sklearn.base import clone\r\n",
        "\r\n",
        "skfolds = StratifiedKFold(n_splits=3, shuffle=True, random_state=42)\r\n",
        "\r\n",
        "for train_index, test_index in skfolds.split(X_train, y_train_9):\r\n",
        "  clone_cfl = clone(sgd_clf)\r\n",
        "  X_train_folds = X_train[train_index]\r\n",
        "  y_train_folds = y_train_9[train_index]\r\n",
        "  X_test_fold = X_train[test_index]\r\n",
        "  y_test_fold = y_train_9[test_index]\r\n",
        "\r\n",
        "  clone_cfl.fit(X_train_folds, y_train_folds)\r\n",
        "  y_pred = clone_cfl.predict(X_test_fold)\r\n",
        "  n_corret = sum(y_pred == y_test_fold)\r\n",
        "  print(n_corret / len(y_pred))"
      ],
      "execution_count": 13,
      "outputs": [
        {
          "output_type": "stream",
          "text": [
            "0.92635\n",
            "0.9522\n",
            "0.91725\n"
          ],
          "name": "stdout"
        }
      ]
    },
    {
      "cell_type": "code",
      "metadata": {
        "colab": {
          "base_uri": "https://localhost:8080/"
        },
        "id": "PIrwRk33ZuQ-",
        "outputId": "42e656bc-8090-4bd7-a74b-eda2806ddee1"
      },
      "source": [
        "#utilizando a função cross_val_score()\r\n",
        "from sklearn.model_selection import cross_val_score\r\n",
        "cross_val_score(sgd_clf, X_train, y_train_9, cv=3, scoring=\"accuracy\")"
      ],
      "execution_count": 14,
      "outputs": [
        {
          "output_type": "execute_result",
          "data": {
            "text/plain": [
              "array([0.9418 , 0.94885, 0.9474 ])"
            ]
          },
          "metadata": {
            "tags": []
          },
          "execution_count": 14
        }
      ]
    },
    {
      "cell_type": "markdown",
      "metadata": {
        "id": "DCQapawLc51U"
      },
      "source": [
        "95% de acurácia parece incrível, mas e se fizermos um classificador ridículo que apenas diz que todos não são 9. Quanto será que ele acerta?"
      ]
    },
    {
      "cell_type": "code",
      "metadata": {
        "colab": {
          "base_uri": "https://localhost:8080/"
        },
        "id": "O3IshgMOcT0d",
        "outputId": "ec6de4b7-02c2-4743-9f25-d7ad9e8bbb99"
      },
      "source": [
        "from sklearn.base import BaseEstimator\r\n",
        "\r\n",
        "class Never9Classifier(BaseEstimator):\r\n",
        "  def fit(self, X, y=None):\r\n",
        "    pass\r\n",
        "  def predict(self, X):\r\n",
        "    return np.zeros((len(X), 1), dtype=bool)\r\n",
        "\r\n",
        "never_9_clf = Never9Classifier()\r\n",
        "cross_val_score(never_9_clf, X_train, y_train_9, cv=3, scoring=\"accuracy\")"
      ],
      "execution_count": 15,
      "outputs": [
        {
          "output_type": "execute_result",
          "data": {
            "text/plain": [
              "array([0.89975, 0.9014 , 0.9014 ])"
            ]
          },
          "metadata": {
            "tags": []
          },
          "execution_count": 15
        }
      ]
    },
    {
      "cell_type": "markdown",
      "metadata": {
        "id": "r_EqJpn4d__g"
      },
      "source": [
        "Sim, 90% de acurácia. Isso é pq só 10% das imagens são \"9\" então se sempre chutar \"Não 9\" vai acertar 90% das vezes."
      ]
    },
    {
      "cell_type": "markdown",
      "metadata": {
        "id": "EW2TEWLiIAps"
      },
      "source": [
        "Matriz de Confusão"
      ]
    },
    {
      "cell_type": "code",
      "metadata": {
        "id": "IoUZa8oSdv4v"
      },
      "source": [
        "from sklearn.model_selection import cross_val_predict\r\n",
        "\r\n",
        "y_train_pred = cross_val_predict(sgd_clf, X_train, y_train_9, cv=3)"
      ],
      "execution_count": 16,
      "outputs": []
    },
    {
      "cell_type": "code",
      "metadata": {
        "colab": {
          "base_uri": "https://localhost:8080/"
        },
        "id": "jaYBcZpdJh9h",
        "outputId": "995e1d02-cca5-4297-c7d1-d553b313968f"
      },
      "source": [
        "from sklearn.metrics import confusion_matrix\r\n",
        "confusion_matrix(y_train_9, y_train_pred)"
      ],
      "execution_count": 17,
      "outputs": [
        {
          "output_type": "execute_result",
          "data": {
            "text/plain": [
              "array([[51825,  2226],\n",
              "       [ 1013,  4936]])"
            ]
          },
          "metadata": {
            "tags": []
          },
          "execution_count": 17
        }
      ]
    },
    {
      "cell_type": "markdown",
      "metadata": {
        "id": "9d5By_pvLSXK"
      },
      "source": [
        "O importante da Matrix de confusão é aprender que as linhas representam a classe real e as colunas as classes previstas.\r\n",
        "\r\n",
        "\r\n",
        "```\r\n",
        "   S  N\r\n",
        "S VP  FN\r\n",
        "N FP  VN\r\n",
        "```\r\n",
        "\r\n"
      ]
    },
    {
      "cell_type": "markdown",
      "metadata": {
        "id": "h6TEHjxaNUIs"
      },
      "source": [
        "Precisão e Revocação"
      ]
    },
    {
      "cell_type": "code",
      "metadata": {
        "colab": {
          "base_uri": "https://localhost:8080/"
        },
        "id": "ZjWk_46DL6rd",
        "outputId": "9a213f2c-1209-423e-cecc-ae728b9e0d77"
      },
      "source": [
        "from sklearn.metrics import precision_score, recall_score\r\n",
        "print(precision_score(y_train_9, y_train_pred))\r\n",
        "print(recall_score(y_train_9, y_train_pred))"
      ],
      "execution_count": 19,
      "outputs": [
        {
          "output_type": "stream",
          "text": [
            "0.6891929628595365\n",
            "0.8297192805513531\n"
          ],
          "name": "stdout"
        }
      ]
    },
    {
      "cell_type": "markdown",
      "metadata": {
        "id": "xaVyr4K8N80B"
      },
      "source": [
        "Isso significa que nosso modelo só acerta 68% das vezes em que diz que é um '9' e só detecta 82% dos '9'"
      ]
    },
    {
      "cell_type": "markdown",
      "metadata": {
        "id": "GZ0hf-42OSiE"
      },
      "source": [
        "Uma outra métrica combina precissão e revocação é a *pontuação F1*. Isso é útil para comparar classificadores."
      ]
    },
    {
      "cell_type": "code",
      "metadata": {
        "colab": {
          "base_uri": "https://localhost:8080/"
        },
        "id": "tDGsBOFzOfi5",
        "outputId": "7e8f8775-e8ba-4835-c009-26b7c50df0db"
      },
      "source": [
        "from sklearn.metrics import f1_score\r\n",
        "f1_score(y_train_9, y_train_pred)"
      ],
      "execution_count": 20,
      "outputs": [
        {
          "output_type": "execute_result",
          "data": {
            "text/plain": [
              "0.7529555335214706"
            ]
          },
          "metadata": {
            "tags": []
          },
          "execution_count": 20
        }
      ]
    },
    {
      "cell_type": "markdown",
      "metadata": {
        "id": "Am2GWpszPY8N"
      },
      "source": [
        "A pontuação F1 favorece classificadores com precisão e revocação similares. Nem sempre isso é o que queremos. Por exemplo se você está criando um classificador que dectecta se um vídeo é adequado para crianças é preferível que ele bloqueie bons vídeos (baixa revocação)(-FP) e mantivesse somente os adequados (alta precisão)(+VP). Não dá pra conseguir os dois altos infelizmente."
      ]
    },
    {
      "cell_type": "code",
      "metadata": {
        "colab": {
          "base_uri": "https://localhost:8080/"
        },
        "id": "Q75IsKb7cBjL",
        "outputId": "0caed18f-f36d-4049-d884-ee1a68b938ac"
      },
      "source": [
        "# Compensação da Precisão/Revocação\r\n",
        "y_scores = sgd_clf.decision_function([some_digit])\r\n",
        "print(y_scores)\r\n",
        "threshold = 0\r\n",
        "y_some_digit_pred = (y_scores > threshold)\r\n",
        "print(y_some_digit_pred)"
      ],
      "execution_count": 24,
      "outputs": [
        {
          "output_type": "stream",
          "text": [
            "[-1817.27034409]\n",
            "[False]\n"
          ],
          "name": "stdout"
        }
      ]
    },
    {
      "cell_type": "code",
      "metadata": {
        "colab": {
          "base_uri": "https://localhost:8080/"
        },
        "id": "hc-treXjdnoh",
        "outputId": "b6947744-5ca1-4287-f92c-a70f382b249b"
      },
      "source": [
        "threshold = -200000\r\n",
        "y_some_digit_pred = (y_scores > threshold)\r\n",
        "print(y_some_digit_pred)"
      ],
      "execution_count": 25,
      "outputs": [
        {
          "output_type": "stream",
          "text": [
            "[ True]\n"
          ],
          "name": "stdout"
        }
      ]
    },
    {
      "cell_type": "code",
      "metadata": {
        "id": "caf5wKNDeUs9"
      },
      "source": [
        "y_scores = cross_val_predict(sgd_clf, X_train, y_train_9, cv=3, method=\"decision_function\")"
      ],
      "execution_count": 26,
      "outputs": []
    },
    {
      "cell_type": "code",
      "metadata": {
        "id": "QndPxFWSexv4"
      },
      "source": [
        "from sklearn.metrics import precision_recall_curve\r\n",
        "\r\n",
        "precisions, recalls, thresholds = precision_recall_curve(y_train_9, y_scores)"
      ],
      "execution_count": 28,
      "outputs": []
    },
    {
      "cell_type": "code",
      "metadata": {
        "colab": {
          "base_uri": "https://localhost:8080/",
          "height": 283
        },
        "id": "NE7K0CCVfJtK",
        "outputId": "8e6a9c6a-fee4-45c5-b4c9-ebc0d4edbeab"
      },
      "source": [
        "def plt_precision_recall_vs_threshold(precisions, recalls, thresholds):\r\n",
        "  plt.plot(thresholds, precisions[:-1], \"b--\", label=\"Precision\")\r\n",
        "  plt.plot(thresholds, recalls[:-1], \"g-\", label=\"Recall\")\r\n",
        "  plt.xlabel(\"Threshold\")\r\n",
        "  plt.legend(loc=\"center left\")\r\n",
        "  plt.ylim([0,1])\r\n",
        "\r\n",
        "plt_precision_recall_vs_threshold(precisions, recalls, thresholds)\r\n",
        "plt.show()"
      ],
      "execution_count": 29,
      "outputs": [
        {
          "output_type": "display_data",
          "data": {
            "image/png": "[encoded data removed]",
            "text/plain": [
              "<Figure size 432x288 with 1 Axes>"
            ]
          },
          "metadata": {
            "tags": [],
            "needs_background": "light"
          }
        }
      ]
    },
    {
      "cell_type": "code",
      "metadata": {
        "colab": {
          "base_uri": "https://localhost:8080/"
        },
        "id": "uwpq52vSf_yG",
        "outputId": "1ee95b01-4b10-4d27-e24b-683a188cb4d2"
      },
      "source": [
        "y_train_pred_95 = (y_scores > 10000)\r\n",
        "\r\n",
        "print(precision_score(y_train_9, y_train_pred_95))\r\n",
        "print(recall_score(y_train_9, y_train_pred_95))"
      ],
      "execution_count": 31,
      "outputs": [
        {
          "output_type": "stream",
          "text": [
            "0.9485049833887044\n",
            "0.09598251807026391\n"
          ],
          "name": "stdout"
        }
      ]
    },
    {
      "cell_type": "markdown",
      "metadata": {
        "id": "c2yyJ48AiTGQ"
      },
      "source": [
        "A curva ROC"
      ]
    },
    {
      "cell_type": "code",
      "metadata": {
        "colab": {
          "base_uri": "https://localhost:8080/",
          "height": 283
        },
        "id": "wxJ6Dojuhteq",
        "outputId": "b32d68a3-8a43-4bdc-f8ef-a32d49344197"
      },
      "source": [
        "from sklearn.metrics import roc_curve\r\n",
        "\r\n",
        "fpr, tpr, thresholds = roc_curve(y_train_9, y_scores)\r\n",
        "\r\n",
        "def plot_roc_curve(fpr, tpr, label=None):\r\n",
        "  plt.plot(fpr, tpr, linewidth=2, label=label)\r\n",
        "  plt.plot([0,1],[0,1], 'k--')\r\n",
        "  plt.axis([0, 1, 0, 1])\r\n",
        "  plt.xlabel('False Positive Rare')\r\n",
        "  plt.ylabel('True Positive Rare')\r\n",
        "\r\n",
        "plot_roc_curve(fpr, tpr)\r\n",
        "plt.show()"
      ],
      "execution_count": 33,
      "outputs": [
        {
          "output_type": "display_data",
          "data": {
            "image/png": "[encoded data removed]",
            "text/plain": [
              "<Figure size 432x288 with 1 Axes>"
            ]
          },
          "metadata": {
            "tags": [],
            "needs_background": "light"
          }
        }
      ]
    },
    {
      "cell_type": "code",
      "metadata": {
        "colab": {
          "base_uri": "https://localhost:8080/"
        },
        "id": "8TkHxLGXj-xb",
        "outputId": "f24f5996-a42c-47c1-a0c9-2cc7c92f3312"
      },
      "source": [
        "#ROC AUC (ÁREA ABAIXO DA CURVA)\r\n",
        "from sklearn.metrics import roc_auc_score\r\n",
        "roc_auc_score(y_train_9, y_scores)"
      ],
      "execution_count": 34,
      "outputs": [
        {
          "output_type": "execute_result",
          "data": {
            "text/plain": [
              "0.9627285666299753"
            ]
          },
          "metadata": {
            "tags": []
          },
          "execution_count": 34
        }
      ]
    },
    {
      "cell_type": "code",
      "metadata": {
        "colab": {
          "base_uri": "https://localhost:8080/",
          "height": 283
        },
        "id": "nLxbR95Ckq9Z",
        "outputId": "b274bae4-6e02-4ba5-a352-3795d1b69c2d"
      },
      "source": [
        "#comparar curva ROC com o RandomForestClassifier\r\n",
        "from sklearn.ensemble import RandomForestClassifier\r\n",
        "\r\n",
        "forest_clf = RandomForestClassifier(random_state=42)\r\n",
        "y_probas_forest = cross_val_predict(forest_clf, X_train, y_train_9, cv=3, method=\"predict_proba\")\r\n",
        "\r\n",
        "y_scores_forest = y_probas_forest[:, 1]\r\n",
        "fpr_forest, tpr_forest, thresholds_forest = roc_curve(y_train_9, y_scores_forest)\r\n",
        "\r\n",
        "plt.plot(fpr, tpr, \"b:\", label=\"SGD\")\r\n",
        "plot_roc_curve(fpr_forest, tpr_forest, \"Random Forest\")\r\n",
        "plt.legend(loc=\"lower right\")\r\n",
        "plt.show()"
      ],
      "execution_count": 36,
      "outputs": [
        {
          "output_type": "display_data",
          "data": {
            "image/png": "[encoded data removed]",
            "text/plain": [
              "<Figure size 432x288 with 1 Axes>"
            ]
          },
          "metadata": {
            "tags": [],
            "needs_background": "light"
          }
        }
      ]
    },
    {
      "cell_type": "code",
      "metadata": {
        "colab": {
          "base_uri": "https://localhost:8080/"
        },
        "id": "KhA7Vkarm8Vh",
        "outputId": "fc209daa-9d12-4e5d-8f39-b411eaa34639"
      },
      "source": [
        "roc_auc_score(y_train_9, y_scores_forest)"
      ],
      "execution_count": 37,
      "outputs": [
        {
          "output_type": "execute_result",
          "data": {
            "text/plain": [
              "0.9951840416905895"
            ]
          },
          "metadata": {
            "tags": []
          },
          "execution_count": 37
        }
      ]
    }
  ]
}