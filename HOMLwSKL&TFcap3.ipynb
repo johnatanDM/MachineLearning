{
  "nbformat": 4,
  "nbformat_minor": 0,
  "metadata": {
    "colab": {
      "name": "HOMLwSKL&TFcap3.ipynb",
      "provenance": [],
      "collapsed_sections": [],
      "authorship_tag": "ABX9TyN75oZZxLMdaCWKtvEPEWlE",
      "include_colab_link": true
    },
    "kernelspec": {
      "display_name": "Python 3",
      "name": "python3"
    }
  },
  "cells": [
    {
      "cell_type": "markdown",
      "metadata": {
        "id": "view-in-github",
        "colab_type": "text"
      },
      "source": [
        "<a href=\"https://colab.research.google.com/github/johnatanDM/MachineLearning/blob/main/HOMLwSKL%26TFcap3.ipynb\" target=\"_parent\"><img src=\"https://colab.research.google.com/assets/colab-badge.svg\" alt=\"Open In Colab\"/></a>"
      ]
    },
    {
      "cell_type": "markdown",
      "metadata": {
        "id": "uTxP2bnLycZv"
      },
      "source": [
        "#Classificação\r\n",
        "\r\n",
        "Baixando o dataset MNIST"
      ]
    },
    {
      "cell_type": "code",
      "metadata": {
        "id": "uv2ISPA2xvRr"
      },
      "source": [
        "from sklearn.datasets import fetch_openml\r\n",
        "X,y = fetch_openml('mnist_784', version=1, return_X_y=True, as_frame=False)"
      ],
      "execution_count": null,
      "outputs": []
    },
    {
      "cell_type": "code",
      "metadata": {
        "colab": {
          "base_uri": "https://localhost:8080/"
        },
        "id": "LSqPpGUx2rgc",
        "outputId": "45319675-f4ea-496b-e4be-5e2a9cb46518"
      },
      "source": [
        "X.shape"
      ],
      "execution_count": null,
      "outputs": [
        {
          "output_type": "execute_result",
          "data": {
            "text/plain": [
              "(70000, 784)"
            ]
          },
          "metadata": {
            "tags": []
          },
          "execution_count": 2
        }
      ]
    },
    {
      "cell_type": "code",
      "metadata": {
        "colab": {
          "base_uri": "https://localhost:8080/"
        },
        "id": "-4lKNqZM3XIq",
        "outputId": "cab286bc-55bb-4970-9240-99a6f4819256"
      },
      "source": [
        "y.shape"
      ],
      "execution_count": null,
      "outputs": [
        {
          "output_type": "execute_result",
          "data": {
            "text/plain": [
              "(70000,)"
            ]
          },
          "metadata": {
            "tags": []
          },
          "execution_count": 3
        }
      ]
    },
    {
      "cell_type": "code",
      "metadata": {
        "colab": {
          "base_uri": "https://localhost:8080/",
          "height": 248
        },
        "id": "vogAcP8D5rwv",
        "outputId": "52c09638-ab02-4bfa-e387-c361b4e68bf3"
      },
      "source": [
        "#vamos ver um exemplo desse dataset\r\n",
        "import matplotlib\r\n",
        "import matplotlib.pyplot as plt\r\n",
        "\r\n",
        "some_digit = X[4]\r\n",
        "some_digit_image = some_digit.reshape(28, 28)\r\n",
        "\r\n",
        "plt.imshow(some_digit_image, cmap = matplotlib.cm.binary, interpolation=\"nearest\")\r\n",
        "plt.axis(\"off\")\r\n",
        "plt.show()"
      ],
      "execution_count": null,
      "outputs": [
        {
          "output_type": "display_data",
          "data": {
            "image/png": "[encoded data removed]",
            "text/plain": [
              "<Figure size 432x288 with 1 Axes>"
            ]
          },
          "metadata": {
            "tags": []
          }
        }
      ]
    },
    {
      "cell_type": "code",
      "metadata": {
        "colab": {
          "base_uri": "https://localhost:8080/",
          "height": 35
        },
        "id": "NG2r6FVr6z9M",
        "outputId": "a90ef17a-cf0c-4d31-bc79-18329d6670fb"
      },
      "source": [
        "y[36000]"
      ],
      "execution_count": null,
      "outputs": [
        {
          "output_type": "execute_result",
          "data": {
            "application/vnd.google.colaboratory.intrinsic+json": {
              "type": "string"
            },
            "text/plain": [
              "'9'"
            ]
          },
          "metadata": {
            "tags": []
          },
          "execution_count": 5
        }
      ]
    },
    {
      "cell_type": "code",
      "metadata": {
        "id": "1sdkv5iz7Au0"
      },
      "source": [
        "#separar conjunto de treino e conjunto de teste\r\n",
        "X_train, X_test, y_train, y_test = X[:60000], X[60000:], y[:60000], y[60000:]"
      ],
      "execution_count": null,
      "outputs": []
    },
    {
      "cell_type": "code",
      "metadata": {
        "id": "fGYpI8_m8Ah9"
      },
      "source": [
        "#emabaralhar o conjunto de treino\r\n",
        "import numpy as np\r\n",
        "\r\n",
        "shuffle_index = np.random.permutation(60000)\r\n",
        "X_train, y_train = X_train[shuffle_index], y_train[shuffle_index]"
      ],
      "execution_count": null,
      "outputs": []
    },
    {
      "cell_type": "markdown",
      "metadata": {
        "id": "SO_hbHVzAMF0"
      },
      "source": [
        "Treinando um Classificador binário"
      ]
    },
    {
      "cell_type": "code",
      "metadata": {
        "colab": {
          "base_uri": "https://localhost:8080/",
          "height": 53
        },
        "id": "ZWx1q6qP8cK9",
        "outputId": "135700aa-ce9a-42f6-8a34-75f63cde741d"
      },
      "source": [
        "y_train_9 = (y_train == '9')\r\n",
        "y_test_9 = (y_test == '9')\r\n",
        "print(y_train_9)\r\n",
        "y_train[0]"
      ],
      "execution_count": null,
      "outputs": [
        {
          "output_type": "stream",
          "text": [
            "[False False False ... False False False]\n"
          ],
          "name": "stdout"
        },
        {
          "output_type": "execute_result",
          "data": {
            "application/vnd.google.colaboratory.intrinsic+json": {
              "type": "string"
            },
            "text/plain": [
              "'8'"
            ]
          },
          "metadata": {
            "tags": []
          },
          "execution_count": 8
        }
      ]
    },
    {
      "cell_type": "code",
      "metadata": {
        "id": "HczGTJdRC3gJ"
      },
      "source": [
        "# np.unique(y_test_9)"
      ],
      "execution_count": null,
      "outputs": []
    },
    {
      "cell_type": "code",
      "metadata": {
        "colab": {
          "base_uri": "https://localhost:8080/"
        },
        "id": "Ah1Tr8XNBIIx",
        "outputId": "c06bf881-0b81-485e-b717-e4fdcbc4988c"
      },
      "source": [
        "#iremos usar o SGD - Gradiente Descendente Estocástico\r\n",
        "from sklearn.linear_model import SGDClassifier\r\n",
        "\r\n",
        "sgd_clf = SGDClassifier(random_state=42, max_iter=2000)\r\n",
        "sgd_clf.fit(X_train, y_train_9)"
      ],
      "execution_count": null,
      "outputs": [
        {
          "output_type": "execute_result",
          "data": {
            "text/plain": [
              "SGDClassifier(alpha=0.0001, average=False, class_weight=None,\n",
              "              early_stopping=False, epsilon=0.1, eta0=0.0, fit_intercept=True,\n",
              "              l1_ratio=0.15, learning_rate='optimal', loss='hinge',\n",
              "              max_iter=2000, n_iter_no_change=5, n_jobs=None, penalty='l2',\n",
              "              power_t=0.5, random_state=42, shuffle=True, tol=0.001,\n",
              "              validation_fraction=0.1, verbose=0, warm_start=False)"
            ]
          },
          "metadata": {
            "tags": []
          },
          "execution_count": 10
        }
      ]
    },
    {
      "cell_type": "code",
      "metadata": {
        "colab": {
          "base_uri": "https://localhost:8080/"
        },
        "id": "3gvF3EXRBs_X",
        "outputId": "0b03bf32-fcc8-412e-b017-bc4a45e4fab0"
      },
      "source": [
        "#fazendo as predições\r\n",
        "sgd_clf.predict([some_digit])"
      ],
      "execution_count": null,
      "outputs": [
        {
          "output_type": "execute_result",
          "data": {
            "text/plain": [
              "array([False])"
            ]
          },
          "metadata": {
            "tags": []
          },
          "execution_count": 11
        }
      ]
    },
    {
      "cell_type": "markdown",
      "metadata": {
        "id": "TivH-PfpX1YY"
      },
      "source": [
        "Medindo o desempenho"
      ]
    },
    {
      "cell_type": "code",
      "metadata": {
        "colab": {
          "base_uri": "https://localhost:8080/"
        },
        "id": "5fwkcpXzX29i",
        "outputId": "1e101878-2a55-491f-a425-2c36d4c3ba83"
      },
      "source": [
        "#Validação cruzada\r\n",
        "from sklearn.model_selection import StratifiedKFold\r\n",
        "from sklearn.base import clone\r\n",
        "\r\n",
        "skfolds = StratifiedKFold(n_splits=3, shuffle=True, random_state=42)\r\n",
        "\r\n",
        "for train_index, test_index in skfolds.split(X_train, y_train_9):\r\n",
        "  clone_cfl = clone(sgd_clf)\r\n",
        "  X_train_folds = X_train[train_index]\r\n",
        "  y_train_folds = y_train_9[train_index]\r\n",
        "  X_test_fold = X_train[test_index]\r\n",
        "  y_test_fold = y_train_9[test_index]\r\n",
        "\r\n",
        "  clone_cfl.fit(X_train_folds, y_train_folds)\r\n",
        "  y_pred = clone_cfl.predict(X_test_fold)\r\n",
        "  n_corret = sum(y_pred == y_test_fold)\r\n",
        "  print(n_corret / len(y_pred))"
      ],
      "execution_count": null,
      "outputs": [
        {
          "output_type": "stream",
          "text": [
            "0.9491\n",
            "0.7919\n",
            "0.94485\n"
          ],
          "name": "stdout"
        }
      ]
    },
    {
      "cell_type": "code",
      "metadata": {
        "colab": {
          "base_uri": "https://localhost:8080/"
        },
        "id": "PIrwRk33ZuQ-",
        "outputId": "70d4a4e2-a7c8-4990-cae7-92e2b0c0c306"
      },
      "source": [
        "#utilizando a função cross_val_score()\r\n",
        "from sklearn.model_selection import cross_val_score\r\n",
        "cross_val_score(sgd_clf, X_train, y_train_9, cv=3, scoring=\"accuracy\")"
      ],
      "execution_count": null,
      "outputs": [
        {
          "output_type": "execute_result",
          "data": {
            "text/plain": [
              "array([0.94755, 0.94705, 0.94955])"
            ]
          },
          "metadata": {
            "tags": []
          },
          "execution_count": 13
        }
      ]
    },
    {
      "cell_type": "markdown",
      "metadata": {
        "id": "DCQapawLc51U"
      },
      "source": [
        "95% de acurácia parece incrível, mas e se fizermos um classificador ridículo que apenas diz que todos não são 9. Quanto será que ele acerta?"
      ]
    },
    {
      "cell_type": "code",
      "metadata": {
        "colab": {
          "base_uri": "https://localhost:8080/"
        },
        "id": "O3IshgMOcT0d",
        "outputId": "98d1f356-6a8b-4268-e4cc-ce1633d7f848"
      },
      "source": [
        "from sklearn.base import BaseEstimator\r\n",
        "\r\n",
        "class Never9Classifier(BaseEstimator):\r\n",
        "  def fit(self, X, y=None):\r\n",
        "    pass\r\n",
        "  def predict(self, X):\r\n",
        "    return np.zeros((len(X), 1), dtype=bool)\r\n",
        "\r\n",
        "never_9_clf = Never9Classifier()\r\n",
        "cross_val_score(never_9_clf, X_train, y_train_9, cv=3, scoring=\"accuracy\")"
      ],
      "execution_count": null,
      "outputs": [
        {
          "output_type": "execute_result",
          "data": {
            "text/plain": [
              "array([0.9006 , 0.89985, 0.9021 ])"
            ]
          },
          "metadata": {
            "tags": []
          },
          "execution_count": 14
        }
      ]
    },
    {
      "cell_type": "markdown",
      "metadata": {
        "id": "r_EqJpn4d__g"
      },
      "source": [
        "Sim, 90% de acurácia. Isso é pq só 10% das imagens são \"9\" então se sempre chutar \"Não 9\" vai acertar 90% das vezes."
      ]
    },
    {
      "cell_type": "markdown",
      "metadata": {
        "id": "EW2TEWLiIAps"
      },
      "source": [
        "Matriz de Confusão"
      ]
    },
    {
      "cell_type": "code",
      "metadata": {
        "id": "IoUZa8oSdv4v"
      },
      "source": [
        "from sklearn.model_selection import cross_val_predict\r\n",
        "\r\n",
        "y_train_pred = cross_val_predict(sgd_clf, X_train, y_train_9, cv=3)"
      ],
      "execution_count": null,
      "outputs": []
    },
    {
      "cell_type": "code",
      "metadata": {
        "colab": {
          "base_uri": "https://localhost:8080/"
        },
        "id": "jaYBcZpdJh9h",
        "outputId": "a1af7e52-27e1-4ced-a156-a4b84abf9698"
      },
      "source": [
        "from sklearn.metrics import confusion_matrix\r\n",
        "confusion_matrix(y_train_9, y_train_pred)"
      ],
      "execution_count": null,
      "outputs": [
        {
          "output_type": "execute_result",
          "data": {
            "text/plain": [
              "array([[52214,  1837],\n",
              "       [ 1280,  4669]])"
            ]
          },
          "metadata": {
            "tags": []
          },
          "execution_count": 16
        }
      ]
    },
    {
      "cell_type": "markdown",
      "metadata": {
        "id": "9d5By_pvLSXK"
      },
      "source": [
        "O importante da Matrix de confusão é aprender que as linhas representam a classe real e as colunas as classes previstas.\r\n",
        "\r\n",
        "\r\n",
        "```\r\n",
        "   S  N\r\n",
        "S VP  FN\r\n",
        "N FP  VN\r\n",
        "```\r\n",
        "\r\n"
      ]
    },
    {
      "cell_type": "markdown",
      "metadata": {
        "id": "h6TEHjxaNUIs"
      },
      "source": [
        "Precisão e Revocação"
      ]
    },
    {
      "cell_type": "code",
      "metadata": {
        "colab": {
          "base_uri": "https://localhost:8080/"
        },
        "id": "ZjWk_46DL6rd",
        "outputId": "73c3923e-12b6-4368-9a4c-a20fe5cbf68b"
      },
      "source": [
        "from sklearn.metrics import precision_score, recall_score\r\n",
        "print(precision_score(y_train_9, y_train_pred))\r\n",
        "print(recall_score(y_train_9, y_train_pred))"
      ],
      "execution_count": null,
      "outputs": [
        {
          "output_type": "stream",
          "text": [
            "0.7176452505379649\n",
            "0.7848377878635064\n"
          ],
          "name": "stdout"
        }
      ]
    },
    {
      "cell_type": "markdown",
      "metadata": {
        "id": "xaVyr4K8N80B"
      },
      "source": [
        "Isso significa que nosso modelo só acerta 68% das vezes em que diz que é um '9' e só detecta 82% dos '9'"
      ]
    },
    {
      "cell_type": "markdown",
      "metadata": {
        "id": "GZ0hf-42OSiE"
      },
      "source": [
        "Uma outra métrica combina precissão e revocação é a *pontuação F1*. Isso é útil para comparar classificadores."
      ]
    },
    {
      "cell_type": "code",
      "metadata": {
        "colab": {
          "base_uri": "https://localhost:8080/"
        },
        "id": "tDGsBOFzOfi5",
        "outputId": "a1ebb738-7b57-4647-df47-85b753937025"
      },
      "source": [
        "from sklearn.metrics import f1_score\r\n",
        "f1_score(y_train_9, y_train_pred)"
      ],
      "execution_count": null,
      "outputs": [
        {
          "output_type": "execute_result",
          "data": {
            "text/plain": [
              "0.7497390606182255"
            ]
          },
          "metadata": {
            "tags": []
          },
          "execution_count": 18
        }
      ]
    },
    {
      "cell_type": "markdown",
      "metadata": {
        "id": "Am2GWpszPY8N"
      },
      "source": [
        "A pontuação F1 favorece classificadores com precisão e revocação similares. Nem sempre isso é o que queremos. Por exemplo se você está criando um classificador que dectecta se um vídeo é adequado para crianças é preferível que ele bloqueie bons vídeos (baixa revocação)(-FP) e mantivesse somente os adequados (alta precisão)(+VP). Não dá pra conseguir os dois altos infelizmente."
      ]
    },
    {
      "cell_type": "code",
      "metadata": {
        "colab": {
          "base_uri": "https://localhost:8080/"
        },
        "id": "Q75IsKb7cBjL",
        "outputId": "9131d681-6039-4f82-898c-155329ec718a"
      },
      "source": [
        "# Compensação da Precisão/Revocação\r\n",
        "y_scores = sgd_clf.decision_function([some_digit])\r\n",
        "print(y_scores)\r\n",
        "threshold = 0\r\n",
        "y_some_digit_pred = (y_scores > threshold)\r\n",
        "print(y_some_digit_pred)"
      ],
      "execution_count": null,
      "outputs": [
        {
          "output_type": "stream",
          "text": [
            "[-216.79353983]\n",
            "[False]\n"
          ],
          "name": "stdout"
        }
      ]
    },
    {
      "cell_type": "code",
      "metadata": {
        "colab": {
          "base_uri": "https://localhost:8080/"
        },
        "id": "hc-treXjdnoh",
        "outputId": "91b6979d-4ef1-4814-a850-93f46f006017"
      },
      "source": [
        "threshold = -200000\r\n",
        "y_some_digit_pred = (y_scores > threshold)\r\n",
        "print(y_some_digit_pred)"
      ],
      "execution_count": null,
      "outputs": [
        {
          "output_type": "stream",
          "text": [
            "[ True]\n"
          ],
          "name": "stdout"
        }
      ]
    },
    {
      "cell_type": "code",
      "metadata": {
        "id": "caf5wKNDeUs9"
      },
      "source": [
        "y_scores = cross_val_predict(sgd_clf, X_train, y_train_9, cv=3, method=\"decision_function\")"
      ],
      "execution_count": null,
      "outputs": []
    },
    {
      "cell_type": "code",
      "metadata": {
        "id": "QndPxFWSexv4"
      },
      "source": [
        "from sklearn.metrics import precision_recall_curve\r\n",
        "\r\n",
        "precisions, recalls, thresholds = precision_recall_curve(y_train_9, y_scores)"
      ],
      "execution_count": null,
      "outputs": []
    },
    {
      "cell_type": "code",
      "metadata": {
        "colab": {
          "base_uri": "https://localhost:8080/",
          "height": 283
        },
        "id": "NE7K0CCVfJtK",
        "outputId": "b69860a0-4695-4df2-c990-113c6f1de0d1"
      },
      "source": [
        "def plt_precision_recall_vs_threshold(precisions, recalls, thresholds):\r\n",
        "  plt.plot(thresholds, precisions[:-1], \"b--\", label=\"Precision\")\r\n",
        "  plt.plot(thresholds, recalls[:-1], \"g-\", label=\"Recall\")\r\n",
        "  plt.xlabel(\"Threshold\")\r\n",
        "  plt.legend(loc=\"center left\")\r\n",
        "  plt.ylim([0,1])\r\n",
        "\r\n",
        "plt_precision_recall_vs_threshold(precisions, recalls, thresholds)\r\n",
        "plt.show()"
      ],
      "execution_count": null,
      "outputs": [
        {
          "output_type": "display_data",
          "data": {
            "image/png": "[encoded data removed]",
            "text/plain": [
              "<Figure size 432x288 with 1 Axes>"
            ]
          },
          "metadata": {
            "tags": []
          }
        }
      ]
    },
    {
      "cell_type": "code",
      "metadata": {
        "colab": {
          "base_uri": "https://localhost:8080/"
        },
        "id": "uwpq52vSf_yG",
        "outputId": "d9f59f84-ea56-41a0-fb4d-0436746eb9bf"
      },
      "source": [
        "y_train_pred_95 = (y_scores > 10000)\r\n",
        "\r\n",
        "print(precision_score(y_train_9, y_train_pred_95))\r\n",
        "print(recall_score(y_train_9, y_train_pred_95))"
      ],
      "execution_count": null,
      "outputs": [
        {
          "output_type": "stream",
          "text": [
            "0.9390862944162437\n",
            "0.06219532694570516\n"
          ],
          "name": "stdout"
        }
      ]
    },
    {
      "cell_type": "markdown",
      "metadata": {
        "id": "c2yyJ48AiTGQ"
      },
      "source": [
        "A curva ROC"
      ]
    },
    {
      "cell_type": "code",
      "metadata": {
        "colab": {
          "base_uri": "https://localhost:8080/",
          "height": 283
        },
        "id": "wxJ6Dojuhteq",
        "outputId": "cb201e74-4e11-4527-a689-0e600db659c5"
      },
      "source": [
        "from sklearn.metrics import roc_curve\r\n",
        "\r\n",
        "fpr, tpr, thresholds = roc_curve(y_train_9, y_scores)\r\n",
        "\r\n",
        "def plot_roc_curve(fpr, tpr, label=None):\r\n",
        "  plt.plot(fpr, tpr, linewidth=2, label=label)\r\n",
        "  plt.plot([0,1],[0,1], 'k--')\r\n",
        "  plt.axis([0, 1, 0, 1])\r\n",
        "  plt.xlabel('False Positive Rare')\r\n",
        "  plt.ylabel('True Positive Rare')\r\n",
        "\r\n",
        "plot_roc_curve(fpr, tpr)\r\n",
        "plt.show()"
      ],
      "execution_count": null,
      "outputs": [
        {
          "output_type": "display_data",
          "data": {
            "image/png": "[encoded data removed]",
            "text/plain": [
              "<Figure size 432x288 with 1 Axes>"
            ]
          },
          "metadata": {
            "tags": []
          }
        }
      ]
    },
    {
      "cell_type": "code",
      "metadata": {
        "colab": {
          "base_uri": "https://localhost:8080/"
        },
        "id": "8TkHxLGXj-xb",
        "outputId": "9c02e07b-fa43-4cc8-9d3f-db43b9784ae4"
      },
      "source": [
        "#ROC AUC (ÁREA ABAIXO DA CURVA)\r\n",
        "from sklearn.metrics import roc_auc_score\r\n",
        "roc_auc_score(y_train_9, y_scores)"
      ],
      "execution_count": null,
      "outputs": [
        {
          "output_type": "execute_result",
          "data": {
            "text/plain": [
              "0.9635365979956317"
            ]
          },
          "metadata": {
            "tags": []
          },
          "execution_count": 26
        }
      ]
    },
    {
      "cell_type": "code",
      "metadata": {
        "colab": {
          "base_uri": "https://localhost:8080/",
          "height": 283
        },
        "id": "nLxbR95Ckq9Z",
        "outputId": "828ef74a-c4a0-4851-e645-70192782dac3"
      },
      "source": [
        "#comparar curva ROC com o RandomForestClassifier\r\n",
        "from sklearn.ensemble import RandomForestClassifier\r\n",
        "\r\n",
        "forest_clf = RandomForestClassifier(random_state=42)\r\n",
        "y_probas_forest = cross_val_predict(forest_clf, X_train, y_train_9, cv=3, method=\"predict_proba\")\r\n",
        "\r\n",
        "y_scores_forest = y_probas_forest[:, 1]\r\n",
        "fpr_forest, tpr_forest, thresholds_forest = roc_curve(y_train_9, y_scores_forest)\r\n",
        "\r\n",
        "plt.plot(fpr, tpr, \"b:\", label=\"SGD\")\r\n",
        "plot_roc_curve(fpr_forest, tpr_forest, \"Random Forest\")\r\n",
        "plt.legend(loc=\"lower right\")\r\n",
        "plt.show()"
      ],
      "execution_count": null,
      "outputs": [
        {
          "output_type": "display_data",
          "data": {
            "image/png": "[encoded data removed]",
            "text/plain": [
              "<Figure size 432x288 with 1 Axes>"
            ]
          },
          "metadata": {
            "tags": []
          }
        }
      ]
    },
    {
      "cell_type": "code",
      "metadata": {
        "colab": {
          "base_uri": "https://localhost:8080/"
        },
        "id": "KhA7Vkarm8Vh",
        "outputId": "f8be9f2a-fba5-4d97-f996-0942c5c3e469"
      },
      "source": [
        "roc_auc_score(y_train_9, y_scores_forest)"
      ],
      "execution_count": null,
      "outputs": [
        {
          "output_type": "execute_result",
          "data": {
            "text/plain": [
              "0.9950918785576707"
            ]
          },
          "metadata": {
            "tags": []
          },
          "execution_count": 28
        }
      ]
    },
    {
      "cell_type": "markdown",
      "metadata": {
        "id": "VzPv7S-jD_JN"
      },
      "source": [
        "#Classificação Multiclasse"
      ]
    },
    {
      "cell_type": "code",
      "metadata": {
        "colab": {
          "base_uri": "https://localhost:8080/"
        },
        "id": "3Mg0u7buEBeS",
        "outputId": "6ac22984-e7c8-4fd0-b1d0-f15518b5e927"
      },
      "source": [
        "sgd_clf.fit(X_train, y_train)\r\n",
        "sgd_clf.predict([some_digit])"
      ],
      "execution_count": null,
      "outputs": [
        {
          "output_type": "execute_result",
          "data": {
            "text/plain": [
              "array(['9'], dtype='<U1')"
            ]
          },
          "metadata": {
            "tags": []
          },
          "execution_count": 29
        }
      ]
    },
    {
      "cell_type": "code",
      "metadata": {
        "colab": {
          "base_uri": "https://localhost:8080/"
        },
        "id": "AQ2lGmclFX7v",
        "outputId": "55dcdc83-a374-4d01-9bf6-91cbcb19229b"
      },
      "source": [
        "some_digit_scores = sgd_clf.decision_function([some_digit])\r\n",
        "some_digit_scores"
      ],
      "execution_count": null,
      "outputs": [
        {
          "output_type": "execute_result",
          "data": {
            "text/plain": [
              "array([[-33836.03620204, -24038.78446959, -22815.32218394,\n",
              "        -11242.93713614,  -5669.638277  , -12385.43019681,\n",
              "        -27075.90747705, -11229.15545362,  -5062.42685809,\n",
              "          -294.95450812]])"
            ]
          },
          "metadata": {
            "tags": []
          },
          "execution_count": 30
        }
      ]
    },
    {
      "cell_type": "code",
      "metadata": {
        "colab": {
          "base_uri": "https://localhost:8080/"
        },
        "id": "emytCgueF2rx",
        "outputId": "701a9bbd-b366-4250-9afa-d4ef7e0858fb"
      },
      "source": [
        "print(np.argmax(some_digit_scores))\r\n",
        "print(sgd_clf.classes_)\r\n",
        "print(sgd_clf.classes_[9])"
      ],
      "execution_count": null,
      "outputs": [
        {
          "output_type": "stream",
          "text": [
            "9\n",
            "['0' '1' '2' '3' '4' '5' '6' '7' '8' '9']\n",
            "9\n"
          ],
          "name": "stdout"
        }
      ]
    },
    {
      "cell_type": "markdown",
      "metadata": {
        "id": "OA1wlPvoMaP3"
      },
      "source": [
        "para forçar o Scikit-Learn a usar *um contra um* ou *um contra todos*, podemos utlizar a Classe `OneVsOneClassifier` ou a `OneVsRestClassifier`"
      ]
    },
    {
      "cell_type": "code",
      "metadata": {
        "colab": {
          "base_uri": "https://localhost:8080/"
        },
        "id": "FlMgjdHFLgV1",
        "outputId": "ffd5b1e5-f2b0-45b6-b811-69ca59ebe2b9"
      },
      "source": [
        "from sklearn.multiclass import OneVsOneClassifier\r\n",
        "ovo_clf = OneVsOneClassifier(SGDClassifier(random_state=42))\r\n",
        "ovo_clf.fit(X_train, y_train)\r\n",
        "print(ovo_clf.predict([some_digit]))\r\n",
        "print(len(ovo_clf.estimators_))"
      ],
      "execution_count": null,
      "outputs": [
        {
          "output_type": "stream",
          "text": [
            "['9']\n",
            "45\n"
          ],
          "name": "stdout"
        }
      ]
    },
    {
      "cell_type": "markdown",
      "metadata": {
        "id": "TpsJdCqOOBHm"
      },
      "source": [
        "Random Forest"
      ]
    },
    {
      "cell_type": "code",
      "metadata": {
        "colab": {
          "base_uri": "https://localhost:8080/"
        },
        "id": "G8h_03ZRNniz",
        "outputId": "6e034263-0e7e-4671-db03-ca028bed14ae"
      },
      "source": [
        "forest_clf.fit(X_train, y_train)\r\n",
        "forest_clf.predict([some_digit])"
      ],
      "execution_count": null,
      "outputs": [
        {
          "output_type": "execute_result",
          "data": {
            "text/plain": [
              "array(['9'], dtype=object)"
            ]
          },
          "metadata": {
            "tags": []
          },
          "execution_count": 33
        }
      ]
    },
    {
      "cell_type": "code",
      "metadata": {
        "colab": {
          "base_uri": "https://localhost:8080/"
        },
        "id": "mg3Pvl5bOSgs",
        "outputId": "f4e01d6d-47a3-446e-9b2c-ef4e8980b24b"
      },
      "source": [
        "forest_clf.predict_proba([some_digit])"
      ],
      "execution_count": null,
      "outputs": [
        {
          "output_type": "execute_result",
          "data": {
            "text/plain": [
              "array([[0.  , 0.  , 0.01, 0.01, 0.02, 0.  , 0.  , 0.01, 0.01, 0.94]])"
            ]
          },
          "metadata": {
            "tags": []
          },
          "execution_count": 34
        }
      ]
    },
    {
      "cell_type": "code",
      "metadata": {
        "colab": {
          "base_uri": "https://localhost:8080/"
        },
        "id": "Z08TP41hOmMK",
        "outputId": "99e9698a-1c3e-47d5-bb23-b66ae178acd7"
      },
      "source": [
        "#avaliando os classificadores\r\n",
        "cross_val_score(sgd_clf, X_train, y_train, cv=3, scoring=\"accuracy\")"
      ],
      "execution_count": null,
      "outputs": [
        {
          "output_type": "execute_result",
          "data": {
            "text/plain": [
              "array([0.8648 , 0.89005, 0.8764 ])"
            ]
          },
          "metadata": {
            "tags": []
          },
          "execution_count": 35
        }
      ]
    },
    {
      "cell_type": "code",
      "metadata": {
        "colab": {
          "background_save": true
        },
        "id": "lMypWINaPOAM",
        "outputId": "a967cb0e-f0d8-4de6-db41-d52468583bb8"
      },
      "source": [
        "from sklearn.preprocessing import StandardScaler\r\n",
        "scaler = StandardScaler()\r\n",
        "X_train_scaled = scaler.fit_transform(X_train.astype(np.float64))\r\n",
        "cross_val_score(sgd_clf, X_train_scaled, y_train, cv=3, scoring=\"accuracy\")"
      ],
      "execution_count": null,
      "outputs": [
        {
          "output_type": "execute_result",
          "data": {
            "text/plain": [
              "array([0.9015 , 0.90475, 0.9018 ])"
            ]
          },
          "metadata": {
            "tags": []
          },
          "execution_count": 0
        }
      ]
    },
    {
      "cell_type": "markdown",
      "metadata": {
        "id": "zMFKKgg0VJco"
      },
      "source": [
        "Análise de Erro"
      ]
    },
    {
      "cell_type": "code",
      "metadata": {
        "id": "Ky9e2OmlRSR4"
      },
      "source": [
        "y_train_pred = cross_val_predict(sgd_clf, X_train_scaled, y_train, cv=3)\r\n",
        "conf_mx = confusion_matrix(y_train, y_train_pred)\r\n",
        "conf_mx"
      ],
      "execution_count": null,
      "outputs": []
    },
    {
      "cell_type": "code",
      "metadata": {
        "colab": {
          "background_save": true
        },
        "id": "HwS1dyt5VmG2",
        "outputId": "c22b7c83-9fa4-40d2-9262-7dde055decdf"
      },
      "source": [
        "plt.matshow(conf_mx, cmap=plt.cm.gray)\r\n",
        "plt.show()"
      ],
      "execution_count": null,
      "outputs": [
        {
          "output_type": "display_data",
          "data": {
            "image/png": "[encoded data removed]",
            "text/plain": [
              "<Figure size 288x288 with 1 Axes>"
            ]
          },
          "metadata": {
            "tags": []
          }
        }
      ]
    },
    {
      "cell_type": "code",
      "metadata": {
        "id": "4eWymTHunB3A"
      },
      "source": [
        "row_sums = conf_mx.sum(axis=1, keepdims=True)\r\n",
        "norm_conf_mx = conf_mx / row_sums\r\n",
        "np.fill_diagonal(norm_conf_mx, 0)\r\n",
        "plt.matshow(norm_conf_mx, cmap=plt.cm.gray)\r\n",
        "plt.show()"
      ],
      "execution_count": null,
      "outputs": []
    },
    {
      "cell_type": "markdown",
      "metadata": {
        "id": "wIGOfNSbNpwB"
      },
      "source": [
        "Classificação Multilabel"
      ]
    },
    {
      "cell_type": "code",
      "metadata": {
        "colab": {
          "base_uri": "https://localhost:8080/"
        },
        "id": "yHL3-kBTn54o",
        "outputId": "12c1a12e-6b2c-4e24-991e-361db005e1d9"
      },
      "source": [
        "from sklearn.neighbors import KNeighborsClassifier\r\n",
        "\r\n",
        "y_train_integer = [int(number) for number in y_train]\r\n",
        "y_train_large = [number >= 7 for number in y_train_integer]\r\n",
        "y_train_odd = [number % 2 == 1 for number in y_train_integer]\r\n",
        "y_multilabel = np.c_[y_train_large, y_train_odd]\r\n",
        "\r\n",
        "knn_clf = KNeighborsClassifier()\r\n",
        "knn_clf.fit(X_train, y_multilabel)\r\n",
        "\r\n",
        "knn_clf.predict([some_digit])"
      ],
      "execution_count": 50,
      "outputs": [
        {
          "output_type": "execute_result",
          "data": {
            "text/plain": [
              "array([[ True,  True]])"
            ]
          },
          "metadata": {
            "tags": []
          },
          "execution_count": 50
        }
      ]
    },
    {
      "cell_type": "code",
      "metadata": {
        "colab": {
          "base_uri": "https://localhost:8080/"
        },
        "id": "y_2eh5itOaeO",
        "outputId": "25ca774f-0e70-4a71-dade-3b1751bdd852"
      },
      "source": [
        "#Avaliando um classificador multilabel\r\n",
        "y_train_knn_pred = cross_val_predict(knn_clf, X_train, y_multilabel, cv=3)\r\n",
        "f1_score(y_multilabel, y_train_knn_pred, average=\"macro\")"
      ],
      "execution_count": 51,
      "outputs": [
        {
          "output_type": "execute_result",
          "data": {
            "text/plain": [
              "0.976895635391503"
            ]
          },
          "metadata": {
            "tags": []
          },
          "execution_count": 51
        }
      ]
    }
  ]
}