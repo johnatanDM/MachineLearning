{
  "nbformat": 4,
  "nbformat_minor": 0,
  "metadata": {
    "colab": {
      "name": "HOMLwSKL&TFcap3.ipynb",
      "provenance": [],
      "authorship_tag": "ABX9TyO5q618SjvMoJ2pffmzkZT+",
      "include_colab_link": true
    },
    "kernelspec": {
      "name": "python3",
      "display_name": "Python 3"
    }
  },
  "cells": [
    {
      "cell_type": "markdown",
      "metadata": {
        "id": "view-in-github",
        "colab_type": "text"
      },
      "source": [
        "<a href=\"https://colab.research.google.com/github/johnatanDM/MachineLearning/blob/main/HOMLwSKL%26TFcap3.ipynb\" target=\"_parent\"><img src=\"https://colab.research.google.com/assets/colab-badge.svg\" alt=\"Open In Colab\"/></a>"
      ]
    },
    {
      "cell_type": "markdown",
      "metadata": {
        "id": "uTxP2bnLycZv"
      },
      "source": [
        "#Classificação\r\n",
        "\r\n",
        "Baixando o dataset MNIST"
      ]
    },
    {
      "cell_type": "code",
      "metadata": {
        "id": "uv2ISPA2xvRr"
      },
      "source": [
        "from sklearn.datasets import fetch_openml\r\n",
        "X,y = fetch_openml('mnist_784', version=1, return_X_y=True, as_frame=False)"
      ],
      "execution_count": 1,
      "outputs": []
    },
    {
      "cell_type": "code",
      "metadata": {
        "colab": {
          "base_uri": "https://localhost:8080/"
        },
        "id": "LSqPpGUx2rgc",
        "outputId": "94a1e91f-a0c8-4949-d9de-26062fab892c"
      },
      "source": [
        "X.shape"
      ],
      "execution_count": 2,
      "outputs": [
        {
          "output_type": "execute_result",
          "data": {
            "text/plain": [
              "(70000, 784)"
            ]
          },
          "metadata": {
            "tags": []
          },
          "execution_count": 2
        }
      ]
    },
    {
      "cell_type": "code",
      "metadata": {
        "colab": {
          "base_uri": "https://localhost:8080/"
        },
        "id": "-4lKNqZM3XIq",
        "outputId": "1ae0f75f-1cc8-4ef7-a679-6868ed1bf79a"
      },
      "source": [
        "y.shape"
      ],
      "execution_count": 3,
      "outputs": [
        {
          "output_type": "execute_result",
          "data": {
            "text/plain": [
              "(70000,)"
            ]
          },
          "metadata": {
            "tags": []
          },
          "execution_count": 3
        }
      ]
    },
    {
      "cell_type": "code",
      "metadata": {
        "colab": {
          "base_uri": "https://localhost:8080/",
          "height": 248
        },
        "id": "vogAcP8D5rwv",
        "outputId": "0188f3b2-4e3b-4c7b-8f87-43f68312247a"
      },
      "source": [
        "#vamos ver um exemplo desse dataset\r\n",
        "import matplotlib\r\n",
        "import matplotlib.pyplot as plt\r\n",
        "\r\n",
        "some_digit = X[36000]\r\n",
        "some_digit_image = some_digit.reshape(28, 28)\r\n",
        "\r\n",
        "plt.imshow(some_digit_image, cmap = matplotlib.cm.binary, interpolation=\"nearest\")\r\n",
        "plt.axis(\"off\")\r\n",
        "plt.show()"
      ],
      "execution_count": 4,
      "outputs": [
        {
          "output_type": "display_data",
          "data": {
            "image/png": "[encoded data removed]",
            "text/plain": [
              "<Figure size 432x288 with 1 Axes>"
            ]
          },
          "metadata": {
            "tags": [],
            "needs_background": "light"
          }
        }
      ]
    },
    {
      "cell_type": "code",
      "metadata": {
        "colab": {
          "base_uri": "https://localhost:8080/",
          "height": 35
        },
        "id": "NG2r6FVr6z9M",
        "outputId": "737aa6cb-fa03-4ce8-a738-2882fe13c3d9"
      },
      "source": [
        "y[36000]"
      ],
      "execution_count": 5,
      "outputs": [
        {
          "output_type": "execute_result",
          "data": {
            "application/vnd.google.colaboratory.intrinsic+json": {
              "type": "string"
            },
            "text/plain": [
              "'9'"
            ]
          },
          "metadata": {
            "tags": []
          },
          "execution_count": 5
        }
      ]
    },
    {
      "cell_type": "code",
      "metadata": {
        "id": "1sdkv5iz7Au0"
      },
      "source": [
        "#separar conjunto de treino e conjunto de teste\r\n",
        "X_train, X_test, y_train, y_test = X[:60000], X[60000:], y[:60000], y[60000:]"
      ],
      "execution_count": 6,
      "outputs": []
    },
    {
      "cell_type": "code",
      "metadata": {
        "id": "fGYpI8_m8Ah9"
      },
      "source": [
        "#emabaralhar o conjunto de treino\r\n",
        "import numpy as np\r\n",
        "\r\n",
        "shuffle_index = np.random.permutation(60000)\r\n",
        "X_train, y_train = X_train[shuffle_index], y_train[shuffle_index]"
      ],
      "execution_count": 7,
      "outputs": []
    },
    {
      "cell_type": "markdown",
      "metadata": {
        "id": "SO_hbHVzAMF0"
      },
      "source": [
        "Treinando um Classificador binário"
      ]
    },
    {
      "cell_type": "code",
      "metadata": {
        "colab": {
          "base_uri": "https://localhost:8080/",
          "height": 53
        },
        "id": "ZWx1q6qP8cK9",
        "outputId": "a3fdb65f-b286-45c9-f201-7baaea749b54"
      },
      "source": [
        "y_train_9 = (y_train == '9')\r\n",
        "y_test_9 = (y_test == '9')\r\n",
        "print(y_train_9)\r\n",
        "y_train[0]"
      ],
      "execution_count": 8,
      "outputs": [
        {
          "output_type": "stream",
          "text": [
            "[False False False ... False False False]\n"
          ],
          "name": "stdout"
        },
        {
          "output_type": "execute_result",
          "data": {
            "application/vnd.google.colaboratory.intrinsic+json": {
              "type": "string"
            },
            "text/plain": [
              "'0'"
            ]
          },
          "metadata": {
            "tags": []
          },
          "execution_count": 8
        }
      ]
    },
    {
      "cell_type": "code",
      "metadata": {
        "id": "HczGTJdRC3gJ"
      },
      "source": [
        "# np.unique(y_test_9)"
      ],
      "execution_count": 9,
      "outputs": []
    },
    {
      "cell_type": "code",
      "metadata": {
        "colab": {
          "base_uri": "https://localhost:8080/"
        },
        "id": "Ah1Tr8XNBIIx",
        "outputId": "187e39fd-1cca-401a-afd2-a283316facd4"
      },
      "source": [
        "#iremos usar o SGD - Gradiente Descendente Estocástico\r\n",
        "from sklearn.linear_model import SGDClassifier\r\n",
        "\r\n",
        "sgd_clf = SGDClassifier(random_state=42)\r\n",
        "sgd_clf.fit(X_train, y_train_9)"
      ],
      "execution_count": 10,
      "outputs": [
        {
          "output_type": "execute_result",
          "data": {
            "text/plain": [
              "SGDClassifier(alpha=0.0001, average=False, class_weight=None,\n",
              "              early_stopping=False, epsilon=0.1, eta0=0.0, fit_intercept=True,\n",
              "              l1_ratio=0.15, learning_rate='optimal', loss='hinge',\n",
              "              max_iter=1000, n_iter_no_change=5, n_jobs=None, penalty='l2',\n",
              "              power_t=0.5, random_state=42, shuffle=True, tol=0.001,\n",
              "              validation_fraction=0.1, verbose=0, warm_start=False)"
            ]
          },
          "metadata": {
            "tags": []
          },
          "execution_count": 10
        }
      ]
    },
    {
      "cell_type": "code",
      "metadata": {
        "colab": {
          "base_uri": "https://localhost:8080/"
        },
        "id": "3gvF3EXRBs_X",
        "outputId": "7c5bcd43-c958-4ba1-ffb4-4f7c5f4bc70a"
      },
      "source": [
        "#fazendo as predições\r\n",
        "sgd_clf.predict([some_digit])"
      ],
      "execution_count": 20,
      "outputs": [
        {
          "output_type": "execute_result",
          "data": {
            "text/plain": [
              "array([ True])"
            ]
          },
          "metadata": {
            "tags": []
          },
          "execution_count": 20
        }
      ]
    },
    {
      "cell_type": "markdown",
      "metadata": {
        "id": "TivH-PfpX1YY"
      },
      "source": [
        "Medindo o desempenho"
      ]
    },
    {
      "cell_type": "code",
      "metadata": {
        "colab": {
          "base_uri": "https://localhost:8080/"
        },
        "id": "5fwkcpXzX29i",
        "outputId": "ef286573-f44f-47b2-b1f9-65a69beb8120"
      },
      "source": [
        "#Validação cruzada\r\n",
        "from sklearn.model_selection import StratifiedKFold\r\n",
        "from sklearn.base import clone\r\n",
        "\r\n",
        "skfolds = StratifiedKFold(n_splits=3, shuffle=True, random_state=42)\r\n",
        "\r\n",
        "for train_index, test_index in skfolds.split(X_train, y_train_9):\r\n",
        "  clone_cfl = clone(sgd_clf)\r\n",
        "  X_train_folds = X_train[train_index]\r\n",
        "  y_train_folds = y_train_9[train_index]\r\n",
        "  X_test_fold = X_train[test_index]\r\n",
        "  y_test_fold = y_train_9[test_index]\r\n",
        "\r\n",
        "  clone_cfl.fit(X_train_folds, y_train_folds)\r\n",
        "  y_pred = clone_cfl.predict(X_test_fold)\r\n",
        "  n_corret = sum(y_pred == y_test_fold)\r\n",
        "  print(n_corret / len(y_pred))"
      ],
      "execution_count": 25,
      "outputs": [
        {
          "output_type": "stream",
          "text": [
            "0.9414\n",
            "0.94925\n",
            "0.93715\n"
          ],
          "name": "stdout"
        }
      ]
    },
    {
      "cell_type": "code",
      "metadata": {
        "colab": {
          "base_uri": "https://localhost:8080/"
        },
        "id": "PIrwRk33ZuQ-",
        "outputId": "ee1a23fd-66fd-4764-b85b-2a78552ca408"
      },
      "source": [
        "#utilizando a função cross_val_score()\r\n",
        "from sklearn.model_selection import cross_val_score\r\n",
        "cross_val_score(sgd_clf, X_train, y_train_9, cv=3, scoring=\"accuracy\")"
      ],
      "execution_count": 27,
      "outputs": [
        {
          "output_type": "execute_result",
          "data": {
            "text/plain": [
              "array([0.9514, 0.941 , 0.9486])"
            ]
          },
          "metadata": {
            "tags": []
          },
          "execution_count": 27
        }
      ]
    },
    {
      "cell_type": "markdown",
      "metadata": {
        "id": "DCQapawLc51U"
      },
      "source": [
        "95% de acurácia parece incrível, mas e se fizermos um classificador ridículo que apenas diz que todos não são 9. Quanto será que ele acerta?"
      ]
    },
    {
      "cell_type": "code",
      "metadata": {
        "colab": {
          "base_uri": "https://localhost:8080/"
        },
        "id": "O3IshgMOcT0d",
        "outputId": "78e3cf06-beec-4bf8-ea83-be7a97b51e34"
      },
      "source": [
        "from sklearn.base import BaseEstimator\r\n",
        "\r\n",
        "class Never9Classifier(BaseEstimator):\r\n",
        "  def fit(self, X, y=None):\r\n",
        "    pass\r\n",
        "  def predict(self, X):\r\n",
        "    return np.zeros((len(X), 1), dtype=bool)\r\n",
        "\r\n",
        "never_9_clf = Never9Classifier()\r\n",
        "cross_val_score(never_9_clf, X_train, y_train_9, cv=3, scoring=\"accuracy\")"
      ],
      "execution_count": 30,
      "outputs": [
        {
          "output_type": "execute_result",
          "data": {
            "text/plain": [
              "array([0.899  , 0.90315, 0.9004 ])"
            ]
          },
          "metadata": {
            "tags": []
          },
          "execution_count": 30
        }
      ]
    },
    {
      "cell_type": "markdown",
      "metadata": {
        "id": "r_EqJpn4d__g"
      },
      "source": [
        "Sim, 90% de acurácia. Isso é pq só 10% das imagens são \"9\" então se sempre chutar \"Não 9\" vai acertar 90% das vezes."
      ]
    },
    {
      "cell_type": "code",
      "metadata": {
        "id": "IoUZa8oSdv4v"
      },
      "source": [
        ""
      ],
      "execution_count": null,
      "outputs": []
    }
  ]
}