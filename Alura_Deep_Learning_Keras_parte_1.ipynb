{
  "nbformat": 4,
  "nbformat_minor": 0,
  "metadata": {
    "colab": {
      "name": "Alura Deep Learning Keras parte 1.ipynb",
      "provenance": [],
      "authorship_tag": "ABX9TyMtWIB8jDXoJFfb7/BdPUwe",
      "include_colab_link": true
    },
    "kernelspec": {
      "name": "python3",
      "display_name": "Python 3"
    },
    "language_info": {
      "name": "python"
    }
  },
  "cells": [
    {
      "cell_type": "markdown",
      "metadata": {
        "id": "view-in-github",
        "colab_type": "text"
      },
      "source": [
        "<a href=\"https://colab.research.google.com/github/johnatanDM/MachineLearning/blob/main/Alura_Deep_Learning_Keras_parte_1.ipynb\" target=\"_parent\"><img src=\"https://colab.research.google.com/assets/colab-badge.svg\" alt=\"Open In Colab\"/></a>"
      ]
    },
    {
      "cell_type": "markdown",
      "metadata": {
        "id": "KU4xmyqphCdq"
      },
      "source": [
        "imports do dataset (carregamento e visualização)"
      ]
    },
    {
      "cell_type": "code",
      "metadata": {
        "id": "7hynuDGcaU8J"
      },
      "source": [
        "import pandas as pd\n",
        "import seaborn as sns\n",
        "import matplotlib as mpl\n",
        "import matplotlib.pyplot as plt\n",
        "import numpy as np\n"
      ],
      "execution_count": 1,
      "outputs": []
    },
    {
      "cell_type": "markdown",
      "metadata": {
        "id": "31fQT9S5Ojy-"
      },
      "source": [
        "Carregar Dataset"
      ]
    },
    {
      "cell_type": "code",
      "metadata": {
        "colab": {
          "base_uri": "https://localhost:8080/",
          "height": 202
        },
        "id": "kx9YNqQwhJa5",
        "outputId": "cd8a138f-85c6-4c8f-8b0d-2585d180115f"
      },
      "source": [
        "passageiros = pd.read_csv('https://raw.githubusercontent.com/alura-cursos/deeptime/aula1/Passageiros.csv')\n",
        "passageiros.head()"
      ],
      "execution_count": 2,
      "outputs": [
        {
          "output_type": "execute_result",
          "data": {
            "text/html": [
              "<div>\n",
              "<style scoped>\n",
              "    .dataframe tbody tr th:only-of-type {\n",
              "        vertical-align: middle;\n",
              "    }\n",
              "\n",
              "    .dataframe tbody tr th {\n",
              "        vertical-align: top;\n",
              "    }\n",
              "\n",
              "    .dataframe thead th {\n",
              "        text-align: right;\n",
              "    }\n",
              "</style>\n",
              "<table border=\"1\" class=\"dataframe\">\n",
              "  <thead>\n",
              "    <tr style=\"text-align: right;\">\n",
              "      <th></th>\n",
              "      <th>tempo</th>\n",
              "      <th>passageiros</th>\n",
              "    </tr>\n",
              "  </thead>\n",
              "  <tbody>\n",
              "    <tr>\n",
              "      <th>0</th>\n",
              "      <td>1949.000000</td>\n",
              "      <td>112</td>\n",
              "    </tr>\n",
              "    <tr>\n",
              "      <th>1</th>\n",
              "      <td>1949.083333</td>\n",
              "      <td>118</td>\n",
              "    </tr>\n",
              "    <tr>\n",
              "      <th>2</th>\n",
              "      <td>1949.166667</td>\n",
              "      <td>132</td>\n",
              "    </tr>\n",
              "    <tr>\n",
              "      <th>3</th>\n",
              "      <td>1949.250000</td>\n",
              "      <td>129</td>\n",
              "    </tr>\n",
              "    <tr>\n",
              "      <th>4</th>\n",
              "      <td>1949.333333</td>\n",
              "      <td>121</td>\n",
              "    </tr>\n",
              "  </tbody>\n",
              "</table>\n",
              "</div>"
            ],
            "text/plain": [
              "         tempo  passageiros\n",
              "0  1949.000000          112\n",
              "1  1949.083333          118\n",
              "2  1949.166667          132\n",
              "3  1949.250000          129\n",
              "4  1949.333333          121"
            ]
          },
          "metadata": {
            "tags": []
          },
          "execution_count": 2
        }
      ]
    },
    {
      "cell_type": "markdown",
      "metadata": {
        "id": "mvrchw3-qesc"
      },
      "source": [
        "visualizando"
      ]
    },
    {
      "cell_type": "code",
      "metadata": {
        "id": "SFwc570WqhiT"
      },
      "source": [
        "#alterando parametros para todas as figuras \n",
        "mpl.rcParams['figure.figsize'] = (10,6)\n",
        "mpl.rcParams['font.size'] = 22"
      ],
      "execution_count": 3,
      "outputs": []
    },
    {
      "cell_type": "code",
      "metadata": {
        "colab": {
          "base_uri": "https://localhost:8080/",
          "height": 425
        },
        "id": "g14Qx-3zihxG",
        "outputId": "75ffd87e-290a-44ab-f13c-6462529423e7"
      },
      "source": [
        "sns.lineplot(x='tempo', y='passageiros', data=passageiros, label='Dados completos')"
      ],
      "execution_count": 4,
      "outputs": [
        {
          "output_type": "execute_result",
          "data": {
            "text/plain": [
              "<matplotlib.axes._subplots.AxesSubplot at 0x7f2232483fd0>"
            ]
          },
          "metadata": {
            "tags": []
          },
          "execution_count": 4
        },
        {
          "output_type": "display_data",
          "data": {
            "image/png": "[encoded data removed]",
            "text/plain": [
              "<Figure size 720x432 with 1 Axes>"
            ]
          },
          "metadata": {
            "tags": [],
            "needs_background": "light"
          }
        }
      ]
    },
    {
      "cell_type": "markdown",
      "metadata": {
        "id": "gZDYu33tryeQ"
      },
      "source": [
        "Imports de préprocessamento dos dados"
      ]
    },
    {
      "cell_type": "code",
      "metadata": {
        "id": "6tnBa9vGr2wo"
      },
      "source": [
        "from sklearn.preprocessing import StandardScaler"
      ],
      "execution_count": 5,
      "outputs": []
    },
    {
      "cell_type": "markdown",
      "metadata": {
        "id": "gNmffLeMriUU"
      },
      "source": [
        "Pré-processamento"
      ]
    },
    {
      "cell_type": "code",
      "metadata": {
        "id": "t81PvUXPrmsw"
      },
      "source": [
        "sc = StandardScaler()\n",
        "sc.fit(passageiros)\n",
        "dado_escalado = sc.transform(passageiros)"
      ],
      "execution_count": 6,
      "outputs": []
    },
    {
      "cell_type": "code",
      "metadata": {
        "id": "FAf4oGt2sfR_"
      },
      "source": [
        "x = dado_escalado[:,0]\n",
        "y = dado_escalado[:,1]"
      ],
      "execution_count": 7,
      "outputs": []
    },
    {
      "cell_type": "markdown",
      "metadata": {
        "id": "iWGA424rso7W"
      },
      "source": [
        "visualizando"
      ]
    },
    {
      "cell_type": "code",
      "metadata": {
        "colab": {
          "base_uri": "https://localhost:8080/",
          "height": 429
        },
        "id": "ckcyVi-xsqLN",
        "outputId": "177ad91a-6497-45a1-84ce-c5477dda16f4"
      },
      "source": [
        "sns.lineplot(x=x, y=y, label='dado escalado')\n",
        "plt.ylabel('Passageiros')\n",
        "plt.xlabel('Data')"
      ],
      "execution_count": 8,
      "outputs": [
        {
          "output_type": "execute_result",
          "data": {
            "text/plain": [
              "Text(0.5, 0, 'Data')"
            ]
          },
          "metadata": {
            "tags": []
          },
          "execution_count": 8
        },
        {
          "output_type": "display_data",
          "data": {
            "image/png": "[encoded data removed]",
            "text/plain": [
              "<Figure size 720x432 with 1 Axes>"
            ]
          },
          "metadata": {
            "tags": [],
            "needs_background": "light"
          }
        }
      ]
    },
    {
      "cell_type": "markdown",
      "metadata": {
        "id": "BH6yJjXitRRZ"
      },
      "source": [
        "Dividindo treino e teste"
      ]
    },
    {
      "cell_type": "code",
      "metadata": {
        "id": "wGJ6BXFltiwn"
      },
      "source": [
        "tamanho_treino = int(len(passageiros) * 0.9)\n",
        "tamanho_teste = int(len(passageiros) - tamanho_treino)\n",
        "\n",
        "xtreino = x[0:tamanho_treino]\n",
        "ytreino = y[0:tamanho_treino]\n",
        "\n",
        "xtest = x[tamanho_treino:len(passageiros)]\n",
        "ytest = y[tamanho_treino:len(passageiros)]"
      ],
      "execution_count": 9,
      "outputs": []
    },
    {
      "cell_type": "code",
      "metadata": {
        "colab": {
          "base_uri": "https://localhost:8080/",
          "height": 405
        },
        "id": "2ikd6iWQuRrq",
        "outputId": "89b33b52-e43b-429e-b6a8-b9d60d8c60a2"
      },
      "source": [
        "sns.lineplot(x=xtreino, y=ytreino, label='Treino')\n",
        "sns.lineplot(x=xtest, y=ytest, label='Teste')"
      ],
      "execution_count": 10,
      "outputs": [
        {
          "output_type": "execute_result",
          "data": {
            "text/plain": [
              "<matplotlib.axes._subplots.AxesSubplot at 0x7f22300ea0d0>"
            ]
          },
          "metadata": {
            "tags": []
          },
          "execution_count": 10
        },
        {
          "output_type": "display_data",
          "data": {
            "image/png": "[encoded data removed]",
            "text/plain": [
              "<Figure size 720x432 with 1 Axes>"
            ]
          },
          "metadata": {
            "tags": [],
            "needs_background": "light"
          }
        }
      ]
    },
    {
      "cell_type": "markdown",
      "metadata": {
        "id": "8Y12Y_UWvI1y"
      },
      "source": [
        "Imports da rede neural"
      ]
    },
    {
      "cell_type": "code",
      "metadata": {
        "id": "H-8V4PBVvIUd"
      },
      "source": [
        "from tensorflow.keras.models import Sequential\n",
        "from tensorflow.keras.layers import Dense"
      ],
      "execution_count": 11,
      "outputs": []
    },
    {
      "cell_type": "markdown",
      "metadata": {
        "id": "JPuKkrOwvBd_"
      },
      "source": [
        "Fazendo uma Regressão Linear Simplificado"
      ]
    },
    {
      "cell_type": "code",
      "metadata": {
        "colab": {
          "base_uri": "https://localhost:8080/"
        },
        "id": "lV8Ubz9bvEFr",
        "outputId": "62f5b030-8ae6-4a54-86f9-f3c591463247"
      },
      "source": [
        "regressor = Sequential()\n",
        "\n",
        "regressor.add(Dense(1, input_dim=1, kernel_initializer='Ones', use_bias=False, activation='linear'))\n",
        "\n",
        "regressor.compile(loss='mean_squared_error', optimizer='adam')\n",
        "\n",
        "regressor.summary() "
      ],
      "execution_count": 12,
      "outputs": [
        {
          "output_type": "stream",
          "text": [
            "Model: \"sequential\"\n",
            "_________________________________________________________________\n",
            "Layer (type)                 Output Shape              Param #   \n",
            "=================================================================\n",
            "dense (Dense)                (None, 1)                 1         \n",
            "=================================================================\n",
            "Total params: 1\n",
            "Trainable params: 1\n",
            "Non-trainable params: 0\n",
            "_________________________________________________________________\n"
          ],
          "name": "stdout"
        }
      ]
    },
    {
      "cell_type": "code",
      "metadata": {
        "colab": {
          "base_uri": "https://localhost:8080/"
        },
        "id": "nd0mPmwqxmwu",
        "outputId": "183b25a2-93a1-4c96-fcdf-f84b08193642"
      },
      "source": [
        "regressor.fit(xtreino, ytreino)"
      ],
      "execution_count": 13,
      "outputs": [
        {
          "output_type": "stream",
          "text": [
            "5/5 [==============================] - 1s 2ms/step - loss: 0.1274\n"
          ],
          "name": "stdout"
        },
        {
          "output_type": "execute_result",
          "data": {
            "text/plain": [
              "<tensorflow.python.keras.callbacks.History at 0x7f21f7bda750>"
            ]
          },
          "metadata": {
            "tags": []
          },
          "execution_count": 13
        }
      ]
    },
    {
      "cell_type": "code",
      "metadata": {
        "id": "6CUxDGO5xx1J"
      },
      "source": [
        "y_predict = regressor.predict(xtreino)"
      ],
      "execution_count": 14,
      "outputs": []
    },
    {
      "cell_type": "code",
      "metadata": {
        "colab": {
          "base_uri": "https://localhost:8080/",
          "height": 401
        },
        "id": "rq6hKyORx8dC",
        "outputId": "404f90f0-1511-4eed-ec2e-5bee8e4ef344"
      },
      "source": [
        "sns.lineplot(x=xtreino, y=ytreino, label='treino')\n",
        "sns.lineplot(x=xtreino, y=y_predict[:,0], label='ajuste')"
      ],
      "execution_count": 15,
      "outputs": [
        {
          "output_type": "execute_result",
          "data": {
            "text/plain": [
              "<matplotlib.axes._subplots.AxesSubplot at 0x7f21f5a30090>"
            ]
          },
          "metadata": {
            "tags": []
          },
          "execution_count": 15
        },
        {
          "output_type": "display_data",
          "data": {
            "image/png": "[encoded data removed]",
            "text/plain": [
              "<Figure size 720x432 with 1 Axes>"
            ]
          },
          "metadata": {
            "tags": [],
            "needs_background": "light"
          }
        }
      ]
    },
    {
      "cell_type": "code",
      "metadata": {
        "colab": {
          "base_uri": "https://localhost:8080/",
          "height": 415
        },
        "id": "IVEQAYygyzmo",
        "outputId": "f34b8656-f6f3-4782-bb7f-364b5081c22d"
      },
      "source": [
        "#mudando a escala de volta\n",
        "d = {'tempo': xtreino, 'passageiros' : y_predict[:,0]}\n",
        "resultados = pd.DataFrame(d) \n",
        "resultados"
      ],
      "execution_count": 16,
      "outputs": [
        {
          "output_type": "execute_result",
          "data": {
            "text/html": [
              "<div>\n",
              "<style scoped>\n",
              "    .dataframe tbody tr th:only-of-type {\n",
              "        vertical-align: middle;\n",
              "    }\n",
              "\n",
              "    .dataframe tbody tr th {\n",
              "        vertical-align: top;\n",
              "    }\n",
              "\n",
              "    .dataframe thead th {\n",
              "        text-align: right;\n",
              "    }\n",
              "</style>\n",
              "<table border=\"1\" class=\"dataframe\">\n",
              "  <thead>\n",
              "    <tr style=\"text-align: right;\">\n",
              "      <th></th>\n",
              "      <th>tempo</th>\n",
              "      <th>passageiros</th>\n",
              "    </tr>\n",
              "  </thead>\n",
              "  <tbody>\n",
              "    <tr>\n",
              "      <th>0</th>\n",
              "      <td>-1.720064</td>\n",
              "      <td>-1.711835</td>\n",
              "    </tr>\n",
              "    <tr>\n",
              "      <th>1</th>\n",
              "      <td>-1.696007</td>\n",
              "      <td>-1.687893</td>\n",
              "    </tr>\n",
              "    <tr>\n",
              "      <th>2</th>\n",
              "      <td>-1.671950</td>\n",
              "      <td>-1.663952</td>\n",
              "    </tr>\n",
              "    <tr>\n",
              "      <th>3</th>\n",
              "      <td>-1.647894</td>\n",
              "      <td>-1.640010</td>\n",
              "    </tr>\n",
              "    <tr>\n",
              "      <th>4</th>\n",
              "      <td>-1.623837</td>\n",
              "      <td>-1.616068</td>\n",
              "    </tr>\n",
              "    <tr>\n",
              "      <th>...</th>\n",
              "      <td>...</td>\n",
              "      <td>...</td>\n",
              "    </tr>\n",
              "    <tr>\n",
              "      <th>124</th>\n",
              "      <td>1.262984</td>\n",
              "      <td>1.256942</td>\n",
              "    </tr>\n",
              "    <tr>\n",
              "      <th>125</th>\n",
              "      <td>1.287041</td>\n",
              "      <td>1.280884</td>\n",
              "    </tr>\n",
              "    <tr>\n",
              "      <th>126</th>\n",
              "      <td>1.311098</td>\n",
              "      <td>1.304825</td>\n",
              "    </tr>\n",
              "    <tr>\n",
              "      <th>127</th>\n",
              "      <td>1.335155</td>\n",
              "      <td>1.328767</td>\n",
              "    </tr>\n",
              "    <tr>\n",
              "      <th>128</th>\n",
              "      <td>1.359212</td>\n",
              "      <td>1.352709</td>\n",
              "    </tr>\n",
              "  </tbody>\n",
              "</table>\n",
              "<p>129 rows × 2 columns</p>\n",
              "</div>"
            ],
            "text/plain": [
              "        tempo  passageiros\n",
              "0   -1.720064    -1.711835\n",
              "1   -1.696007    -1.687893\n",
              "2   -1.671950    -1.663952\n",
              "3   -1.647894    -1.640010\n",
              "4   -1.623837    -1.616068\n",
              "..        ...          ...\n",
              "124  1.262984     1.256942\n",
              "125  1.287041     1.280884\n",
              "126  1.311098     1.304825\n",
              "127  1.335155     1.328767\n",
              "128  1.359212     1.352709\n",
              "\n",
              "[129 rows x 2 columns]"
            ]
          },
          "metadata": {
            "tags": []
          },
          "execution_count": 16
        }
      ]
    },
    {
      "cell_type": "code",
      "metadata": {
        "colab": {
          "base_uri": "https://localhost:8080/",
          "height": 415
        },
        "id": "bXAv-mFXzL_V",
        "outputId": "d8780a6e-07cf-4c96-9334-eed2fad2cb1b"
      },
      "source": [
        "resultado_transf = sc.inverse_transform(resultados)\n",
        "resultado_transf = pd.DataFrame(resultado_transf)\n",
        "resultado_transf.columns = ['tempo', 'passageiros']\n",
        "resultado_transf"
      ],
      "execution_count": 17,
      "outputs": [
        {
          "output_type": "execute_result",
          "data": {
            "text/html": [
              "<div>\n",
              "<style scoped>\n",
              "    .dataframe tbody tr th:only-of-type {\n",
              "        vertical-align: middle;\n",
              "    }\n",
              "\n",
              "    .dataframe tbody tr th {\n",
              "        vertical-align: top;\n",
              "    }\n",
              "\n",
              "    .dataframe thead th {\n",
              "        text-align: right;\n",
              "    }\n",
              "</style>\n",
              "<table border=\"1\" class=\"dataframe\">\n",
              "  <thead>\n",
              "    <tr style=\"text-align: right;\">\n",
              "      <th></th>\n",
              "      <th>tempo</th>\n",
              "      <th>passageiros</th>\n",
              "    </tr>\n",
              "  </thead>\n",
              "  <tbody>\n",
              "    <tr>\n",
              "      <th>0</th>\n",
              "      <td>1949.000000</td>\n",
              "      <td>75.650374</td>\n",
              "    </tr>\n",
              "    <tr>\n",
              "      <th>1</th>\n",
              "      <td>1949.083333</td>\n",
              "      <td>78.512588</td>\n",
              "    </tr>\n",
              "    <tr>\n",
              "      <th>2</th>\n",
              "      <td>1949.166667</td>\n",
              "      <td>81.374802</td>\n",
              "    </tr>\n",
              "    <tr>\n",
              "      <th>3</th>\n",
              "      <td>1949.250000</td>\n",
              "      <td>84.237016</td>\n",
              "    </tr>\n",
              "    <tr>\n",
              "      <th>4</th>\n",
              "      <td>1949.333333</td>\n",
              "      <td>87.099230</td>\n",
              "    </tr>\n",
              "    <tr>\n",
              "      <th>...</th>\n",
              "      <td>...</td>\n",
              "      <td>...</td>\n",
              "    </tr>\n",
              "    <tr>\n",
              "      <th>124</th>\n",
              "      <td>1959.333333</td>\n",
              "      <td>430.564798</td>\n",
              "    </tr>\n",
              "    <tr>\n",
              "      <th>125</th>\n",
              "      <td>1959.416667</td>\n",
              "      <td>433.427012</td>\n",
              "    </tr>\n",
              "    <tr>\n",
              "      <th>126</th>\n",
              "      <td>1959.500000</td>\n",
              "      <td>436.289226</td>\n",
              "    </tr>\n",
              "    <tr>\n",
              "      <th>127</th>\n",
              "      <td>1959.583333</td>\n",
              "      <td>439.151425</td>\n",
              "    </tr>\n",
              "    <tr>\n",
              "      <th>128</th>\n",
              "      <td>1959.666667</td>\n",
              "      <td>442.013654</td>\n",
              "    </tr>\n",
              "  </tbody>\n",
              "</table>\n",
              "<p>129 rows × 2 columns</p>\n",
              "</div>"
            ],
            "text/plain": [
              "           tempo  passageiros\n",
              "0    1949.000000    75.650374\n",
              "1    1949.083333    78.512588\n",
              "2    1949.166667    81.374802\n",
              "3    1949.250000    84.237016\n",
              "4    1949.333333    87.099230\n",
              "..           ...          ...\n",
              "124  1959.333333   430.564798\n",
              "125  1959.416667   433.427012\n",
              "126  1959.500000   436.289226\n",
              "127  1959.583333   439.151425\n",
              "128  1959.666667   442.013654\n",
              "\n",
              "[129 rows x 2 columns]"
            ]
          },
          "metadata": {
            "tags": []
          },
          "execution_count": 17
        }
      ]
    },
    {
      "cell_type": "code",
      "metadata": {
        "colab": {
          "base_uri": "https://localhost:8080/",
          "height": 425
        },
        "id": "Q053KTSOzvUR",
        "outputId": "734905e7-f2fc-474d-cff4-5907af845704"
      },
      "source": [
        "sns.lineplot(x='tempo', y='passageiros', data=passageiros, label='dado completo')\n",
        "sns.lineplot(x='tempo', y='passageiros', data=resultado_transf, label='ajuste')"
      ],
      "execution_count": 18,
      "outputs": [
        {
          "output_type": "execute_result",
          "data": {
            "text/plain": [
              "<matplotlib.axes._subplots.AxesSubplot at 0x7f21f7bd6850>"
            ]
          },
          "metadata": {
            "tags": []
          },
          "execution_count": 18
        },
        {
          "output_type": "display_data",
          "data": {
            "image/png": "[encoded data removed]",
            "text/plain": [
              "<Figure size 720x432 with 1 Axes>"
            ]
          },
          "metadata": {
            "tags": [],
            "needs_background": "light"
          }
        }
      ]
    },
    {
      "cell_type": "markdown",
      "metadata": {
        "id": "phHlMxIK0YDu"
      },
      "source": [
        "Prevendo"
      ]
    },
    {
      "cell_type": "code",
      "metadata": {
        "id": "YUlbJD0R0ZVP"
      },
      "source": [
        "y_predict_test = regressor.predict(xtest)"
      ],
      "execution_count": 19,
      "outputs": []
    },
    {
      "cell_type": "code",
      "metadata": {
        "id": "wUsy36YK0hm5"
      },
      "source": [
        "d = {\n",
        "    'tempo' : xtest,\n",
        "    'passageiros' : y_predict_test[:,0]\n",
        "}\n",
        "resultado_teste = pd.DataFrame(data=d)"
      ],
      "execution_count": 20,
      "outputs": []
    },
    {
      "cell_type": "code",
      "metadata": {
        "id": "tGAdArep1EhA"
      },
      "source": [
        "#revertendo a escala\n",
        "resultado_transf_teste = sc.inverse_transform(resultado_teste)\n",
        "resultado_transf_teste = pd.DataFrame(resultado_transf_teste)\n",
        "resultado_transf_teste.columns = ['tempo', 'passageiros']"
      ],
      "execution_count": 21,
      "outputs": []
    },
    {
      "cell_type": "code",
      "metadata": {
        "colab": {
          "base_uri": "https://localhost:8080/",
          "height": 425
        },
        "id": "1d_JsK2U1v6p",
        "outputId": "a1bf97f8-be07-467c-a2ee-32f83325ccc6"
      },
      "source": [
        "sns.lineplot(x='tempo', y='passageiros', data=passageiros, label='dado completo')\n",
        "sns.lineplot(x='tempo', y='passageiros', data=resultado_transf, label='ajuste')\n",
        "sns.lineplot(x='tempo', y='passageiros', data=resultado_transf_teste, label='previsão')"
      ],
      "execution_count": 22,
      "outputs": [
        {
          "output_type": "execute_result",
          "data": {
            "text/plain": [
              "<matplotlib.axes._subplots.AxesSubplot at 0x7f21f5119490>"
            ]
          },
          "metadata": {
            "tags": []
          },
          "execution_count": 22
        },
        {
          "output_type": "display_data",
          "data": {
            "image/png": "[encoded data removed]",
            "text/plain": [
              "<Figure size 720x432 with 1 Axes>"
            ]
          },
          "metadata": {
            "tags": [],
            "needs_background": "light"
          }
        }
      ]
    },
    {
      "cell_type": "markdown",
      "metadata": {
        "id": "ICrA-VHz2QWC"
      },
      "source": [
        "Rede Neural Multicamadas"
      ]
    },
    {
      "cell_type": "code",
      "metadata": {
        "colab": {
          "base_uri": "https://localhost:8080/"
        },
        "id": "5N4Q_SMb2PM0",
        "outputId": "52526cb0-6f08-44d6-94fe-a189a019739e"
      },
      "source": [
        "regressor2 = Sequential()\n",
        "\n",
        "regressor2.add(Dense(8,input_dim=1, kernel_initializer='random_uniform',\n",
        "                     activation='sigmoid', use_bias=False))\n",
        "regressor2.add(Dense(8,kernel_initializer='random_uniform',\n",
        "                     activation='sigmoid', use_bias=False))\n",
        "regressor2.add(Dense(1, kernel_initializer='random_uniform',\n",
        "                     activation='linear', use_bias=False))\n",
        "\n",
        "regressor2.compile(loss='mean_squared_error', optimizer='adam')\n",
        "\n",
        "regressor2.summary() "
      ],
      "execution_count": 23,
      "outputs": [
        {
          "output_type": "stream",
          "text": [
            "Model: \"sequential_1\"\n",
            "_________________________________________________________________\n",
            "Layer (type)                 Output Shape              Param #   \n",
            "=================================================================\n",
            "dense_1 (Dense)              (None, 8)                 8         \n",
            "_________________________________________________________________\n",
            "dense_2 (Dense)              (None, 8)                 64        \n",
            "_________________________________________________________________\n",
            "dense_3 (Dense)              (None, 1)                 8         \n",
            "=================================================================\n",
            "Total params: 80\n",
            "Trainable params: 80\n",
            "Non-trainable params: 0\n",
            "_________________________________________________________________\n"
          ],
          "name": "stdout"
        }
      ]
    },
    {
      "cell_type": "code",
      "metadata": {
        "colab": {
          "base_uri": "https://localhost:8080/"
        },
        "id": "nDWaZfIm3kWu",
        "outputId": "7d64170c-7911-4a5c-85e5-abdb1e710ca8"
      },
      "source": [
        "regressor2.fit(xtreino, ytreino, epochs=500)"
      ],
      "execution_count": 24,
      "outputs": [
        {
          "output_type": "stream",
          "text": [
            "Epoch 1/500\n",
            "5/5 [==============================] - 0s 2ms/step - loss: 0.8551\n",
            "Epoch 2/500\n",
            "5/5 [==============================] - 0s 2ms/step - loss: 0.7722\n",
            "Epoch 3/500\n",
            "5/5 [==============================] - 0s 3ms/step - loss: 0.8089\n",
            "Epoch 4/500\n",
            "5/5 [==============================] - 0s 2ms/step - loss: 0.7424\n",
            "Epoch 5/500\n",
            "5/5 [==============================] - 0s 2ms/step - loss: 0.7905\n",
            "Epoch 6/500\n",
            "5/5 [==============================] - 0s 3ms/step - loss: 0.7402\n",
            "Epoch 7/500\n",
            "5/5 [==============================] - 0s 3ms/step - loss: 0.7789\n",
            "Epoch 8/500\n",
            "5/5 [==============================] - 0s 3ms/step - loss: 0.8423\n",
            "Epoch 9/500\n",
            "5/5 [==============================] - 0s 3ms/step - loss: 0.7447\n",
            "Epoch 10/500\n",
            "5/5 [==============================] - 0s 2ms/step - loss: 0.7890\n",
            "Epoch 11/500\n",
            "5/5 [==============================] - 0s 3ms/step - loss: 0.7865\n",
            "Epoch 12/500\n",
            "5/5 [==============================] - 0s 3ms/step - loss: 0.7690\n",
            "Epoch 13/500\n",
            "5/5 [==============================] - 0s 3ms/step - loss: 0.7386\n",
            "Epoch 14/500\n",
            "5/5 [==============================] - 0s 3ms/step - loss: 0.7507\n",
            "Epoch 15/500\n",
            "5/5 [==============================] - 0s 3ms/step - loss: 0.7899\n",
            "Epoch 16/500\n",
            "5/5 [==============================] - 0s 3ms/step - loss: 0.8207\n",
            "Epoch 17/500\n",
            "5/5 [==============================] - 0s 3ms/step - loss: 0.7090\n",
            "Epoch 18/500\n",
            "5/5 [==============================] - 0s 3ms/step - loss: 0.7591\n",
            "Epoch 19/500\n",
            "5/5 [==============================] - 0s 3ms/step - loss: 0.7417\n",
            "Epoch 20/500\n",
            "5/5 [==============================] - 0s 3ms/step - loss: 0.7959\n",
            "Epoch 21/500\n",
            "5/5 [==============================] - 0s 2ms/step - loss: 0.7115\n",
            "Epoch 22/500\n",
            "5/5 [==============================] - 0s 2ms/step - loss: 0.8425\n",
            "Epoch 23/500\n",
            "5/5 [==============================] - 0s 3ms/step - loss: 0.7702\n",
            "Epoch 24/500\n",
            "5/5 [==============================] - 0s 3ms/step - loss: 0.8663\n",
            "Epoch 25/500\n",
            "5/5 [==============================] - 0s 3ms/step - loss: 0.7382\n",
            "Epoch 26/500\n",
            "5/5 [==============================] - 0s 2ms/step - loss: 0.8124\n",
            "Epoch 27/500\n",
            "5/5 [==============================] - 0s 4ms/step - loss: 0.8109\n",
            "Epoch 28/500\n",
            "5/5 [==============================] - 0s 2ms/step - loss: 0.8229\n",
            "Epoch 29/500\n",
            "5/5 [==============================] - 0s 4ms/step - loss: 0.8707\n",
            "Epoch 30/500\n",
            "5/5 [==============================] - 0s 6ms/step - loss: 0.7612\n",
            "Epoch 31/500\n",
            "5/5 [==============================] - 0s 3ms/step - loss: 0.8180\n",
            "Epoch 32/500\n",
            "5/5 [==============================] - 0s 3ms/step - loss: 0.7264\n",
            "Epoch 33/500\n",
            "5/5 [==============================] - 0s 3ms/step - loss: 0.7440\n",
            "Epoch 34/500\n",
            "5/5 [==============================] - 0s 3ms/step - loss: 0.7245\n",
            "Epoch 35/500\n",
            "5/5 [==============================] - 0s 3ms/step - loss: 0.7506\n",
            "Epoch 36/500\n",
            "5/5 [==============================] - 0s 2ms/step - loss: 0.7576\n",
            "Epoch 37/500\n",
            "5/5 [==============================] - 0s 3ms/step - loss: 0.8101\n",
            "Epoch 38/500\n",
            "5/5 [==============================] - 0s 4ms/step - loss: 0.7886\n",
            "Epoch 39/500\n",
            "5/5 [==============================] - 0s 2ms/step - loss: 0.7624\n",
            "Epoch 40/500\n",
            "5/5 [==============================] - 0s 3ms/step - loss: 0.8220\n",
            "Epoch 41/500\n",
            "5/5 [==============================] - 0s 2ms/step - loss: 0.7811\n",
            "Epoch 42/500\n",
            "5/5 [==============================] - 0s 2ms/step - loss: 0.7758\n",
            "Epoch 43/500\n",
            "5/5 [==============================] - 0s 3ms/step - loss: 0.7957\n",
            "Epoch 44/500\n",
            "5/5 [==============================] - 0s 3ms/step - loss: 0.8219\n",
            "Epoch 45/500\n",
            "5/5 [==============================] - 0s 2ms/step - loss: 0.7510\n",
            "Epoch 46/500\n",
            "5/5 [==============================] - 0s 2ms/step - loss: 0.8072\n",
            "Epoch 47/500\n",
            "5/5 [==============================] - 0s 2ms/step - loss: 0.7299\n",
            "Epoch 48/500\n",
            "5/5 [==============================] - 0s 3ms/step - loss: 0.7946\n",
            "Epoch 49/500\n",
            "5/5 [==============================] - 0s 3ms/step - loss: 0.7962\n",
            "Epoch 50/500\n",
            "5/5 [==============================] - 0s 3ms/step - loss: 0.7934\n",
            "Epoch 51/500\n",
            "5/5 [==============================] - 0s 2ms/step - loss: 0.7233\n",
            "Epoch 52/500\n",
            "5/5 [==============================] - 0s 2ms/step - loss: 0.8739\n",
            "Epoch 53/500\n",
            "5/5 [==============================] - 0s 2ms/step - loss: 0.7533\n",
            "Epoch 54/500\n",
            "5/5 [==============================] - 0s 4ms/step - loss: 0.8463\n",
            "Epoch 55/500\n",
            "5/5 [==============================] - 0s 3ms/step - loss: 0.7539\n",
            "Epoch 56/500\n",
            "5/5 [==============================] - 0s 3ms/step - loss: 0.6798\n",
            "Epoch 57/500\n",
            "5/5 [==============================] - 0s 3ms/step - loss: 0.8117\n",
            "Epoch 58/500\n",
            "5/5 [==============================] - 0s 3ms/step - loss: 0.7966\n",
            "Epoch 59/500\n",
            "5/5 [==============================] - 0s 3ms/step - loss: 0.7267\n",
            "Epoch 60/500\n",
            "5/5 [==============================] - 0s 3ms/step - loss: 0.7884\n",
            "Epoch 61/500\n",
            "5/5 [==============================] - 0s 3ms/step - loss: 0.7345\n",
            "Epoch 62/500\n",
            "5/5 [==============================] - 0s 4ms/step - loss: 0.7452\n",
            "Epoch 63/500\n",
            "5/5 [==============================] - 0s 3ms/step - loss: 0.8519\n",
            "Epoch 64/500\n",
            "5/5 [==============================] - 0s 3ms/step - loss: 0.7572\n",
            "Epoch 65/500\n",
            "5/5 [==============================] - 0s 4ms/step - loss: 0.7905\n",
            "Epoch 66/500\n",
            "5/5 [==============================] - 0s 3ms/step - loss: 0.6989\n",
            "Epoch 67/500\n",
            "5/5 [==============================] - 0s 3ms/step - loss: 0.7986\n",
            "Epoch 68/500\n",
            "5/5 [==============================] - 0s 2ms/step - loss: 0.7726\n",
            "Epoch 69/500\n",
            "5/5 [==============================] - 0s 3ms/step - loss: 0.7983\n",
            "Epoch 70/500\n",
            "5/5 [==============================] - 0s 3ms/step - loss: 0.7357\n",
            "Epoch 71/500\n",
            "5/5 [==============================] - 0s 3ms/step - loss: 0.7502\n",
            "Epoch 72/500\n",
            "5/5 [==============================] - 0s 4ms/step - loss: 0.7942\n",
            "Epoch 73/500\n",
            "5/5 [==============================] - 0s 4ms/step - loss: 0.7373\n",
            "Epoch 74/500\n",
            "5/5 [==============================] - 0s 7ms/step - loss: 0.7779\n",
            "Epoch 75/500\n",
            "5/5 [==============================] - 0s 3ms/step - loss: 0.7222\n",
            "Epoch 76/500\n",
            "5/5 [==============================] - 0s 3ms/step - loss: 0.8541\n",
            "Epoch 77/500\n",
            "5/5 [==============================] - 0s 2ms/step - loss: 0.8683\n",
            "Epoch 78/500\n",
            "5/5 [==============================] - 0s 3ms/step - loss: 0.7167\n",
            "Epoch 79/500\n",
            "5/5 [==============================] - 0s 3ms/step - loss: 0.8139\n",
            "Epoch 80/500\n",
            "5/5 [==============================] - 0s 3ms/step - loss: 0.8071\n",
            "Epoch 81/500\n",
            "5/5 [==============================] - 0s 2ms/step - loss: 0.8324\n",
            "Epoch 82/500\n",
            "5/5 [==============================] - 0s 3ms/step - loss: 0.6982\n",
            "Epoch 83/500\n",
            "5/5 [==============================] - 0s 3ms/step - loss: 0.8444\n",
            "Epoch 84/500\n",
            "5/5 [==============================] - 0s 3ms/step - loss: 0.7874\n",
            "Epoch 85/500\n",
            "5/5 [==============================] - 0s 4ms/step - loss: 0.7742\n",
            "Epoch 86/500\n",
            "5/5 [==============================] - 0s 2ms/step - loss: 0.8085\n",
            "Epoch 87/500\n",
            "5/5 [==============================] - 0s 2ms/step - loss: 0.7657\n",
            "Epoch 88/500\n",
            "5/5 [==============================] - 0s 4ms/step - loss: 0.7382\n",
            "Epoch 89/500\n",
            "5/5 [==============================] - 0s 3ms/step - loss: 0.7741\n",
            "Epoch 90/500\n",
            "5/5 [==============================] - 0s 2ms/step - loss: 0.6723\n",
            "Epoch 91/500\n",
            "5/5 [==============================] - 0s 3ms/step - loss: 0.7313\n",
            "Epoch 92/500\n",
            "5/5 [==============================] - 0s 5ms/step - loss: 0.7582\n",
            "Epoch 93/500\n",
            "5/5 [==============================] - 0s 3ms/step - loss: 0.7178\n",
            "Epoch 94/500\n",
            "5/5 [==============================] - 0s 3ms/step - loss: 0.8429\n",
            "Epoch 95/500\n",
            "5/5 [==============================] - 0s 4ms/step - loss: 0.6307\n",
            "Epoch 96/500\n",
            "5/5 [==============================] - 0s 2ms/step - loss: 0.7559\n",
            "Epoch 97/500\n",
            "5/5 [==============================] - 0s 2ms/step - loss: 0.8031\n",
            "Epoch 98/500\n",
            "5/5 [==============================] - 0s 4ms/step - loss: 0.7346\n",
            "Epoch 99/500\n",
            "5/5 [==============================] - 0s 4ms/step - loss: 0.7586\n",
            "Epoch 100/500\n",
            "5/5 [==============================] - 0s 4ms/step - loss: 0.7684\n",
            "Epoch 101/500\n",
            "5/5 [==============================] - 0s 4ms/step - loss: 0.7417\n",
            "Epoch 102/500\n",
            "5/5 [==============================] - 0s 4ms/step - loss: 0.7957\n",
            "Epoch 103/500\n",
            "5/5 [==============================] - 0s 3ms/step - loss: 0.7463\n",
            "Epoch 104/500\n",
            "5/5 [==============================] - 0s 3ms/step - loss: 0.7152\n",
            "Epoch 105/500\n",
            "5/5 [==============================] - 0s 2ms/step - loss: 0.7175\n",
            "Epoch 106/500\n",
            "5/5 [==============================] - 0s 3ms/step - loss: 0.7706\n",
            "Epoch 107/500\n",
            "5/5 [==============================] - 0s 3ms/step - loss: 0.7514\n",
            "Epoch 108/500\n",
            "5/5 [==============================] - 0s 2ms/step - loss: 0.7043\n",
            "Epoch 109/500\n",
            "5/5 [==============================] - 0s 3ms/step - loss: 0.6961\n",
            "Epoch 110/500\n",
            "5/5 [==============================] - 0s 4ms/step - loss: 0.7815\n",
            "Epoch 111/500\n",
            "5/5 [==============================] - 0s 3ms/step - loss: 0.8356\n",
            "Epoch 112/500\n",
            "5/5 [==============================] - 0s 3ms/step - loss: 0.6983\n",
            "Epoch 113/500\n",
            "5/5 [==============================] - 0s 6ms/step - loss: 0.7242\n",
            "Epoch 114/500\n",
            "5/5 [==============================] - 0s 3ms/step - loss: 0.6779\n",
            "Epoch 115/500\n",
            "5/5 [==============================] - 0s 3ms/step - loss: 0.6901\n",
            "Epoch 116/500\n",
            "5/5 [==============================] - 0s 3ms/step - loss: 0.6840\n",
            "Epoch 117/500\n",
            "5/5 [==============================] - 0s 3ms/step - loss: 0.6596\n",
            "Epoch 118/500\n",
            "5/5 [==============================] - 0s 3ms/step - loss: 0.6996\n",
            "Epoch 119/500\n",
            "5/5 [==============================] - 0s 3ms/step - loss: 0.6840\n",
            "Epoch 120/500\n",
            "5/5 [==============================] - 0s 2ms/step - loss: 0.7562\n",
            "Epoch 121/500\n",
            "5/5 [==============================] - 0s 4ms/step - loss: 0.6509\n",
            "Epoch 122/500\n",
            "5/5 [==============================] - 0s 3ms/step - loss: 0.7372\n",
            "Epoch 123/500\n",
            "5/5 [==============================] - 0s 4ms/step - loss: 0.7365\n",
            "Epoch 124/500\n",
            "5/5 [==============================] - 0s 3ms/step - loss: 0.7202\n",
            "Epoch 125/500\n",
            "5/5 [==============================] - 0s 3ms/step - loss: 0.6947\n",
            "Epoch 126/500\n",
            "5/5 [==============================] - 0s 3ms/step - loss: 0.7345\n",
            "Epoch 127/500\n",
            "5/5 [==============================] - 0s 5ms/step - loss: 0.7058\n",
            "Epoch 128/500\n",
            "5/5 [==============================] - 0s 3ms/step - loss: 0.6693\n",
            "Epoch 129/500\n",
            "5/5 [==============================] - 0s 3ms/step - loss: 0.7653\n",
            "Epoch 130/500\n",
            "5/5 [==============================] - 0s 3ms/step - loss: 0.6704\n",
            "Epoch 131/500\n",
            "5/5 [==============================] - 0s 4ms/step - loss: 0.6181\n",
            "Epoch 132/500\n",
            "5/5 [==============================] - 0s 4ms/step - loss: 0.6728\n",
            "Epoch 133/500\n",
            "5/5 [==============================] - 0s 3ms/step - loss: 0.6720\n",
            "Epoch 134/500\n",
            "5/5 [==============================] - 0s 3ms/step - loss: 0.6688\n",
            "Epoch 135/500\n",
            "5/5 [==============================] - 0s 3ms/step - loss: 0.6182\n",
            "Epoch 136/500\n",
            "5/5 [==============================] - 0s 3ms/step - loss: 0.6637\n",
            "Epoch 137/500\n",
            "5/5 [==============================] - 0s 3ms/step - loss: 0.7302\n",
            "Epoch 138/500\n",
            "5/5 [==============================] - 0s 3ms/step - loss: 0.6780\n",
            "Epoch 139/500\n",
            "5/5 [==============================] - 0s 4ms/step - loss: 0.6262\n",
            "Epoch 140/500\n",
            "5/5 [==============================] - 0s 3ms/step - loss: 0.6637\n",
            "Epoch 141/500\n",
            "5/5 [==============================] - 0s 5ms/step - loss: 0.5765\n",
            "Epoch 142/500\n",
            "5/5 [==============================] - 0s 3ms/step - loss: 0.7132\n",
            "Epoch 143/500\n",
            "5/5 [==============================] - 0s 4ms/step - loss: 0.5941\n",
            "Epoch 144/500\n",
            "5/5 [==============================] - 0s 4ms/step - loss: 0.6483\n",
            "Epoch 145/500\n",
            "5/5 [==============================] - 0s 3ms/step - loss: 0.6014\n",
            "Epoch 146/500\n",
            "5/5 [==============================] - 0s 2ms/step - loss: 0.6925\n",
            "Epoch 147/500\n",
            "5/5 [==============================] - 0s 4ms/step - loss: 0.7296\n",
            "Epoch 148/500\n",
            "5/5 [==============================] - 0s 3ms/step - loss: 0.6028\n",
            "Epoch 149/500\n",
            "5/5 [==============================] - 0s 2ms/step - loss: 0.6377\n",
            "Epoch 150/500\n",
            "5/5 [==============================] - 0s 3ms/step - loss: 0.6260\n",
            "Epoch 151/500\n",
            "5/5 [==============================] - 0s 2ms/step - loss: 0.6598\n",
            "Epoch 152/500\n",
            "5/5 [==============================] - 0s 3ms/step - loss: 0.5928\n",
            "Epoch 153/500\n",
            "5/5 [==============================] - 0s 3ms/step - loss: 0.5950\n",
            "Epoch 154/500\n",
            "5/5 [==============================] - 0s 3ms/step - loss: 0.5979\n",
            "Epoch 155/500\n",
            "5/5 [==============================] - 0s 3ms/step - loss: 0.6145\n",
            "Epoch 156/500\n",
            "5/5 [==============================] - 0s 3ms/step - loss: 0.5900\n",
            "Epoch 157/500\n",
            "5/5 [==============================] - 0s 4ms/step - loss: 0.5465\n",
            "Epoch 158/500\n",
            "5/5 [==============================] - 0s 4ms/step - loss: 0.6036\n",
            "Epoch 159/500\n",
            "5/5 [==============================] - 0s 3ms/step - loss: 0.6339\n",
            "Epoch 160/500\n",
            "5/5 [==============================] - 0s 3ms/step - loss: 0.5997\n",
            "Epoch 161/500\n",
            "5/5 [==============================] - 0s 3ms/step - loss: 0.6337\n",
            "Epoch 162/500\n",
            "5/5 [==============================] - 0s 3ms/step - loss: 0.5752\n",
            "Epoch 163/500\n",
            "5/5 [==============================] - 0s 3ms/step - loss: 0.4642\n",
            "Epoch 164/500\n",
            "5/5 [==============================] - 0s 2ms/step - loss: 0.5128\n",
            "Epoch 165/500\n",
            "5/5 [==============================] - 0s 4ms/step - loss: 0.5636\n",
            "Epoch 166/500\n",
            "5/5 [==============================] - 0s 4ms/step - loss: 0.4743\n",
            "Epoch 167/500\n",
            "5/5 [==============================] - 0s 3ms/step - loss: 0.5291\n",
            "Epoch 168/500\n",
            "5/5 [==============================] - 0s 3ms/step - loss: 0.5360\n",
            "Epoch 169/500\n",
            "5/5 [==============================] - 0s 3ms/step - loss: 0.5717\n",
            "Epoch 170/500\n",
            "5/5 [==============================] - 0s 3ms/step - loss: 0.5004\n",
            "Epoch 171/500\n",
            "5/5 [==============================] - 0s 3ms/step - loss: 0.5216\n",
            "Epoch 172/500\n",
            "5/5 [==============================] - 0s 4ms/step - loss: 0.4750\n",
            "Epoch 173/500\n",
            "5/5 [==============================] - 0s 3ms/step - loss: 0.5104\n",
            "Epoch 174/500\n",
            "5/5 [==============================] - 0s 3ms/step - loss: 0.4800\n",
            "Epoch 175/500\n",
            "5/5 [==============================] - 0s 3ms/step - loss: 0.5099\n",
            "Epoch 176/500\n",
            "5/5 [==============================] - 0s 3ms/step - loss: 0.5292\n",
            "Epoch 177/500\n",
            "5/5 [==============================] - 0s 4ms/step - loss: 0.4422\n",
            "Epoch 178/500\n",
            "5/5 [==============================] - 0s 3ms/step - loss: 0.4703\n",
            "Epoch 179/500\n",
            "5/5 [==============================] - 0s 5ms/step - loss: 0.4327\n",
            "Epoch 180/500\n",
            "5/5 [==============================] - 0s 3ms/step - loss: 0.4583\n",
            "Epoch 181/500\n",
            "5/5 [==============================] - 0s 4ms/step - loss: 0.4598\n",
            "Epoch 182/500\n",
            "5/5 [==============================] - 0s 3ms/step - loss: 0.4474\n",
            "Epoch 183/500\n",
            "5/5 [==============================] - 0s 4ms/step - loss: 0.4084\n",
            "Epoch 184/500\n",
            "5/5 [==============================] - 0s 6ms/step - loss: 0.4668\n",
            "Epoch 185/500\n",
            "5/5 [==============================] - 0s 3ms/step - loss: 0.4299\n",
            "Epoch 186/500\n",
            "5/5 [==============================] - 0s 4ms/step - loss: 0.4798\n",
            "Epoch 187/500\n",
            "5/5 [==============================] - 0s 3ms/step - loss: 0.4001\n",
            "Epoch 188/500\n",
            "5/5 [==============================] - 0s 4ms/step - loss: 0.4333\n",
            "Epoch 189/500\n",
            "5/5 [==============================] - 0s 3ms/step - loss: 0.4241\n",
            "Epoch 190/500\n",
            "5/5 [==============================] - 0s 3ms/step - loss: 0.4170\n",
            "Epoch 191/500\n",
            "5/5 [==============================] - 0s 4ms/step - loss: 0.4016\n",
            "Epoch 192/500\n",
            "5/5 [==============================] - 0s 3ms/step - loss: 0.4164\n",
            "Epoch 193/500\n",
            "5/5 [==============================] - 0s 3ms/step - loss: 0.3859\n",
            "Epoch 194/500\n",
            "5/5 [==============================] - 0s 4ms/step - loss: 0.3924\n",
            "Epoch 195/500\n",
            "5/5 [==============================] - 0s 3ms/step - loss: 0.4112\n",
            "Epoch 196/500\n",
            "5/5 [==============================] - 0s 3ms/step - loss: 0.3784\n",
            "Epoch 197/500\n",
            "5/5 [==============================] - 0s 4ms/step - loss: 0.3873\n",
            "Epoch 198/500\n",
            "5/5 [==============================] - 0s 4ms/step - loss: 0.3132\n",
            "Epoch 199/500\n",
            "5/5 [==============================] - 0s 4ms/step - loss: 0.3166\n",
            "Epoch 200/500\n",
            "5/5 [==============================] - 0s 3ms/step - loss: 0.3300\n",
            "Epoch 201/500\n",
            "5/5 [==============================] - 0s 5ms/step - loss: 0.3395\n",
            "Epoch 202/500\n",
            "5/5 [==============================] - 0s 4ms/step - loss: 0.3510\n",
            "Epoch 203/500\n",
            "5/5 [==============================] - 0s 3ms/step - loss: 0.3545\n",
            "Epoch 204/500\n",
            "5/5 [==============================] - 0s 5ms/step - loss: 0.3065\n",
            "Epoch 205/500\n",
            "5/5 [==============================] - 0s 3ms/step - loss: 0.2845\n",
            "Epoch 206/500\n",
            "5/5 [==============================] - 0s 3ms/step - loss: 0.3090\n",
            "Epoch 207/500\n",
            "5/5 [==============================] - 0s 4ms/step - loss: 0.3273\n",
            "Epoch 208/500\n",
            "5/5 [==============================] - 0s 4ms/step - loss: 0.2986\n",
            "Epoch 209/500\n",
            "5/5 [==============================] - 0s 5ms/step - loss: 0.2881\n",
            "Epoch 210/500\n",
            "5/5 [==============================] - 0s 3ms/step - loss: 0.2938\n",
            "Epoch 211/500\n",
            "5/5 [==============================] - 0s 3ms/step - loss: 0.3018\n",
            "Epoch 212/500\n",
            "5/5 [==============================] - 0s 5ms/step - loss: 0.2938\n",
            "Epoch 213/500\n",
            "5/5 [==============================] - 0s 3ms/step - loss: 0.2819\n",
            "Epoch 214/500\n",
            "5/5 [==============================] - 0s 3ms/step - loss: 0.3140\n",
            "Epoch 215/500\n",
            "5/5 [==============================] - 0s 2ms/step - loss: 0.2737\n",
            "Epoch 216/500\n",
            "5/5 [==============================] - 0s 3ms/step - loss: 0.2712\n",
            "Epoch 217/500\n",
            "5/5 [==============================] - 0s 3ms/step - loss: 0.2521\n",
            "Epoch 218/500\n",
            "5/5 [==============================] - 0s 3ms/step - loss: 0.2591\n",
            "Epoch 219/500\n",
            "5/5 [==============================] - 0s 3ms/step - loss: 0.2543\n",
            "Epoch 220/500\n",
            "5/5 [==============================] - 0s 2ms/step - loss: 0.2295\n",
            "Epoch 221/500\n",
            "5/5 [==============================] - 0s 3ms/step - loss: 0.2604\n",
            "Epoch 222/500\n",
            "5/5 [==============================] - 0s 5ms/step - loss: 0.2452\n",
            "Epoch 223/500\n",
            "5/5 [==============================] - 0s 4ms/step - loss: 0.2632\n",
            "Epoch 224/500\n",
            "5/5 [==============================] - 0s 6ms/step - loss: 0.2831\n",
            "Epoch 225/500\n",
            "5/5 [==============================] - 0s 4ms/step - loss: 0.2495\n",
            "Epoch 226/500\n",
            "5/5 [==============================] - 0s 3ms/step - loss: 0.2336\n",
            "Epoch 227/500\n",
            "5/5 [==============================] - 0s 4ms/step - loss: 0.2217\n",
            "Epoch 228/500\n",
            "5/5 [==============================] - 0s 3ms/step - loss: 0.2148\n",
            "Epoch 229/500\n",
            "5/5 [==============================] - 0s 3ms/step - loss: 0.2457\n",
            "Epoch 230/500\n",
            "5/5 [==============================] - 0s 4ms/step - loss: 0.2568\n",
            "Epoch 231/500\n",
            "5/5 [==============================] - 0s 3ms/step - loss: 0.2235\n",
            "Epoch 232/500\n",
            "5/5 [==============================] - 0s 2ms/step - loss: 0.2104\n",
            "Epoch 233/500\n",
            "5/5 [==============================] - 0s 3ms/step - loss: 0.2251\n",
            "Epoch 234/500\n",
            "5/5 [==============================] - 0s 3ms/step - loss: 0.2097\n",
            "Epoch 235/500\n",
            "5/5 [==============================] - 0s 3ms/step - loss: 0.2114\n",
            "Epoch 236/500\n",
            "5/5 [==============================] - 0s 2ms/step - loss: 0.2280\n",
            "Epoch 237/500\n",
            "5/5 [==============================] - 0s 3ms/step - loss: 0.1964\n",
            "Epoch 238/500\n",
            "5/5 [==============================] - 0s 2ms/step - loss: 0.1993\n",
            "Epoch 239/500\n",
            "5/5 [==============================] - 0s 3ms/step - loss: 0.1705\n",
            "Epoch 240/500\n",
            "5/5 [==============================] - 0s 3ms/step - loss: 0.1848\n",
            "Epoch 241/500\n",
            "5/5 [==============================] - 0s 3ms/step - loss: 0.1935\n",
            "Epoch 242/500\n",
            "5/5 [==============================] - 0s 3ms/step - loss: 0.2028\n",
            "Epoch 243/500\n",
            "5/5 [==============================] - 0s 3ms/step - loss: 0.1857\n",
            "Epoch 244/500\n",
            "5/5 [==============================] - 0s 2ms/step - loss: 0.1957\n",
            "Epoch 245/500\n",
            "5/5 [==============================] - 0s 3ms/step - loss: 0.1787\n",
            "Epoch 246/500\n",
            "5/5 [==============================] - 0s 3ms/step - loss: 0.1781\n",
            "Epoch 247/500\n",
            "5/5 [==============================] - 0s 3ms/step - loss: 0.2001\n",
            "Epoch 248/500\n",
            "5/5 [==============================] - 0s 3ms/step - loss: 0.1557\n",
            "Epoch 249/500\n",
            "5/5 [==============================] - 0s 2ms/step - loss: 0.1599\n",
            "Epoch 250/500\n",
            "5/5 [==============================] - 0s 3ms/step - loss: 0.1676\n",
            "Epoch 251/500\n",
            "5/5 [==============================] - 0s 3ms/step - loss: 0.1715\n",
            "Epoch 252/500\n",
            "5/5 [==============================] - 0s 2ms/step - loss: 0.1779\n",
            "Epoch 253/500\n",
            "5/5 [==============================] - 0s 2ms/step - loss: 0.1570\n",
            "Epoch 254/500\n",
            "5/5 [==============================] - 0s 2ms/step - loss: 0.1859\n",
            "Epoch 255/500\n",
            "5/5 [==============================] - 0s 3ms/step - loss: 0.1737\n",
            "Epoch 256/500\n",
            "5/5 [==============================] - 0s 3ms/step - loss: 0.1681\n",
            "Epoch 257/500\n",
            "5/5 [==============================] - 0s 2ms/step - loss: 0.1669\n",
            "Epoch 258/500\n",
            "5/5 [==============================] - 0s 3ms/step - loss: 0.1831\n",
            "Epoch 259/500\n",
            "5/5 [==============================] - 0s 4ms/step - loss: 0.1512\n",
            "Epoch 260/500\n",
            "5/5 [==============================] - 0s 3ms/step - loss: 0.1640\n",
            "Epoch 261/500\n",
            "5/5 [==============================] - 0s 3ms/step - loss: 0.1710\n",
            "Epoch 262/500\n",
            "5/5 [==============================] - 0s 3ms/step - loss: 0.1553\n",
            "Epoch 263/500\n",
            "5/5 [==============================] - 0s 2ms/step - loss: 0.1845\n",
            "Epoch 264/500\n",
            "5/5 [==============================] - 0s 2ms/step - loss: 0.1749\n",
            "Epoch 265/500\n",
            "5/5 [==============================] - 0s 4ms/step - loss: 0.1468\n",
            "Epoch 266/500\n",
            "5/5 [==============================] - 0s 3ms/step - loss: 0.1782\n",
            "Epoch 267/500\n",
            "5/5 [==============================] - 0s 3ms/step - loss: 0.1625\n",
            "Epoch 268/500\n",
            "5/5 [==============================] - 0s 3ms/step - loss: 0.1520\n",
            "Epoch 269/500\n",
            "5/5 [==============================] - 0s 3ms/step - loss: 0.1591\n",
            "Epoch 270/500\n",
            "5/5 [==============================] - 0s 2ms/step - loss: 0.1380\n",
            "Epoch 271/500\n",
            "5/5 [==============================] - 0s 4ms/step - loss: 0.1873\n",
            "Epoch 272/500\n",
            "5/5 [==============================] - 0s 3ms/step - loss: 0.1676\n",
            "Epoch 273/500\n",
            "5/5 [==============================] - 0s 5ms/step - loss: 0.1372\n",
            "Epoch 274/500\n",
            "5/5 [==============================] - 0s 5ms/step - loss: 0.1707\n",
            "Epoch 275/500\n",
            "5/5 [==============================] - 0s 3ms/step - loss: 0.1358\n",
            "Epoch 276/500\n",
            "5/5 [==============================] - 0s 4ms/step - loss: 0.1595\n",
            "Epoch 277/500\n",
            "5/5 [==============================] - 0s 3ms/step - loss: 0.1563\n",
            "Epoch 278/500\n",
            "5/5 [==============================] - 0s 5ms/step - loss: 0.1452\n",
            "Epoch 279/500\n",
            "5/5 [==============================] - 0s 2ms/step - loss: 0.1476\n",
            "Epoch 280/500\n",
            "5/5 [==============================] - 0s 3ms/step - loss: 0.1559\n",
            "Epoch 281/500\n",
            "5/5 [==============================] - 0s 3ms/step - loss: 0.1660\n",
            "Epoch 282/500\n",
            "5/5 [==============================] - 0s 3ms/step - loss: 0.1523\n",
            "Epoch 283/500\n",
            "5/5 [==============================] - 0s 3ms/step - loss: 0.1433\n",
            "Epoch 284/500\n",
            "5/5 [==============================] - 0s 3ms/step - loss: 0.1371\n",
            "Epoch 285/500\n",
            "5/5 [==============================] - 0s 2ms/step - loss: 0.1579\n",
            "Epoch 286/500\n",
            "5/5 [==============================] - 0s 3ms/step - loss: 0.1417\n",
            "Epoch 287/500\n",
            "5/5 [==============================] - 0s 3ms/step - loss: 0.1509\n",
            "Epoch 288/500\n",
            "5/5 [==============================] - 0s 3ms/step - loss: 0.1496\n",
            "Epoch 289/500\n",
            "5/5 [==============================] - 0s 3ms/step - loss: 0.1544\n",
            "Epoch 290/500\n",
            "5/5 [==============================] - 0s 2ms/step - loss: 0.1531\n",
            "Epoch 291/500\n",
            "5/5 [==============================] - 0s 2ms/step - loss: 0.1596\n",
            "Epoch 292/500\n",
            "5/5 [==============================] - 0s 3ms/step - loss: 0.1701\n",
            "Epoch 293/500\n",
            "5/5 [==============================] - 0s 3ms/step - loss: 0.1403\n",
            "Epoch 294/500\n",
            "5/5 [==============================] - 0s 3ms/step - loss: 0.1311\n",
            "Epoch 295/500\n",
            "5/5 [==============================] - 0s 3ms/step - loss: 0.1559\n",
            "Epoch 296/500\n",
            "5/5 [==============================] - 0s 3ms/step - loss: 0.1284\n",
            "Epoch 297/500\n",
            "5/5 [==============================] - 0s 2ms/step - loss: 0.1478\n",
            "Epoch 298/500\n",
            "5/5 [==============================] - 0s 4ms/step - loss: 0.1421\n",
            "Epoch 299/500\n",
            "5/5 [==============================] - 0s 2ms/step - loss: 0.1495\n",
            "Epoch 300/500\n",
            "5/5 [==============================] - 0s 5ms/step - loss: 0.1427\n",
            "Epoch 301/500\n",
            "5/5 [==============================] - 0s 2ms/step - loss: 0.1346\n",
            "Epoch 302/500\n",
            "5/5 [==============================] - 0s 3ms/step - loss: 0.1211\n",
            "Epoch 303/500\n",
            "5/5 [==============================] - 0s 3ms/step - loss: 0.1393\n",
            "Epoch 304/500\n",
            "5/5 [==============================] - 0s 3ms/step - loss: 0.1352\n",
            "Epoch 305/500\n",
            "5/5 [==============================] - 0s 3ms/step - loss: 0.1196\n",
            "Epoch 306/500\n",
            "5/5 [==============================] - 0s 3ms/step - loss: 0.1467\n",
            "Epoch 307/500\n",
            "5/5 [==============================] - 0s 3ms/step - loss: 0.1214\n",
            "Epoch 308/500\n",
            "5/5 [==============================] - 0s 3ms/step - loss: 0.1290\n",
            "Epoch 309/500\n",
            "5/5 [==============================] - 0s 3ms/step - loss: 0.1344\n",
            "Epoch 310/500\n",
            "5/5 [==============================] - 0s 3ms/step - loss: 0.1616\n",
            "Epoch 311/500\n",
            "5/5 [==============================] - 0s 4ms/step - loss: 0.1543\n",
            "Epoch 312/500\n",
            "5/5 [==============================] - 0s 4ms/step - loss: 0.1412\n",
            "Epoch 313/500\n",
            "5/5 [==============================] - 0s 5ms/step - loss: 0.1321\n",
            "Epoch 314/500\n",
            "5/5 [==============================] - 0s 4ms/step - loss: 0.1246\n",
            "Epoch 315/500\n",
            "5/5 [==============================] - 0s 4ms/step - loss: 0.1435\n",
            "Epoch 316/500\n",
            "5/5 [==============================] - 0s 4ms/step - loss: 0.1696\n",
            "Epoch 317/500\n",
            "5/5 [==============================] - 0s 4ms/step - loss: 0.1349\n",
            "Epoch 318/500\n",
            "5/5 [==============================] - 0s 4ms/step - loss: 0.1453\n",
            "Epoch 319/500\n",
            "5/5 [==============================] - 0s 5ms/step - loss: 0.1637\n",
            "Epoch 320/500\n",
            "5/5 [==============================] - 0s 5ms/step - loss: 0.1557\n",
            "Epoch 321/500\n",
            "5/5 [==============================] - 0s 4ms/step - loss: 0.1395\n",
            "Epoch 322/500\n",
            "5/5 [==============================] - 0s 4ms/step - loss: 0.1741\n",
            "Epoch 323/500\n",
            "5/5 [==============================] - 0s 3ms/step - loss: 0.1380\n",
            "Epoch 324/500\n",
            "5/5 [==============================] - 0s 3ms/step - loss: 0.1280\n",
            "Epoch 325/500\n",
            "5/5 [==============================] - 0s 4ms/step - loss: 0.1558\n",
            "Epoch 326/500\n",
            "5/5 [==============================] - 0s 4ms/step - loss: 0.1297\n",
            "Epoch 327/500\n",
            "5/5 [==============================] - 0s 3ms/step - loss: 0.1248\n",
            "Epoch 328/500\n",
            "5/5 [==============================] - 0s 3ms/step - loss: 0.1570\n",
            "Epoch 329/500\n",
            "5/5 [==============================] - 0s 4ms/step - loss: 0.1513\n",
            "Epoch 330/500\n",
            "5/5 [==============================] - 0s 3ms/step - loss: 0.1219\n",
            "Epoch 331/500\n",
            "5/5 [==============================] - 0s 3ms/step - loss: 0.1249\n",
            "Epoch 332/500\n",
            "5/5 [==============================] - 0s 4ms/step - loss: 0.1482\n",
            "Epoch 333/500\n",
            "5/5 [==============================] - 0s 6ms/step - loss: 0.1430\n",
            "Epoch 334/500\n",
            "5/5 [==============================] - 0s 2ms/step - loss: 0.1515\n",
            "Epoch 335/500\n",
            "5/5 [==============================] - 0s 5ms/step - loss: 0.1289\n",
            "Epoch 336/500\n",
            "5/5 [==============================] - 0s 3ms/step - loss: 0.1279\n",
            "Epoch 337/500\n",
            "5/5 [==============================] - 0s 4ms/step - loss: 0.1271\n",
            "Epoch 338/500\n",
            "5/5 [==============================] - 0s 4ms/step - loss: 0.1393\n",
            "Epoch 339/500\n",
            "5/5 [==============================] - 0s 3ms/step - loss: 0.1225\n",
            "Epoch 340/500\n",
            "5/5 [==============================] - 0s 3ms/step - loss: 0.1398\n",
            "Epoch 341/500\n",
            "5/5 [==============================] - 0s 4ms/step - loss: 0.1313\n",
            "Epoch 342/500\n",
            "5/5 [==============================] - 0s 5ms/step - loss: 0.1315\n",
            "Epoch 343/500\n",
            "5/5 [==============================] - 0s 3ms/step - loss: 0.1342\n",
            "Epoch 344/500\n",
            "5/5 [==============================] - 0s 4ms/step - loss: 0.1362\n",
            "Epoch 345/500\n",
            "5/5 [==============================] - 0s 3ms/step - loss: 0.1339\n",
            "Epoch 346/500\n",
            "5/5 [==============================] - 0s 4ms/step - loss: 0.1457\n",
            "Epoch 347/500\n",
            "5/5 [==============================] - 0s 3ms/step - loss: 0.1647\n",
            "Epoch 348/500\n",
            "5/5 [==============================] - 0s 3ms/step - loss: 0.1414\n",
            "Epoch 349/500\n",
            "5/5 [==============================] - 0s 3ms/step - loss: 0.1269\n",
            "Epoch 350/500\n",
            "5/5 [==============================] - 0s 4ms/step - loss: 0.1268\n",
            "Epoch 351/500\n",
            "5/5 [==============================] - 0s 3ms/step - loss: 0.1328\n",
            "Epoch 352/500\n",
            "5/5 [==============================] - 0s 5ms/step - loss: 0.1451\n",
            "Epoch 353/500\n",
            "5/5 [==============================] - 0s 5ms/step - loss: 0.1382\n",
            "Epoch 354/500\n",
            "5/5 [==============================] - 0s 4ms/step - loss: 0.1207\n",
            "Epoch 355/500\n",
            "5/5 [==============================] - 0s 5ms/step - loss: 0.1431\n",
            "Epoch 356/500\n",
            "5/5 [==============================] - 0s 5ms/step - loss: 0.1531\n",
            "Epoch 357/500\n",
            "5/5 [==============================] - 0s 3ms/step - loss: 0.1342\n",
            "Epoch 358/500\n",
            "5/5 [==============================] - 0s 3ms/step - loss: 0.1365\n",
            "Epoch 359/500\n",
            "5/5 [==============================] - 0s 4ms/step - loss: 0.1586\n",
            "Epoch 360/500\n",
            "5/5 [==============================] - 0s 4ms/step - loss: 0.1226\n",
            "Epoch 361/500\n",
            "5/5 [==============================] - 0s 4ms/step - loss: 0.1556\n",
            "Epoch 362/500\n",
            "5/5 [==============================] - 0s 2ms/step - loss: 0.1386\n",
            "Epoch 363/500\n",
            "5/5 [==============================] - 0s 3ms/step - loss: 0.1263\n",
            "Epoch 364/500\n",
            "5/5 [==============================] - 0s 2ms/step - loss: 0.1390\n",
            "Epoch 365/500\n",
            "5/5 [==============================] - 0s 2ms/step - loss: 0.1292\n",
            "Epoch 366/500\n",
            "5/5 [==============================] - 0s 4ms/step - loss: 0.1405\n",
            "Epoch 367/500\n",
            "5/5 [==============================] - 0s 3ms/step - loss: 0.1379\n",
            "Epoch 368/500\n",
            "5/5 [==============================] - 0s 5ms/step - loss: 0.1212\n",
            "Epoch 369/500\n",
            "5/5 [==============================] - 0s 4ms/step - loss: 0.1270\n",
            "Epoch 370/500\n",
            "5/5 [==============================] - 0s 4ms/step - loss: 0.1398\n",
            "Epoch 371/500\n",
            "5/5 [==============================] - 0s 4ms/step - loss: 0.1497\n",
            "Epoch 372/500\n",
            "5/5 [==============================] - 0s 3ms/step - loss: 0.1575\n",
            "Epoch 373/500\n",
            "5/5 [==============================] - 0s 5ms/step - loss: 0.1423\n",
            "Epoch 374/500\n",
            "5/5 [==============================] - 0s 3ms/step - loss: 0.1405\n",
            "Epoch 375/500\n",
            "5/5 [==============================] - 0s 3ms/step - loss: 0.1235\n",
            "Epoch 376/500\n",
            "5/5 [==============================] - 0s 3ms/step - loss: 0.1172\n",
            "Epoch 377/500\n",
            "5/5 [==============================] - 0s 3ms/step - loss: 0.1243\n",
            "Epoch 378/500\n",
            "5/5 [==============================] - 0s 3ms/step - loss: 0.1531\n",
            "Epoch 379/500\n",
            "5/5 [==============================] - 0s 2ms/step - loss: 0.1341\n",
            "Epoch 380/500\n",
            "5/5 [==============================] - 0s 2ms/step - loss: 0.1425\n",
            "Epoch 381/500\n",
            "5/5 [==============================] - 0s 3ms/step - loss: 0.1271\n",
            "Epoch 382/500\n",
            "5/5 [==============================] - 0s 3ms/step - loss: 0.1305\n",
            "Epoch 383/500\n",
            "5/5 [==============================] - 0s 3ms/step - loss: 0.1339\n",
            "Epoch 384/500\n",
            "5/5 [==============================] - 0s 5ms/step - loss: 0.1493\n",
            "Epoch 385/500\n",
            "5/5 [==============================] - 0s 4ms/step - loss: 0.1422\n",
            "Epoch 386/500\n",
            "5/5 [==============================] - 0s 2ms/step - loss: 0.1359\n",
            "Epoch 387/500\n",
            "5/5 [==============================] - 0s 5ms/step - loss: 0.1259\n",
            "Epoch 388/500\n",
            "5/5 [==============================] - 0s 3ms/step - loss: 0.1114\n",
            "Epoch 389/500\n",
            "5/5 [==============================] - 0s 4ms/step - loss: 0.1167\n",
            "Epoch 390/500\n",
            "5/5 [==============================] - 0s 3ms/step - loss: 0.1366\n",
            "Epoch 391/500\n",
            "5/5 [==============================] - 0s 4ms/step - loss: 0.1201\n",
            "Epoch 392/500\n",
            "5/5 [==============================] - 0s 2ms/step - loss: 0.1170\n",
            "Epoch 393/500\n",
            "5/5 [==============================] - 0s 4ms/step - loss: 0.1349\n",
            "Epoch 394/500\n",
            "5/5 [==============================] - 0s 4ms/step - loss: 0.1352\n",
            "Epoch 395/500\n",
            "5/5 [==============================] - 0s 3ms/step - loss: 0.1242\n",
            "Epoch 396/500\n",
            "5/5 [==============================] - 0s 3ms/step - loss: 0.1416\n",
            "Epoch 397/500\n",
            "5/5 [==============================] - 0s 4ms/step - loss: 0.1546\n",
            "Epoch 398/500\n",
            "5/5 [==============================] - 0s 2ms/step - loss: 0.1567\n",
            "Epoch 399/500\n",
            "5/5 [==============================] - 0s 3ms/step - loss: 0.1546\n",
            "Epoch 400/500\n",
            "5/5 [==============================] - 0s 2ms/step - loss: 0.1200\n",
            "Epoch 401/500\n",
            "5/5 [==============================] - 0s 5ms/step - loss: 0.1266\n",
            "Epoch 402/500\n",
            "5/5 [==============================] - 0s 2ms/step - loss: 0.1535\n",
            "Epoch 403/500\n",
            "5/5 [==============================] - 0s 2ms/step - loss: 0.1282\n",
            "Epoch 404/500\n",
            "5/5 [==============================] - 0s 2ms/step - loss: 0.1255\n",
            "Epoch 405/500\n",
            "5/5 [==============================] - 0s 3ms/step - loss: 0.1314\n",
            "Epoch 406/500\n",
            "5/5 [==============================] - 0s 4ms/step - loss: 0.1402\n",
            "Epoch 407/500\n",
            "5/5 [==============================] - 0s 7ms/step - loss: 0.1420\n",
            "Epoch 408/500\n",
            "5/5 [==============================] - 0s 3ms/step - loss: 0.1403\n",
            "Epoch 409/500\n",
            "5/5 [==============================] - 0s 4ms/step - loss: 0.1295\n",
            "Epoch 410/500\n",
            "5/5 [==============================] - 0s 6ms/step - loss: 0.1258\n",
            "Epoch 411/500\n",
            "5/5 [==============================] - 0s 5ms/step - loss: 0.1211\n",
            "Epoch 412/500\n",
            "5/5 [==============================] - 0s 4ms/step - loss: 0.1398\n",
            "Epoch 413/500\n",
            "5/5 [==============================] - 0s 4ms/step - loss: 0.1308\n",
            "Epoch 414/500\n",
            "5/5 [==============================] - 0s 3ms/step - loss: 0.1467\n",
            "Epoch 415/500\n",
            "5/5 [==============================] - 0s 5ms/step - loss: 0.1331\n",
            "Epoch 416/500\n",
            "5/5 [==============================] - 0s 4ms/step - loss: 0.1495\n",
            "Epoch 417/500\n",
            "5/5 [==============================] - 0s 4ms/step - loss: 0.1445\n",
            "Epoch 418/500\n",
            "5/5 [==============================] - 0s 3ms/step - loss: 0.1120\n",
            "Epoch 419/500\n",
            "5/5 [==============================] - 0s 4ms/step - loss: 0.1399\n",
            "Epoch 420/500\n",
            "5/5 [==============================] - 0s 3ms/step - loss: 0.1338\n",
            "Epoch 421/500\n",
            "5/5 [==============================] - 0s 3ms/step - loss: 0.1437\n",
            "Epoch 422/500\n",
            "5/5 [==============================] - 0s 3ms/step - loss: 0.1317\n",
            "Epoch 423/500\n",
            "5/5 [==============================] - 0s 4ms/step - loss: 0.1413\n",
            "Epoch 424/500\n",
            "5/5 [==============================] - 0s 4ms/step - loss: 0.1147\n",
            "Epoch 425/500\n",
            "5/5 [==============================] - 0s 4ms/step - loss: 0.1427\n",
            "Epoch 426/500\n",
            "5/5 [==============================] - 0s 5ms/step - loss: 0.1549\n",
            "Epoch 427/500\n",
            "5/5 [==============================] - 0s 5ms/step - loss: 0.1124\n",
            "Epoch 428/500\n",
            "5/5 [==============================] - 0s 4ms/step - loss: 0.1345\n",
            "Epoch 429/500\n",
            "5/5 [==============================] - 0s 4ms/step - loss: 0.1180\n",
            "Epoch 430/500\n",
            "5/5 [==============================] - 0s 4ms/step - loss: 0.1315\n",
            "Epoch 431/500\n",
            "5/5 [==============================] - 0s 3ms/step - loss: 0.1293\n",
            "Epoch 432/500\n",
            "5/5 [==============================] - 0s 5ms/step - loss: 0.1614\n",
            "Epoch 433/500\n",
            "5/5 [==============================] - 0s 3ms/step - loss: 0.1441\n",
            "Epoch 434/500\n",
            "5/5 [==============================] - 0s 3ms/step - loss: 0.1349\n",
            "Epoch 435/500\n",
            "5/5 [==============================] - 0s 4ms/step - loss: 0.1268\n",
            "Epoch 436/500\n",
            "5/5 [==============================] - 0s 5ms/step - loss: 0.1302\n",
            "Epoch 437/500\n",
            "5/5 [==============================] - 0s 3ms/step - loss: 0.1416\n",
            "Epoch 438/500\n",
            "5/5 [==============================] - 0s 3ms/step - loss: 0.1256\n",
            "Epoch 439/500\n",
            "5/5 [==============================] - 0s 4ms/step - loss: 0.1367\n",
            "Epoch 440/500\n",
            "5/5 [==============================] - 0s 3ms/step - loss: 0.1254\n",
            "Epoch 441/500\n",
            "5/5 [==============================] - 0s 6ms/step - loss: 0.1249\n",
            "Epoch 442/500\n",
            "5/5 [==============================] - 0s 2ms/step - loss: 0.1266\n",
            "Epoch 443/500\n",
            "5/5 [==============================] - 0s 3ms/step - loss: 0.1462\n",
            "Epoch 444/500\n",
            "5/5 [==============================] - 0s 3ms/step - loss: 0.1372\n",
            "Epoch 445/500\n",
            "5/5 [==============================] - 0s 3ms/step - loss: 0.1359\n",
            "Epoch 446/500\n",
            "5/5 [==============================] - 0s 3ms/step - loss: 0.1293\n",
            "Epoch 447/500\n",
            "5/5 [==============================] - 0s 3ms/step - loss: 0.1191\n",
            "Epoch 448/500\n",
            "5/5 [==============================] - 0s 4ms/step - loss: 0.1474\n",
            "Epoch 449/500\n",
            "5/5 [==============================] - 0s 5ms/step - loss: 0.1395\n",
            "Epoch 450/500\n",
            "5/5 [==============================] - 0s 5ms/step - loss: 0.1258\n",
            "Epoch 451/500\n",
            "5/5 [==============================] - 0s 4ms/step - loss: 0.1313\n",
            "Epoch 452/500\n",
            "5/5 [==============================] - 0s 4ms/step - loss: 0.1275\n",
            "Epoch 453/500\n",
            "5/5 [==============================] - 0s 4ms/step - loss: 0.1517\n",
            "Epoch 454/500\n",
            "5/5 [==============================] - 0s 4ms/step - loss: 0.1399\n",
            "Epoch 455/500\n",
            "5/5 [==============================] - 0s 4ms/step - loss: 0.1392\n",
            "Epoch 456/500\n",
            "5/5 [==============================] - 0s 5ms/step - loss: 0.1357\n",
            "Epoch 457/500\n",
            "5/5 [==============================] - 0s 4ms/step - loss: 0.1423\n",
            "Epoch 458/500\n",
            "5/5 [==============================] - 0s 2ms/step - loss: 0.1320\n",
            "Epoch 459/500\n",
            "5/5 [==============================] - 0s 5ms/step - loss: 0.1319\n",
            "Epoch 460/500\n",
            "5/5 [==============================] - 0s 5ms/step - loss: 0.1351\n",
            "Epoch 461/500\n",
            "5/5 [==============================] - 0s 5ms/step - loss: 0.1291\n",
            "Epoch 462/500\n",
            "5/5 [==============================] - 0s 5ms/step - loss: 0.1294\n",
            "Epoch 463/500\n",
            "5/5 [==============================] - 0s 5ms/step - loss: 0.1479\n",
            "Epoch 464/500\n",
            "5/5 [==============================] - 0s 6ms/step - loss: 0.1346\n",
            "Epoch 465/500\n",
            "5/5 [==============================] - 0s 4ms/step - loss: 0.1276\n",
            "Epoch 466/500\n",
            "5/5 [==============================] - 0s 6ms/step - loss: 0.1475\n",
            "Epoch 467/500\n",
            "5/5 [==============================] - 0s 3ms/step - loss: 0.1249\n",
            "Epoch 468/500\n",
            "5/5 [==============================] - 0s 4ms/step - loss: 0.1308\n",
            "Epoch 469/500\n",
            "5/5 [==============================] - 0s 5ms/step - loss: 0.1214\n",
            "Epoch 470/500\n",
            "5/5 [==============================] - 0s 4ms/step - loss: 0.1234\n",
            "Epoch 471/500\n",
            "5/5 [==============================] - 0s 4ms/step - loss: 0.1406\n",
            "Epoch 472/500\n",
            "5/5 [==============================] - 0s 3ms/step - loss: 0.1327\n",
            "Epoch 473/500\n",
            "5/5 [==============================] - 0s 2ms/step - loss: 0.1313\n",
            "Epoch 474/500\n",
            "5/5 [==============================] - 0s 3ms/step - loss: 0.1487\n",
            "Epoch 475/500\n",
            "5/5 [==============================] - 0s 3ms/step - loss: 0.1185\n",
            "Epoch 476/500\n",
            "5/5 [==============================] - 0s 4ms/step - loss: 0.1260\n",
            "Epoch 477/500\n",
            "5/5 [==============================] - 0s 4ms/step - loss: 0.1304\n",
            "Epoch 478/500\n",
            "5/5 [==============================] - 0s 4ms/step - loss: 0.1285\n",
            "Epoch 479/500\n",
            "5/5 [==============================] - 0s 3ms/step - loss: 0.1187\n",
            "Epoch 480/500\n",
            "5/5 [==============================] - 0s 4ms/step - loss: 0.1254\n",
            "Epoch 481/500\n",
            "5/5 [==============================] - 0s 2ms/step - loss: 0.1432\n",
            "Epoch 482/500\n",
            "5/5 [==============================] - 0s 3ms/step - loss: 0.1309\n",
            "Epoch 483/500\n",
            "5/5 [==============================] - 0s 3ms/step - loss: 0.1326\n",
            "Epoch 484/500\n",
            "5/5 [==============================] - 0s 3ms/step - loss: 0.1158\n",
            "Epoch 485/500\n",
            "5/5 [==============================] - 0s 2ms/step - loss: 0.1321\n",
            "Epoch 486/500\n",
            "5/5 [==============================] - 0s 2ms/step - loss: 0.1303\n",
            "Epoch 487/500\n",
            "5/5 [==============================] - 0s 3ms/step - loss: 0.1285\n",
            "Epoch 488/500\n",
            "5/5 [==============================] - 0s 3ms/step - loss: 0.1392\n",
            "Epoch 489/500\n",
            "5/5 [==============================] - 0s 2ms/step - loss: 0.1255\n",
            "Epoch 490/500\n",
            "5/5 [==============================] - 0s 3ms/step - loss: 0.1406\n",
            "Epoch 491/500\n",
            "5/5 [==============================] - 0s 4ms/step - loss: 0.1239\n",
            "Epoch 492/500\n",
            "5/5 [==============================] - 0s 8ms/step - loss: 0.1385\n",
            "Epoch 493/500\n",
            "5/5 [==============================] - 0s 3ms/step - loss: 0.1266\n",
            "Epoch 494/500\n",
            "5/5 [==============================] - 0s 3ms/step - loss: 0.1259\n",
            "Epoch 495/500\n",
            "5/5 [==============================] - 0s 7ms/step - loss: 0.1237\n",
            "Epoch 496/500\n",
            "5/5 [==============================] - 0s 2ms/step - loss: 0.1400\n",
            "Epoch 497/500\n",
            "5/5 [==============================] - 0s 3ms/step - loss: 0.1224\n",
            "Epoch 498/500\n",
            "5/5 [==============================] - 0s 3ms/step - loss: 0.1550\n",
            "Epoch 499/500\n",
            "5/5 [==============================] - 0s 3ms/step - loss: 0.1380\n",
            "Epoch 500/500\n",
            "5/5 [==============================] - 0s 3ms/step - loss: 0.1319\n"
          ],
          "name": "stdout"
        },
        {
          "output_type": "execute_result",
          "data": {
            "text/plain": [
              "<tensorflow.python.keras.callbacks.History at 0x7f21f5159350>"
            ]
          },
          "metadata": {
            "tags": []
          },
          "execution_count": 24
        }
      ]
    },
    {
      "cell_type": "code",
      "metadata": {
        "id": "Fdwg85J53p5Y"
      },
      "source": [
        "y_predict2 = regressor2.predict(xtreino)\n",
        "y_predict_test2 = regressor2.predict(xtest)"
      ],
      "execution_count": 25,
      "outputs": []
    },
    {
      "cell_type": "code",
      "metadata": {
        "colab": {
          "base_uri": "https://localhost:8080/",
          "height": 405
        },
        "id": "7-snOYEo30dS",
        "outputId": "7bd67b58-ea49-4eb4-a5d4-f7a1ad816434"
      },
      "source": [
        "sns.lineplot(x=xtreino, y=ytreino, label='treino')\n",
        "sns.lineplot(x=xtest, y=ytest, label='teste')\n",
        "\n",
        "sns.lineplot(x=xtreino, y=y_predict2[:,0], label='ajuste treino')\n",
        "sns.lineplot(x=xtest, y=y_predict_test2[:,0], label='previsão')"
      ],
      "execution_count": 26,
      "outputs": [
        {
          "output_type": "execute_result",
          "data": {
            "text/plain": [
              "<matplotlib.axes._subplots.AxesSubplot at 0x7f21f42794d0>"
            ]
          },
          "metadata": {
            "tags": []
          },
          "execution_count": 26
        },
        {
          "output_type": "display_data",
          "data": {
            "image/png": "[encoded data removed]",
            "text/plain": [
              "<Figure size 720x432 with 1 Axes>"
            ]
          },
          "metadata": {
            "tags": [],
            "needs_background": "light"
          }
        }
      ]
    },
    {
      "cell_type": "markdown",
      "metadata": {
        "id": "S4c9GbYS8hyB"
      },
      "source": [
        "Vendo o problema de outra forma"
      ]
    },
    {
      "cell_type": "code",
      "metadata": {
        "id": "_TQ6iYpN6zfk"
      },
      "source": [
        "def separa_dados(vetor, n_passos):\n",
        "  X_novo, y_novo = [], []\n",
        "\n",
        "  for i  in range(n_passos, vetor.shape[0]):\n",
        "    X_novo.append(list(vetor.loc[i - n_passos:i-1]))\n",
        "    y_novo.append(vetor.loc[i])\n",
        "  X_novo, y_novo = np.array(X_novo), np.array(y_novo)\n",
        "  return X_novo, y_novo\n",
        "\n"
      ],
      "execution_count": 27,
      "outputs": []
    },
    {
      "cell_type": "code",
      "metadata": {
        "id": "MP2sObTd90VS"
      },
      "source": [
        "vetor = pd.DataFrame(ytreino)[0]"
      ],
      "execution_count": 28,
      "outputs": []
    },
    {
      "cell_type": "code",
      "metadata": {
        "id": "xf3MaiG399Lx"
      },
      "source": [
        "xtreino_novo, ytreino_novo = separa_dados(vetor, 1)"
      ],
      "execution_count": 29,
      "outputs": []
    },
    {
      "cell_type": "code",
      "metadata": {
        "colab": {
          "base_uri": "https://localhost:8080/"
        },
        "id": "YUrK1Qq6-WAp",
        "outputId": "40a2c3af-cd11-4825-9282-90159a014816"
      },
      "source": [
        "xtreino_novo[0:5]"
      ],
      "execution_count": 30,
      "outputs": [
        {
          "output_type": "execute_result",
          "data": {
            "text/plain": [
              "array([[-1.40777884],\n",
              "       [-1.35759023],\n",
              "       [-1.24048348],\n",
              "       [-1.26557778],\n",
              "       [-1.33249593]])"
            ]
          },
          "metadata": {
            "tags": []
          },
          "execution_count": 30
        }
      ]
    },
    {
      "cell_type": "code",
      "metadata": {
        "colab": {
          "base_uri": "https://localhost:8080/"
        },
        "id": "5R_nQAvB-adv",
        "outputId": "2925cc95-209f-4715-a4ff-c884f56ecf32"
      },
      "source": [
        "ytreino_novo[0:5]"
      ],
      "execution_count": 31,
      "outputs": [
        {
          "output_type": "execute_result",
          "data": {
            "text/plain": [
              "array([-1.35759023, -1.24048348, -1.26557778, -1.33249593, -1.21538918])"
            ]
          },
          "metadata": {
            "tags": []
          },
          "execution_count": 31
        }
      ]
    },
    {
      "cell_type": "code",
      "metadata": {
        "id": "xK4GPdF5-wX-"
      },
      "source": [
        "vetor2 = pd.DataFrame(ytest)[0]"
      ],
      "execution_count": 32,
      "outputs": []
    },
    {
      "cell_type": "code",
      "metadata": {
        "id": "G3XzdRri-yRS"
      },
      "source": [
        "xtest_novo, ytest_novo = separa_dados(vetor2, 1)"
      ],
      "execution_count": 33,
      "outputs": []
    },
    {
      "cell_type": "code",
      "metadata": {
        "colab": {
          "base_uri": "https://localhost:8080/"
        },
        "id": "Tx3T2Lix-z10",
        "outputId": "507e579e-6a4d-4e4c-d038-f7ec195bc1a2"
      },
      "source": [
        "xtest_novo[0:5]"
      ],
      "execution_count": 34,
      "outputs": [
        {
          "output_type": "execute_result",
          "data": {
            "text/plain": [
              "array([[1.05982773],\n",
              "       [0.68341317],\n",
              "       [1.04309819],\n",
              "       [1.14347541],\n",
              "       [0.92599144]])"
            ]
          },
          "metadata": {
            "tags": []
          },
          "execution_count": 34
        }
      ]
    },
    {
      "cell_type": "code",
      "metadata": {
        "colab": {
          "base_uri": "https://localhost:8080/"
        },
        "id": "OssXv0FK-1sz",
        "outputId": "dcd5efd1-9b4d-45f9-f0fc-6a41e4a79587"
      },
      "source": [
        "ytest_novo[0:5]"
      ],
      "execution_count": 35,
      "outputs": [
        {
          "output_type": "execute_result",
          "data": {
            "text/plain": [
              "array([0.68341317, 1.04309819, 1.14347541, 0.92599144, 1.16020494])"
            ]
          },
          "metadata": {
            "tags": []
          },
          "execution_count": 35
        }
      ]
    },
    {
      "cell_type": "markdown",
      "metadata": {
        "id": "2R3jttrS_-GX"
      },
      "source": [
        "Nova rede neural com os dados temporais"
      ]
    },
    {
      "cell_type": "code",
      "metadata": {
        "colab": {
          "base_uri": "https://localhost:8080/"
        },
        "id": "X_Jhopu4_XBJ",
        "outputId": "4daa9678-ff0b-409d-c006-bf4919508829"
      },
      "source": [
        "regressor3 = Sequential()\n",
        "\n",
        "regressor3.add(Dense(8,input_dim=1, kernel_initializer='ones',\n",
        "                     activation='linear', use_bias=False))\n",
        "regressor3.add(Dense(64,kernel_initializer='random_uniform',\n",
        "                     activation='sigmoid', use_bias=False))\n",
        "regressor3.add(Dense(1, kernel_initializer='random_uniform',\n",
        "                     activation='linear', use_bias=False))\n",
        "\n",
        "regressor3.compile(loss='mean_squared_error', optimizer='adam')\n",
        "\n",
        "regressor3.summary()  "
      ],
      "execution_count": 36,
      "outputs": [
        {
          "output_type": "stream",
          "text": [
            "Model: \"sequential_2\"\n",
            "_________________________________________________________________\n",
            "Layer (type)                 Output Shape              Param #   \n",
            "=================================================================\n",
            "dense_4 (Dense)              (None, 8)                 8         \n",
            "_________________________________________________________________\n",
            "dense_5 (Dense)              (None, 64)                512       \n",
            "_________________________________________________________________\n",
            "dense_6 (Dense)              (None, 1)                 64        \n",
            "=================================================================\n",
            "Total params: 584\n",
            "Trainable params: 584\n",
            "Non-trainable params: 0\n",
            "_________________________________________________________________\n"
          ],
          "name": "stdout"
        }
      ]
    },
    {
      "cell_type": "code",
      "metadata": {
        "colab": {
          "base_uri": "https://localhost:8080/"
        },
        "id": "qIGGJR1rAyn6",
        "outputId": "3b48fc29-5d81-45a7-ff84-8cfd81d629fa"
      },
      "source": [
        "regressor3.fit(xtreino_novo, ytreino_novo, epochs=100)"
      ],
      "execution_count": 37,
      "outputs": [
        {
          "output_type": "stream",
          "text": [
            "Epoch 1/100\n",
            "4/4 [==============================] - 0s 3ms/step - loss: 0.7475\n",
            "Epoch 2/100\n",
            "4/4 [==============================] - 0s 3ms/step - loss: 0.8258\n",
            "Epoch 3/100\n",
            "4/4 [==============================] - 0s 3ms/step - loss: 0.7563\n",
            "Epoch 4/100\n",
            "4/4 [==============================] - 0s 3ms/step - loss: 0.7612\n",
            "Epoch 5/100\n",
            "4/4 [==============================] - 0s 3ms/step - loss: 0.7913\n",
            "Epoch 6/100\n",
            "4/4 [==============================] - 0s 4ms/step - loss: 0.5928\n",
            "Epoch 7/100\n",
            "4/4 [==============================] - 0s 3ms/step - loss: 0.7187\n",
            "Epoch 8/100\n",
            "4/4 [==============================] - 0s 3ms/step - loss: 0.6211\n",
            "Epoch 9/100\n",
            "4/4 [==============================] - 0s 3ms/step - loss: 0.6039\n",
            "Epoch 10/100\n",
            "4/4 [==============================] - 0s 3ms/step - loss: 0.5603\n",
            "Epoch 11/100\n",
            "4/4 [==============================] - 0s 3ms/step - loss: 0.4388\n",
            "Epoch 12/100\n",
            "4/4 [==============================] - 0s 3ms/step - loss: 0.4467\n",
            "Epoch 13/100\n",
            "4/4 [==============================] - 0s 4ms/step - loss: 0.4152\n",
            "Epoch 14/100\n",
            "4/4 [==============================] - 0s 3ms/step - loss: 0.3718\n",
            "Epoch 15/100\n",
            "4/4 [==============================] - 0s 3ms/step - loss: 0.3818\n",
            "Epoch 16/100\n",
            "4/4 [==============================] - 0s 3ms/step - loss: 0.2582\n",
            "Epoch 17/100\n",
            "4/4 [==============================] - 0s 3ms/step - loss: 0.2793\n",
            "Epoch 18/100\n",
            "4/4 [==============================] - 0s 4ms/step - loss: 0.2685\n",
            "Epoch 19/100\n",
            "4/4 [==============================] - 0s 3ms/step - loss: 0.1894\n",
            "Epoch 20/100\n",
            "4/4 [==============================] - 0s 3ms/step - loss: 0.1773\n",
            "Epoch 21/100\n",
            "4/4 [==============================] - 0s 3ms/step - loss: 0.1282\n",
            "Epoch 22/100\n",
            "4/4 [==============================] - 0s 4ms/step - loss: 0.1359\n",
            "Epoch 23/100\n",
            "4/4 [==============================] - 0s 4ms/step - loss: 0.0919\n",
            "Epoch 24/100\n",
            "4/4 [==============================] - 0s 4ms/step - loss: 0.0888\n",
            "Epoch 25/100\n",
            "4/4 [==============================] - 0s 4ms/step - loss: 0.0753\n",
            "Epoch 26/100\n",
            "4/4 [==============================] - 0s 3ms/step - loss: 0.0604\n",
            "Epoch 27/100\n",
            "4/4 [==============================] - 0s 7ms/step - loss: 0.0635\n",
            "Epoch 28/100\n",
            "4/4 [==============================] - 0s 2ms/step - loss: 0.0656\n",
            "Epoch 29/100\n",
            "4/4 [==============================] - 0s 3ms/step - loss: 0.0614\n",
            "Epoch 30/100\n",
            "4/4 [==============================] - 0s 7ms/step - loss: 0.0539\n",
            "Epoch 31/100\n",
            "4/4 [==============================] - 0s 3ms/step - loss: 0.0669\n",
            "Epoch 32/100\n",
            "4/4 [==============================] - 0s 3ms/step - loss: 0.0608\n",
            "Epoch 33/100\n",
            "4/4 [==============================] - 0s 3ms/step - loss: 0.0603\n",
            "Epoch 34/100\n",
            "4/4 [==============================] - 0s 3ms/step - loss: 0.0622\n",
            "Epoch 35/100\n",
            "4/4 [==============================] - 0s 3ms/step - loss: 0.0593\n",
            "Epoch 36/100\n",
            "4/4 [==============================] - 0s 3ms/step - loss: 0.0645\n",
            "Epoch 37/100\n",
            "4/4 [==============================] - 0s 4ms/step - loss: 0.0668\n",
            "Epoch 38/100\n",
            "4/4 [==============================] - 0s 3ms/step - loss: 0.0599\n",
            "Epoch 39/100\n",
            "4/4 [==============================] - 0s 6ms/step - loss: 0.0705\n",
            "Epoch 40/100\n",
            "4/4 [==============================] - 0s 4ms/step - loss: 0.0591\n",
            "Epoch 41/100\n",
            "4/4 [==============================] - 0s 3ms/step - loss: 0.0619\n",
            "Epoch 42/100\n",
            "4/4 [==============================] - 0s 3ms/step - loss: 0.0694\n",
            "Epoch 43/100\n",
            "4/4 [==============================] - 0s 3ms/step - loss: 0.0610\n",
            "Epoch 44/100\n",
            "4/4 [==============================] - 0s 4ms/step - loss: 0.0598\n",
            "Epoch 45/100\n",
            "4/4 [==============================] - 0s 3ms/step - loss: 0.0623\n",
            "Epoch 46/100\n",
            "4/4 [==============================] - 0s 4ms/step - loss: 0.0592\n",
            "Epoch 47/100\n",
            "4/4 [==============================] - 0s 4ms/step - loss: 0.0592\n",
            "Epoch 48/100\n",
            "4/4 [==============================] - 0s 2ms/step - loss: 0.0533\n",
            "Epoch 49/100\n",
            "4/4 [==============================] - 0s 4ms/step - loss: 0.0539\n",
            "Epoch 50/100\n",
            "4/4 [==============================] - 0s 3ms/step - loss: 0.0697\n",
            "Epoch 51/100\n",
            "4/4 [==============================] - 0s 2ms/step - loss: 0.0693\n",
            "Epoch 52/100\n",
            "4/4 [==============================] - 0s 4ms/step - loss: 0.0730\n",
            "Epoch 53/100\n",
            "4/4 [==============================] - 0s 3ms/step - loss: 0.0659\n",
            "Epoch 54/100\n",
            "4/4 [==============================] - 0s 4ms/step - loss: 0.0664\n",
            "Epoch 55/100\n",
            "4/4 [==============================] - 0s 5ms/step - loss: 0.0555\n",
            "Epoch 56/100\n",
            "4/4 [==============================] - 0s 3ms/step - loss: 0.0664\n",
            "Epoch 57/100\n",
            "4/4 [==============================] - 0s 3ms/step - loss: 0.0635\n",
            "Epoch 58/100\n",
            "4/4 [==============================] - 0s 3ms/step - loss: 0.0665\n",
            "Epoch 59/100\n",
            "4/4 [==============================] - 0s 7ms/step - loss: 0.0686\n",
            "Epoch 60/100\n",
            "4/4 [==============================] - 0s 3ms/step - loss: 0.0646\n",
            "Epoch 61/100\n",
            "4/4 [==============================] - 0s 5ms/step - loss: 0.0687\n",
            "Epoch 62/100\n",
            "4/4 [==============================] - 0s 5ms/step - loss: 0.0626\n",
            "Epoch 63/100\n",
            "4/4 [==============================] - 0s 3ms/step - loss: 0.0707\n",
            "Epoch 64/100\n",
            "4/4 [==============================] - 0s 5ms/step - loss: 0.0611\n",
            "Epoch 65/100\n",
            "4/4 [==============================] - 0s 5ms/step - loss: 0.0542\n",
            "Epoch 66/100\n",
            "4/4 [==============================] - 0s 3ms/step - loss: 0.0648\n",
            "Epoch 67/100\n",
            "4/4 [==============================] - 0s 5ms/step - loss: 0.0708\n",
            "Epoch 68/100\n",
            "4/4 [==============================] - 0s 4ms/step - loss: 0.0628\n",
            "Epoch 69/100\n",
            "4/4 [==============================] - 0s 4ms/step - loss: 0.0641\n",
            "Epoch 70/100\n",
            "4/4 [==============================] - 0s 5ms/step - loss: 0.0646\n",
            "Epoch 71/100\n",
            "4/4 [==============================] - 0s 5ms/step - loss: 0.0671\n",
            "Epoch 72/100\n",
            "4/4 [==============================] - 0s 3ms/step - loss: 0.0647\n",
            "Epoch 73/100\n",
            "4/4 [==============================] - 0s 3ms/step - loss: 0.0556\n",
            "Epoch 74/100\n",
            "4/4 [==============================] - 0s 4ms/step - loss: 0.0626\n",
            "Epoch 75/100\n",
            "4/4 [==============================] - 0s 3ms/step - loss: 0.0720\n",
            "Epoch 76/100\n",
            "4/4 [==============================] - 0s 4ms/step - loss: 0.0588\n",
            "Epoch 77/100\n",
            "4/4 [==============================] - 0s 5ms/step - loss: 0.0670\n",
            "Epoch 78/100\n",
            "4/4 [==============================] - 0s 4ms/step - loss: 0.0567\n",
            "Epoch 79/100\n",
            "4/4 [==============================] - 0s 4ms/step - loss: 0.0601\n",
            "Epoch 80/100\n",
            "4/4 [==============================] - 0s 8ms/step - loss: 0.0648\n",
            "Epoch 81/100\n",
            "4/4 [==============================] - 0s 5ms/step - loss: 0.0639\n",
            "Epoch 82/100\n",
            "4/4 [==============================] - 0s 4ms/step - loss: 0.0642\n",
            "Epoch 83/100\n",
            "4/4 [==============================] - 0s 4ms/step - loss: 0.0628\n",
            "Epoch 84/100\n",
            "4/4 [==============================] - 0s 3ms/step - loss: 0.0584\n",
            "Epoch 85/100\n",
            "4/4 [==============================] - 0s 3ms/step - loss: 0.0639\n",
            "Epoch 86/100\n",
            "4/4 [==============================] - 0s 4ms/step - loss: 0.0631\n",
            "Epoch 87/100\n",
            "4/4 [==============================] - 0s 3ms/step - loss: 0.0620\n",
            "Epoch 88/100\n",
            "4/4 [==============================] - 0s 4ms/step - loss: 0.0625\n",
            "Epoch 89/100\n",
            "4/4 [==============================] - 0s 3ms/step - loss: 0.0673\n",
            "Epoch 90/100\n",
            "4/4 [==============================] - 0s 3ms/step - loss: 0.0634\n",
            "Epoch 91/100\n",
            "4/4 [==============================] - 0s 3ms/step - loss: 0.0673\n",
            "Epoch 92/100\n",
            "4/4 [==============================] - 0s 5ms/step - loss: 0.0600\n",
            "Epoch 93/100\n",
            "4/4 [==============================] - 0s 2ms/step - loss: 0.0622\n",
            "Epoch 94/100\n",
            "4/4 [==============================] - 0s 3ms/step - loss: 0.0509\n",
            "Epoch 95/100\n",
            "4/4 [==============================] - 0s 3ms/step - loss: 0.0567\n",
            "Epoch 96/100\n",
            "4/4 [==============================] - 0s 5ms/step - loss: 0.0606\n",
            "Epoch 97/100\n",
            "4/4 [==============================] - 0s 3ms/step - loss: 0.0625\n",
            "Epoch 98/100\n",
            "4/4 [==============================] - 0s 3ms/step - loss: 0.0703\n",
            "Epoch 99/100\n",
            "4/4 [==============================] - 0s 4ms/step - loss: 0.0633\n",
            "Epoch 100/100\n",
            "4/4 [==============================] - 0s 3ms/step - loss: 0.0733\n"
          ],
          "name": "stdout"
        },
        {
          "output_type": "execute_result",
          "data": {
            "text/plain": [
              "<tensorflow.python.keras.callbacks.History at 0x7f21f3978690>"
            ]
          },
          "metadata": {
            "tags": []
          },
          "execution_count": 37
        }
      ]
    },
    {
      "cell_type": "code",
      "metadata": {
        "id": "LNS3zA1YA9lB"
      },
      "source": [
        "y_predict3 = regressor3.predict(xtreino_novo)"
      ],
      "execution_count": 38,
      "outputs": []
    },
    {
      "cell_type": "code",
      "metadata": {
        "colab": {
          "base_uri": "https://localhost:8080/",
          "height": 425
        },
        "id": "iipdJUBhBI0D",
        "outputId": "adb02fc5-a67b-435b-9b52-4b42a5074eb3"
      },
      "source": [
        "sns.lineplot(x='tempo', y=ytreino_novo, data=passageiros[1:129], label='treino')\n",
        "sns.lineplot(x='tempo', y=pd.DataFrame(y_predict3)[0], data=passageiros[1:129], label='ajuste')"
      ],
      "execution_count": 39,
      "outputs": [
        {
          "output_type": "execute_result",
          "data": {
            "text/plain": [
              "<matplotlib.axes._subplots.AxesSubplot at 0x7f21f306d1d0>"
            ]
          },
          "metadata": {
            "tags": []
          },
          "execution_count": 39
        },
        {
          "output_type": "display_data",
          "data": {
            "image/png": "[encoded data removed]",
            "text/plain": [
              "<Figure size 720x432 with 1 Axes>"
            ]
          },
          "metadata": {
            "tags": [],
            "needs_background": "light"
          }
        }
      ]
    },
    {
      "cell_type": "code",
      "metadata": {
        "colab": {
          "base_uri": "https://localhost:8080/"
        },
        "id": "DQhWiVdCCjWX",
        "outputId": "ff7b753e-cb3a-47e0-ab27-9c5562650e86"
      },
      "source": [
        "y_predict_teste3 = regressor3.predict(xtest_novo)\n",
        "y_predict_teste3"
      ],
      "execution_count": 40,
      "outputs": [
        {
          "output_type": "execute_result",
          "data": {
            "text/plain": [
              "array([[1.093061 ],\n",
              "       [0.7467555],\n",
              "       [1.0786887],\n",
              "       [1.1633941],\n",
              "       [0.9753101],\n",
              "       [1.1771517],\n",
              "       [1.4416366],\n",
              "       [1.5031577],\n",
              "       [1.7965218],\n",
              "       [2.062046 ],\n",
              "       [2.023227 ],\n",
              "       [1.6826533],\n",
              "       [1.4416366],\n",
              "       [0.9677442]], dtype=float32)"
            ]
          },
          "metadata": {
            "tags": []
          },
          "execution_count": 40
        }
      ]
    },
    {
      "cell_type": "code",
      "metadata": {
        "id": "0MXeYEhWDm9X"
      },
      "source": [
        "resultado = pd.DataFrame(y_predict_teste3)[0]"
      ],
      "execution_count": 41,
      "outputs": []
    },
    {
      "cell_type": "code",
      "metadata": {
        "colab": {
          "base_uri": "https://localhost:8080/",
          "height": 429
        },
        "id": "A0BSJgxxCumI",
        "outputId": "587e8e3d-b93b-449c-afdc-1a325b9833ae"
      },
      "source": [
        "sns.lineplot(x='tempo', y=ytreino_novo, data=passageiros[1:129], label='treino')\n",
        "sns.lineplot(x='tempo', y=pd.DataFrame(y_predict3)[0], data=passageiros[1:129], label='ajuste')\n",
        "\n",
        "sns.lineplot(x='tempo', y=ytest_novo, data=passageiros[130:144], label='teste')\n",
        "sns.lineplot(x='tempo', y=resultado.values, data=passageiros[130:144], label='previsão')"
      ],
      "execution_count": 42,
      "outputs": [
        {
          "output_type": "execute_result",
          "data": {
            "text/plain": [
              "<matplotlib.axes._subplots.AxesSubplot at 0x7f21f393cc50>"
            ]
          },
          "metadata": {
            "tags": []
          },
          "execution_count": 42
        },
        {
          "output_type": "display_data",
          "data": {
            "image/png": "[encoded data removed]",
            "text/plain": [
              "<Figure size 720x432 with 1 Axes>"
            ]
          },
          "metadata": {
            "tags": [],
            "needs_background": "light"
          }
        }
      ]
    },
    {
      "cell_type": "code",
      "metadata": {
        "id": "V0vBHMooEaMm"
      },
      "source": [
        "xtreino4, ytreino4 = separa_dados(vetor, 4)"
      ],
      "execution_count": 43,
      "outputs": []
    },
    {
      "cell_type": "code",
      "metadata": {
        "colab": {
          "base_uri": "https://localhost:8080/"
        },
        "id": "etGHNmGdEsW5",
        "outputId": "1399ac1d-e000-4d99-bfdd-12b5947abe2b"
      },
      "source": [
        "xtreino4[:5]"
      ],
      "execution_count": 44,
      "outputs": [
        {
          "output_type": "execute_result",
          "data": {
            "text/plain": [
              "array([[-1.40777884, -1.35759023, -1.24048348, -1.26557778],\n",
              "       [-1.35759023, -1.24048348, -1.26557778, -1.33249593],\n",
              "       [-1.24048348, -1.26557778, -1.33249593, -1.21538918],\n",
              "       [-1.26557778, -1.33249593, -1.21538918, -1.10664719],\n",
              "       [-1.33249593, -1.21538918, -1.10664719, -1.10664719]])"
            ]
          },
          "metadata": {
            "tags": []
          },
          "execution_count": 44
        }
      ]
    },
    {
      "cell_type": "code",
      "metadata": {
        "colab": {
          "base_uri": "https://localhost:8080/"
        },
        "id": "gQTIvyk4EyQN",
        "outputId": "d6cd4093-d458-406c-e0d7-150bd2b63f9d"
      },
      "source": [
        "ytreino4[:5]"
      ],
      "execution_count": 45,
      "outputs": [
        {
          "output_type": "execute_result",
          "data": {
            "text/plain": [
              "array([-1.33249593, -1.21538918, -1.10664719, -1.10664719, -1.20702441])"
            ]
          },
          "metadata": {
            "tags": []
          },
          "execution_count": 45
        }
      ]
    },
    {
      "cell_type": "code",
      "metadata": {
        "id": "xbICCIBdQEau"
      },
      "source": [
        "xtest4, ytest4 = separa_dados(vetor2, 4)"
      ],
      "execution_count": 46,
      "outputs": []
    },
    {
      "cell_type": "code",
      "metadata": {
        "colab": {
          "base_uri": "https://localhost:8080/"
        },
        "id": "KS-vgExK1jk3",
        "outputId": "87270917-d6b3-4f61-e9dd-f82a49e92723"
      },
      "source": [
        "regressor4 = Sequential()\n",
        "\n",
        "regressor4.add(Dense(8,input_dim=4, kernel_initializer='ones',\n",
        "                     activation='linear', use_bias=False))\n",
        "regressor4.add(Dense(64,kernel_initializer='random_uniform',\n",
        "                     activation='sigmoid', use_bias=False))\n",
        "regressor4.add(Dense(1, kernel_initializer='random_uniform',\n",
        "                     activation='linear', use_bias=False))\n",
        "\n",
        "regressor4.compile(loss='mean_squared_error', optimizer='adam')\n",
        "\n",
        "regressor4.summary()  "
      ],
      "execution_count": 47,
      "outputs": [
        {
          "output_type": "stream",
          "text": [
            "Model: \"sequential_3\"\n",
            "_________________________________________________________________\n",
            "Layer (type)                 Output Shape              Param #   \n",
            "=================================================================\n",
            "dense_7 (Dense)              (None, 8)                 32        \n",
            "_________________________________________________________________\n",
            "dense_8 (Dense)              (None, 64)                512       \n",
            "_________________________________________________________________\n",
            "dense_9 (Dense)              (None, 1)                 64        \n",
            "=================================================================\n",
            "Total params: 608\n",
            "Trainable params: 608\n",
            "Non-trainable params: 0\n",
            "_________________________________________________________________\n"
          ],
          "name": "stdout"
        }
      ]
    },
    {
      "cell_type": "code",
      "metadata": {
        "colab": {
          "base_uri": "https://localhost:8080/"
        },
        "id": "FmtLeNI62IYM",
        "outputId": "0c222912-70b7-4e59-df56-39eee39e3455"
      },
      "source": [
        "regressor4.fit(xtreino4, ytreino4, epochs=400)"
      ],
      "execution_count": 62,
      "outputs": [
        {
          "output_type": "stream",
          "text": [
            "Epoch 1/400\n",
            "4/4 [==============================] - 0s 3ms/step - loss: 0.0893\n",
            "Epoch 2/400\n",
            "4/4 [==============================] - 0s 3ms/step - loss: 0.0890\n",
            "Epoch 3/400\n",
            "4/4 [==============================] - 0s 4ms/step - loss: 0.0893\n",
            "Epoch 4/400\n",
            "4/4 [==============================] - 0s 5ms/step - loss: 0.0888\n",
            "Epoch 5/400\n",
            "4/4 [==============================] - 0s 3ms/step - loss: 0.0886\n",
            "Epoch 6/400\n",
            "4/4 [==============================] - 0s 3ms/step - loss: 0.0887\n",
            "Epoch 7/400\n",
            "4/4 [==============================] - 0s 3ms/step - loss: 0.0879\n",
            "Epoch 8/400\n",
            "4/4 [==============================] - 0s 3ms/step - loss: 0.0882\n",
            "Epoch 9/400\n",
            "4/4 [==============================] - 0s 3ms/step - loss: 0.0877\n",
            "Epoch 10/400\n",
            "4/4 [==============================] - 0s 4ms/step - loss: 0.0877\n",
            "Epoch 11/400\n",
            "4/4 [==============================] - 0s 3ms/step - loss: 0.0871\n",
            "Epoch 12/400\n",
            "4/4 [==============================] - 0s 4ms/step - loss: 0.0870\n",
            "Epoch 13/400\n",
            "4/4 [==============================] - 0s 4ms/step - loss: 0.0867\n",
            "Epoch 14/400\n",
            "4/4 [==============================] - 0s 3ms/step - loss: 0.0866\n",
            "Epoch 15/400\n",
            "4/4 [==============================] - 0s 4ms/step - loss: 0.0866\n",
            "Epoch 16/400\n",
            "4/4 [==============================] - 0s 5ms/step - loss: 0.0859\n",
            "Epoch 17/400\n",
            "4/4 [==============================] - 0s 3ms/step - loss: 0.0863\n",
            "Epoch 18/400\n",
            "4/4 [==============================] - 0s 3ms/step - loss: 0.0858\n",
            "Epoch 19/400\n",
            "4/4 [==============================] - 0s 3ms/step - loss: 0.0859\n",
            "Epoch 20/400\n",
            "4/4 [==============================] - 0s 3ms/step - loss: 0.0852\n",
            "Epoch 21/400\n",
            "4/4 [==============================] - 0s 3ms/step - loss: 0.0850\n",
            "Epoch 22/400\n",
            "4/4 [==============================] - 0s 3ms/step - loss: 0.0848\n",
            "Epoch 23/400\n",
            "4/4 [==============================] - 0s 4ms/step - loss: 0.0846\n",
            "Epoch 24/400\n",
            "4/4 [==============================] - 0s 3ms/step - loss: 0.0844\n",
            "Epoch 25/400\n",
            "4/4 [==============================] - 0s 3ms/step - loss: 0.0841\n",
            "Epoch 26/400\n",
            "4/4 [==============================] - 0s 4ms/step - loss: 0.0840\n",
            "Epoch 27/400\n",
            "4/4 [==============================] - 0s 3ms/step - loss: 0.0838\n",
            "Epoch 28/400\n",
            "4/4 [==============================] - 0s 5ms/step - loss: 0.0837\n",
            "Epoch 29/400\n",
            "4/4 [==============================] - 0s 4ms/step - loss: 0.0833\n",
            "Epoch 30/400\n",
            "4/4 [==============================] - 0s 5ms/step - loss: 0.0833\n",
            "Epoch 31/400\n",
            "4/4 [==============================] - 0s 4ms/step - loss: 0.0828\n",
            "Epoch 32/400\n",
            "4/4 [==============================] - 0s 4ms/step - loss: 0.0826\n",
            "Epoch 33/400\n",
            "4/4 [==============================] - 0s 5ms/step - loss: 0.0824\n",
            "Epoch 34/400\n",
            "4/4 [==============================] - 0s 5ms/step - loss: 0.0823\n",
            "Epoch 35/400\n",
            "4/4 [==============================] - 0s 6ms/step - loss: 0.0818\n",
            "Epoch 36/400\n",
            "4/4 [==============================] - 0s 4ms/step - loss: 0.0825\n",
            "Epoch 37/400\n",
            "4/4 [==============================] - 0s 6ms/step - loss: 0.0817\n",
            "Epoch 38/400\n",
            "4/4 [==============================] - 0s 6ms/step - loss: 0.0817\n",
            "Epoch 39/400\n",
            "4/4 [==============================] - 0s 4ms/step - loss: 0.0816\n",
            "Epoch 40/400\n",
            "4/4 [==============================] - 0s 4ms/step - loss: 0.0809\n",
            "Epoch 41/400\n",
            "4/4 [==============================] - 0s 4ms/step - loss: 0.0807\n",
            "Epoch 42/400\n",
            "4/4 [==============================] - 0s 5ms/step - loss: 0.0807\n",
            "Epoch 43/400\n",
            "4/4 [==============================] - 0s 3ms/step - loss: 0.0805\n",
            "Epoch 44/400\n",
            "4/4 [==============================] - 0s 4ms/step - loss: 0.0803\n",
            "Epoch 45/400\n",
            "4/4 [==============================] - 0s 4ms/step - loss: 0.0799\n",
            "Epoch 46/400\n",
            "4/4 [==============================] - 0s 5ms/step - loss: 0.0802\n",
            "Epoch 47/400\n",
            "4/4 [==============================] - 0s 4ms/step - loss: 0.0802\n",
            "Epoch 48/400\n",
            "4/4 [==============================] - 0s 5ms/step - loss: 0.0794\n",
            "Epoch 49/400\n",
            "4/4 [==============================] - 0s 4ms/step - loss: 0.0793\n",
            "Epoch 50/400\n",
            "4/4 [==============================] - 0s 4ms/step - loss: 0.0788\n",
            "Epoch 51/400\n",
            "4/4 [==============================] - 0s 3ms/step - loss: 0.0790\n",
            "Epoch 52/400\n",
            "4/4 [==============================] - 0s 4ms/step - loss: 0.0784\n",
            "Epoch 53/400\n",
            "4/4 [==============================] - 0s 3ms/step - loss: 0.0787\n",
            "Epoch 54/400\n",
            "4/4 [==============================] - 0s 4ms/step - loss: 0.0782\n",
            "Epoch 55/400\n",
            "4/4 [==============================] - 0s 3ms/step - loss: 0.0780\n",
            "Epoch 56/400\n",
            "4/4 [==============================] - 0s 5ms/step - loss: 0.0777\n",
            "Epoch 57/400\n",
            "4/4 [==============================] - 0s 3ms/step - loss: 0.0776\n",
            "Epoch 58/400\n",
            "4/4 [==============================] - 0s 4ms/step - loss: 0.0773\n",
            "Epoch 59/400\n",
            "4/4 [==============================] - 0s 4ms/step - loss: 0.0771\n",
            "Epoch 60/400\n",
            "4/4 [==============================] - 0s 6ms/step - loss: 0.0772\n",
            "Epoch 61/400\n",
            "4/4 [==============================] - 0s 3ms/step - loss: 0.0772\n",
            "Epoch 62/400\n",
            "4/4 [==============================] - 0s 4ms/step - loss: 0.0768\n",
            "Epoch 63/400\n",
            "4/4 [==============================] - 0s 3ms/step - loss: 0.0766\n",
            "Epoch 64/400\n",
            "4/4 [==============================] - 0s 4ms/step - loss: 0.0761\n",
            "Epoch 65/400\n",
            "4/4 [==============================] - 0s 4ms/step - loss: 0.0762\n",
            "Epoch 66/400\n",
            "4/4 [==============================] - 0s 4ms/step - loss: 0.0762\n",
            "Epoch 67/400\n",
            "4/4 [==============================] - 0s 4ms/step - loss: 0.0763\n",
            "Epoch 68/400\n",
            "4/4 [==============================] - 0s 4ms/step - loss: 0.0755\n",
            "Epoch 69/400\n",
            "4/4 [==============================] - 0s 4ms/step - loss: 0.0755\n",
            "Epoch 70/400\n",
            "4/4 [==============================] - 0s 4ms/step - loss: 0.0751\n",
            "Epoch 71/400\n",
            "4/4 [==============================] - 0s 5ms/step - loss: 0.0753\n",
            "Epoch 72/400\n",
            "4/4 [==============================] - 0s 6ms/step - loss: 0.0757\n",
            "Epoch 73/400\n",
            "4/4 [==============================] - 0s 4ms/step - loss: 0.0747\n",
            "Epoch 74/400\n",
            "4/4 [==============================] - 0s 4ms/step - loss: 0.0746\n",
            "Epoch 75/400\n",
            "4/4 [==============================] - 0s 4ms/step - loss: 0.0745\n",
            "Epoch 76/400\n",
            "4/4 [==============================] - 0s 5ms/step - loss: 0.0743\n",
            "Epoch 77/400\n",
            "4/4 [==============================] - 0s 6ms/step - loss: 0.0740\n",
            "Epoch 78/400\n",
            "4/4 [==============================] - 0s 3ms/step - loss: 0.0739\n",
            "Epoch 79/400\n",
            "4/4 [==============================] - 0s 5ms/step - loss: 0.0738\n",
            "Epoch 80/400\n",
            "4/4 [==============================] - 0s 3ms/step - loss: 0.0751\n",
            "Epoch 81/400\n",
            "4/4 [==============================] - 0s 3ms/step - loss: 0.0733\n",
            "Epoch 82/400\n",
            "4/4 [==============================] - 0s 4ms/step - loss: 0.0729\n",
            "Epoch 83/400\n",
            "4/4 [==============================] - 0s 4ms/step - loss: 0.0734\n",
            "Epoch 84/400\n",
            "4/4 [==============================] - 0s 5ms/step - loss: 0.0731\n",
            "Epoch 85/400\n",
            "4/4 [==============================] - 0s 4ms/step - loss: 0.0729\n",
            "Epoch 86/400\n",
            "4/4 [==============================] - 0s 5ms/step - loss: 0.0728\n",
            "Epoch 87/400\n",
            "4/4 [==============================] - 0s 3ms/step - loss: 0.0730\n",
            "Epoch 88/400\n",
            "4/4 [==============================] - 0s 3ms/step - loss: 0.0724\n",
            "Epoch 89/400\n",
            "4/4 [==============================] - 0s 4ms/step - loss: 0.0725\n",
            "Epoch 90/400\n",
            "4/4 [==============================] - 0s 4ms/step - loss: 0.0724\n",
            "Epoch 91/400\n",
            "4/4 [==============================] - 0s 4ms/step - loss: 0.0721\n",
            "Epoch 92/400\n",
            "4/4 [==============================] - 0s 3ms/step - loss: 0.0719\n",
            "Epoch 93/400\n",
            "4/4 [==============================] - 0s 4ms/step - loss: 0.0716\n",
            "Epoch 94/400\n",
            "4/4 [==============================] - 0s 3ms/step - loss: 0.0727\n",
            "Epoch 95/400\n",
            "4/4 [==============================] - 0s 3ms/step - loss: 0.0723\n",
            "Epoch 96/400\n",
            "4/4 [==============================] - 0s 4ms/step - loss: 0.0713\n",
            "Epoch 97/400\n",
            "4/4 [==============================] - 0s 4ms/step - loss: 0.0714\n",
            "Epoch 98/400\n",
            "4/4 [==============================] - 0s 5ms/step - loss: 0.0717\n",
            "Epoch 99/400\n",
            "4/4 [==============================] - 0s 7ms/step - loss: 0.0710\n",
            "Epoch 100/400\n",
            "4/4 [==============================] - 0s 4ms/step - loss: 0.0711\n",
            "Epoch 101/400\n",
            "4/4 [==============================] - 0s 4ms/step - loss: 0.0709\n",
            "Epoch 102/400\n",
            "4/4 [==============================] - 0s 4ms/step - loss: 0.0708\n",
            "Epoch 103/400\n",
            "4/4 [==============================] - 0s 3ms/step - loss: 0.0706\n",
            "Epoch 104/400\n",
            "4/4 [==============================] - 0s 5ms/step - loss: 0.0705\n",
            "Epoch 105/400\n",
            "4/4 [==============================] - 0s 4ms/step - loss: 0.0708\n",
            "Epoch 106/400\n",
            "4/4 [==============================] - 0s 4ms/step - loss: 0.0704\n",
            "Epoch 107/400\n",
            "4/4 [==============================] - 0s 4ms/step - loss: 0.0700\n",
            "Epoch 108/400\n",
            "4/4 [==============================] - 0s 6ms/step - loss: 0.0699\n",
            "Epoch 109/400\n",
            "4/4 [==============================] - 0s 4ms/step - loss: 0.0701\n",
            "Epoch 110/400\n",
            "4/4 [==============================] - 0s 4ms/step - loss: 0.0699\n",
            "Epoch 111/400\n",
            "4/4 [==============================] - 0s 3ms/step - loss: 0.0699\n",
            "Epoch 112/400\n",
            "4/4 [==============================] - 0s 4ms/step - loss: 0.0698\n",
            "Epoch 113/400\n",
            "4/4 [==============================] - 0s 4ms/step - loss: 0.0695\n",
            "Epoch 114/400\n",
            "4/4 [==============================] - 0s 4ms/step - loss: 0.0697\n",
            "Epoch 115/400\n",
            "4/4 [==============================] - 0s 5ms/step - loss: 0.0693\n",
            "Epoch 116/400\n",
            "4/4 [==============================] - 0s 5ms/step - loss: 0.0693\n",
            "Epoch 117/400\n",
            "4/4 [==============================] - 0s 4ms/step - loss: 0.0691\n",
            "Epoch 118/400\n",
            "4/4 [==============================] - 0s 3ms/step - loss: 0.0689\n",
            "Epoch 119/400\n",
            "4/4 [==============================] - 0s 5ms/step - loss: 0.0688\n",
            "Epoch 120/400\n",
            "4/4 [==============================] - 0s 3ms/step - loss: 0.0687\n",
            "Epoch 121/400\n",
            "4/4 [==============================] - 0s 4ms/step - loss: 0.0690\n",
            "Epoch 122/400\n",
            "4/4 [==============================] - 0s 3ms/step - loss: 0.0690\n",
            "Epoch 123/400\n",
            "4/4 [==============================] - 0s 4ms/step - loss: 0.0685\n",
            "Epoch 124/400\n",
            "4/4 [==============================] - 0s 4ms/step - loss: 0.0684\n",
            "Epoch 125/400\n",
            "4/4 [==============================] - 0s 4ms/step - loss: 0.0684\n",
            "Epoch 126/400\n",
            "4/4 [==============================] - 0s 3ms/step - loss: 0.0683\n",
            "Epoch 127/400\n",
            "4/4 [==============================] - 0s 4ms/step - loss: 0.0684\n",
            "Epoch 128/400\n",
            "4/4 [==============================] - 0s 4ms/step - loss: 0.0682\n",
            "Epoch 129/400\n",
            "4/4 [==============================] - 0s 5ms/step - loss: 0.0686\n",
            "Epoch 130/400\n",
            "4/4 [==============================] - 0s 3ms/step - loss: 0.0680\n",
            "Epoch 131/400\n",
            "4/4 [==============================] - 0s 4ms/step - loss: 0.0682\n",
            "Epoch 132/400\n",
            "4/4 [==============================] - 0s 4ms/step - loss: 0.0679\n",
            "Epoch 133/400\n",
            "4/4 [==============================] - 0s 4ms/step - loss: 0.0681\n",
            "Epoch 134/400\n",
            "4/4 [==============================] - 0s 5ms/step - loss: 0.0687\n",
            "Epoch 135/400\n",
            "4/4 [==============================] - 0s 4ms/step - loss: 0.0677\n",
            "Epoch 136/400\n",
            "4/4 [==============================] - 0s 5ms/step - loss: 0.0678\n",
            "Epoch 137/400\n",
            "4/4 [==============================] - 0s 4ms/step - loss: 0.0676\n",
            "Epoch 138/400\n",
            "4/4 [==============================] - 0s 7ms/step - loss: 0.0678\n",
            "Epoch 139/400\n",
            "4/4 [==============================] - 0s 4ms/step - loss: 0.0676\n",
            "Epoch 140/400\n",
            "4/4 [==============================] - 0s 4ms/step - loss: 0.0673\n",
            "Epoch 141/400\n",
            "4/4 [==============================] - 0s 5ms/step - loss: 0.0673\n",
            "Epoch 142/400\n",
            "4/4 [==============================] - 0s 3ms/step - loss: 0.0682\n",
            "Epoch 143/400\n",
            "4/4 [==============================] - 0s 4ms/step - loss: 0.0673\n",
            "Epoch 144/400\n",
            "4/4 [==============================] - 0s 5ms/step - loss: 0.0674\n",
            "Epoch 145/400\n",
            "4/4 [==============================] - 0s 4ms/step - loss: 0.0670\n",
            "Epoch 146/400\n",
            "4/4 [==============================] - 0s 4ms/step - loss: 0.0677\n",
            "Epoch 147/400\n",
            "4/4 [==============================] - 0s 3ms/step - loss: 0.0670\n",
            "Epoch 148/400\n",
            "4/4 [==============================] - 0s 3ms/step - loss: 0.0673\n",
            "Epoch 149/400\n",
            "4/4 [==============================] - 0s 4ms/step - loss: 0.0669\n",
            "Epoch 150/400\n",
            "4/4 [==============================] - 0s 3ms/step - loss: 0.0668\n",
            "Epoch 151/400\n",
            "4/4 [==============================] - 0s 4ms/step - loss: 0.0667\n",
            "Epoch 152/400\n",
            "4/4 [==============================] - 0s 4ms/step - loss: 0.0668\n",
            "Epoch 153/400\n",
            "4/4 [==============================] - 0s 4ms/step - loss: 0.0667\n",
            "Epoch 154/400\n",
            "4/4 [==============================] - 0s 4ms/step - loss: 0.0666\n",
            "Epoch 155/400\n",
            "4/4 [==============================] - 0s 3ms/step - loss: 0.0667\n",
            "Epoch 156/400\n",
            "4/4 [==============================] - 0s 4ms/step - loss: 0.0667\n",
            "Epoch 157/400\n",
            "4/4 [==============================] - 0s 4ms/step - loss: 0.0665\n",
            "Epoch 158/400\n",
            "4/4 [==============================] - 0s 4ms/step - loss: 0.0665\n",
            "Epoch 159/400\n",
            "4/4 [==============================] - 0s 8ms/step - loss: 0.0663\n",
            "Epoch 160/400\n",
            "4/4 [==============================] - 0s 4ms/step - loss: 0.0662\n",
            "Epoch 161/400\n",
            "4/4 [==============================] - 0s 4ms/step - loss: 0.0663\n",
            "Epoch 162/400\n",
            "4/4 [==============================] - 0s 4ms/step - loss: 0.0661\n",
            "Epoch 163/400\n",
            "4/4 [==============================] - 0s 4ms/step - loss: 0.0663\n",
            "Epoch 164/400\n",
            "4/4 [==============================] - 0s 3ms/step - loss: 0.0663\n",
            "Epoch 165/400\n",
            "4/4 [==============================] - 0s 4ms/step - loss: 0.0667\n",
            "Epoch 166/400\n",
            "4/4 [==============================] - 0s 3ms/step - loss: 0.0659\n",
            "Epoch 167/400\n",
            "4/4 [==============================] - 0s 4ms/step - loss: 0.0660\n",
            "Epoch 168/400\n",
            "4/4 [==============================] - 0s 4ms/step - loss: 0.0657\n",
            "Epoch 169/400\n",
            "4/4 [==============================] - 0s 3ms/step - loss: 0.0658\n",
            "Epoch 170/400\n",
            "4/4 [==============================] - 0s 3ms/step - loss: 0.0656\n",
            "Epoch 171/400\n",
            "4/4 [==============================] - 0s 4ms/step - loss: 0.0658\n",
            "Epoch 172/400\n",
            "4/4 [==============================] - 0s 6ms/step - loss: 0.0659\n",
            "Epoch 173/400\n",
            "4/4 [==============================] - 0s 5ms/step - loss: 0.0654\n",
            "Epoch 174/400\n",
            "4/4 [==============================] - 0s 4ms/step - loss: 0.0664\n",
            "Epoch 175/400\n",
            "4/4 [==============================] - 0s 3ms/step - loss: 0.0661\n",
            "Epoch 176/400\n",
            "4/4 [==============================] - 0s 3ms/step - loss: 0.0653\n",
            "Epoch 177/400\n",
            "4/4 [==============================] - 0s 4ms/step - loss: 0.0653\n",
            "Epoch 178/400\n",
            "4/4 [==============================] - 0s 4ms/step - loss: 0.0652\n",
            "Epoch 179/400\n",
            "4/4 [==============================] - 0s 4ms/step - loss: 0.0655\n",
            "Epoch 180/400\n",
            "4/4 [==============================] - 0s 6ms/step - loss: 0.0652\n",
            "Epoch 181/400\n",
            "4/4 [==============================] - 0s 3ms/step - loss: 0.0652\n",
            "Epoch 182/400\n",
            "4/4 [==============================] - 0s 3ms/step - loss: 0.0651\n",
            "Epoch 183/400\n",
            "4/4 [==============================] - 0s 4ms/step - loss: 0.0649\n",
            "Epoch 184/400\n",
            "4/4 [==============================] - 0s 4ms/step - loss: 0.0649\n",
            "Epoch 185/400\n",
            "4/4 [==============================] - 0s 6ms/step - loss: 0.0650\n",
            "Epoch 186/400\n",
            "4/4 [==============================] - 0s 4ms/step - loss: 0.0649\n",
            "Epoch 187/400\n",
            "4/4 [==============================] - 0s 4ms/step - loss: 0.0649\n",
            "Epoch 188/400\n",
            "4/4 [==============================] - 0s 4ms/step - loss: 0.0649\n",
            "Epoch 189/400\n",
            "4/4 [==============================] - 0s 3ms/step - loss: 0.0647\n",
            "Epoch 190/400\n",
            "4/4 [==============================] - 0s 5ms/step - loss: 0.0646\n",
            "Epoch 191/400\n",
            "4/4 [==============================] - 0s 4ms/step - loss: 0.0646\n",
            "Epoch 192/400\n",
            "4/4 [==============================] - 0s 4ms/step - loss: 0.0647\n",
            "Epoch 193/400\n",
            "4/4 [==============================] - 0s 4ms/step - loss: 0.0645\n",
            "Epoch 194/400\n",
            "4/4 [==============================] - 0s 3ms/step - loss: 0.0647\n",
            "Epoch 195/400\n",
            "4/4 [==============================] - 0s 3ms/step - loss: 0.0644\n",
            "Epoch 196/400\n",
            "4/4 [==============================] - 0s 4ms/step - loss: 0.0646\n",
            "Epoch 197/400\n",
            "4/4 [==============================] - 0s 3ms/step - loss: 0.0646\n",
            "Epoch 198/400\n",
            "4/4 [==============================] - 0s 4ms/step - loss: 0.0644\n",
            "Epoch 199/400\n",
            "4/4 [==============================] - 0s 3ms/step - loss: 0.0643\n",
            "Epoch 200/400\n",
            "4/4 [==============================] - 0s 5ms/step - loss: 0.0642\n",
            "Epoch 201/400\n",
            "4/4 [==============================] - 0s 3ms/step - loss: 0.0644\n",
            "Epoch 202/400\n",
            "4/4 [==============================] - 0s 5ms/step - loss: 0.0644\n",
            "Epoch 203/400\n",
            "4/4 [==============================] - 0s 3ms/step - loss: 0.0640\n",
            "Epoch 204/400\n",
            "4/4 [==============================] - 0s 3ms/step - loss: 0.0647\n",
            "Epoch 205/400\n",
            "4/4 [==============================] - 0s 3ms/step - loss: 0.0640\n",
            "Epoch 206/400\n",
            "4/4 [==============================] - 0s 3ms/step - loss: 0.0640\n",
            "Epoch 207/400\n",
            "4/4 [==============================] - 0s 3ms/step - loss: 0.0639\n",
            "Epoch 208/400\n",
            "4/4 [==============================] - 0s 3ms/step - loss: 0.0640\n",
            "Epoch 209/400\n",
            "4/4 [==============================] - 0s 6ms/step - loss: 0.0637\n",
            "Epoch 210/400\n",
            "4/4 [==============================] - 0s 3ms/step - loss: 0.0638\n",
            "Epoch 211/400\n",
            "4/4 [==============================] - 0s 3ms/step - loss: 0.0642\n",
            "Epoch 212/400\n",
            "4/4 [==============================] - 0s 3ms/step - loss: 0.0636\n",
            "Epoch 213/400\n",
            "4/4 [==============================] - 0s 4ms/step - loss: 0.0645\n",
            "Epoch 214/400\n",
            "4/4 [==============================] - 0s 4ms/step - loss: 0.0637\n",
            "Epoch 215/400\n",
            "4/4 [==============================] - 0s 4ms/step - loss: 0.0637\n",
            "Epoch 216/400\n",
            "4/4 [==============================] - 0s 5ms/step - loss: 0.0637\n",
            "Epoch 217/400\n",
            "4/4 [==============================] - 0s 4ms/step - loss: 0.0636\n",
            "Epoch 218/400\n",
            "4/4 [==============================] - 0s 6ms/step - loss: 0.0634\n",
            "Epoch 219/400\n",
            "4/4 [==============================] - 0s 4ms/step - loss: 0.0636\n",
            "Epoch 220/400\n",
            "4/4 [==============================] - 0s 6ms/step - loss: 0.0636\n",
            "Epoch 221/400\n",
            "4/4 [==============================] - 0s 5ms/step - loss: 0.0636\n",
            "Epoch 222/400\n",
            "4/4 [==============================] - 0s 4ms/step - loss: 0.0632\n",
            "Epoch 223/400\n",
            "4/4 [==============================] - 0s 5ms/step - loss: 0.0633\n",
            "Epoch 224/400\n",
            "4/4 [==============================] - 0s 4ms/step - loss: 0.0631\n",
            "Epoch 225/400\n",
            "4/4 [==============================] - 0s 4ms/step - loss: 0.0632\n",
            "Epoch 226/400\n",
            "4/4 [==============================] - 0s 5ms/step - loss: 0.0632\n",
            "Epoch 227/400\n",
            "4/4 [==============================] - 0s 4ms/step - loss: 0.0632\n",
            "Epoch 228/400\n",
            "4/4 [==============================] - 0s 4ms/step - loss: 0.0629\n",
            "Epoch 229/400\n",
            "4/4 [==============================] - 0s 4ms/step - loss: 0.0628\n",
            "Epoch 230/400\n",
            "4/4 [==============================] - 0s 3ms/step - loss: 0.0629\n",
            "Epoch 231/400\n",
            "4/4 [==============================] - 0s 5ms/step - loss: 0.0628\n",
            "Epoch 232/400\n",
            "4/4 [==============================] - 0s 4ms/step - loss: 0.0632\n",
            "Epoch 233/400\n",
            "4/4 [==============================] - 0s 4ms/step - loss: 0.0628\n",
            "Epoch 234/400\n",
            "4/4 [==============================] - 0s 4ms/step - loss: 0.0627\n",
            "Epoch 235/400\n",
            "4/4 [==============================] - 0s 4ms/step - loss: 0.0625\n",
            "Epoch 236/400\n",
            "4/4 [==============================] - 0s 4ms/step - loss: 0.0632\n",
            "Epoch 237/400\n",
            "4/4 [==============================] - 0s 4ms/step - loss: 0.0628\n",
            "Epoch 238/400\n",
            "4/4 [==============================] - 0s 6ms/step - loss: 0.0625\n",
            "Epoch 239/400\n",
            "4/4 [==============================] - 0s 4ms/step - loss: 0.0628\n",
            "Epoch 240/400\n",
            "4/4 [==============================] - 0s 4ms/step - loss: 0.0623\n",
            "Epoch 241/400\n",
            "4/4 [==============================] - 0s 3ms/step - loss: 0.0625\n",
            "Epoch 242/400\n",
            "4/4 [==============================] - 0s 4ms/step - loss: 0.0624\n",
            "Epoch 243/400\n",
            "4/4 [==============================] - 0s 3ms/step - loss: 0.0625\n",
            "Epoch 244/400\n",
            "4/4 [==============================] - 0s 4ms/step - loss: 0.0626\n",
            "Epoch 245/400\n",
            "4/4 [==============================] - 0s 4ms/step - loss: 0.0630\n",
            "Epoch 246/400\n",
            "4/4 [==============================] - 0s 5ms/step - loss: 0.0622\n",
            "Epoch 247/400\n",
            "4/4 [==============================] - 0s 4ms/step - loss: 0.0621\n",
            "Epoch 248/400\n",
            "4/4 [==============================] - 0s 4ms/step - loss: 0.0620\n",
            "Epoch 249/400\n",
            "4/4 [==============================] - 0s 4ms/step - loss: 0.0625\n",
            "Epoch 250/400\n",
            "4/4 [==============================] - 0s 4ms/step - loss: 0.0623\n",
            "Epoch 251/400\n",
            "4/4 [==============================] - 0s 3ms/step - loss: 0.0620\n",
            "Epoch 252/400\n",
            "4/4 [==============================] - 0s 5ms/step - loss: 0.0619\n",
            "Epoch 253/400\n",
            "4/4 [==============================] - 0s 3ms/step - loss: 0.0620\n",
            "Epoch 254/400\n",
            "4/4 [==============================] - 0s 5ms/step - loss: 0.0618\n",
            "Epoch 255/400\n",
            "4/4 [==============================] - 0s 4ms/step - loss: 0.0617\n",
            "Epoch 256/400\n",
            "4/4 [==============================] - 0s 6ms/step - loss: 0.0621\n",
            "Epoch 257/400\n",
            "4/4 [==============================] - 0s 3ms/step - loss: 0.0616\n",
            "Epoch 258/400\n",
            "4/4 [==============================] - 0s 4ms/step - loss: 0.0617\n",
            "Epoch 259/400\n",
            "4/4 [==============================] - 0s 4ms/step - loss: 0.0617\n",
            "Epoch 260/400\n",
            "4/4 [==============================] - 0s 4ms/step - loss: 0.0623\n",
            "Epoch 261/400\n",
            "4/4 [==============================] - 0s 7ms/step - loss: 0.0617\n",
            "Epoch 262/400\n",
            "4/4 [==============================] - 0s 4ms/step - loss: 0.0614\n",
            "Epoch 263/400\n",
            "4/4 [==============================] - 0s 4ms/step - loss: 0.0615\n",
            "Epoch 264/400\n",
            "4/4 [==============================] - 0s 4ms/step - loss: 0.0614\n",
            "Epoch 265/400\n",
            "4/4 [==============================] - 0s 5ms/step - loss: 0.0616\n",
            "Epoch 266/400\n",
            "4/4 [==============================] - 0s 6ms/step - loss: 0.0614\n",
            "Epoch 267/400\n",
            "4/4 [==============================] - 0s 4ms/step - loss: 0.0612\n",
            "Epoch 268/400\n",
            "4/4 [==============================] - 0s 6ms/step - loss: 0.0613\n",
            "Epoch 269/400\n",
            "4/4 [==============================] - 0s 6ms/step - loss: 0.0619\n",
            "Epoch 270/400\n",
            "4/4 [==============================] - 0s 4ms/step - loss: 0.0613\n",
            "Epoch 271/400\n",
            "4/4 [==============================] - 0s 4ms/step - loss: 0.0616\n",
            "Epoch 272/400\n",
            "4/4 [==============================] - 0s 5ms/step - loss: 0.0612\n",
            "Epoch 273/400\n",
            "4/4 [==============================] - 0s 4ms/step - loss: 0.0611\n",
            "Epoch 274/400\n",
            "4/4 [==============================] - 0s 4ms/step - loss: 0.0610\n",
            "Epoch 275/400\n",
            "4/4 [==============================] - 0s 3ms/step - loss: 0.0612\n",
            "Epoch 276/400\n",
            "4/4 [==============================] - 0s 4ms/step - loss: 0.0609\n",
            "Epoch 277/400\n",
            "4/4 [==============================] - 0s 5ms/step - loss: 0.0610\n",
            "Epoch 278/400\n",
            "4/4 [==============================] - 0s 7ms/step - loss: 0.0611\n",
            "Epoch 279/400\n",
            "4/4 [==============================] - 0s 4ms/step - loss: 0.0608\n",
            "Epoch 280/400\n",
            "4/4 [==============================] - 0s 4ms/step - loss: 0.0607\n",
            "Epoch 281/400\n",
            "4/4 [==============================] - 0s 4ms/step - loss: 0.0607\n",
            "Epoch 282/400\n",
            "4/4 [==============================] - 0s 3ms/step - loss: 0.0609\n",
            "Epoch 283/400\n",
            "4/4 [==============================] - 0s 3ms/step - loss: 0.0609\n",
            "Epoch 284/400\n",
            "4/4 [==============================] - 0s 3ms/step - loss: 0.0608\n",
            "Epoch 285/400\n",
            "4/4 [==============================] - 0s 3ms/step - loss: 0.0609\n",
            "Epoch 286/400\n",
            "4/4 [==============================] - 0s 3ms/step - loss: 0.0607\n",
            "Epoch 287/400\n",
            "4/4 [==============================] - 0s 4ms/step - loss: 0.0608\n",
            "Epoch 288/400\n",
            "4/4 [==============================] - 0s 4ms/step - loss: 0.0605\n",
            "Epoch 289/400\n",
            "4/4 [==============================] - 0s 3ms/step - loss: 0.0606\n",
            "Epoch 290/400\n",
            "4/4 [==============================] - 0s 3ms/step - loss: 0.0605\n",
            "Epoch 291/400\n",
            "4/4 [==============================] - 0s 5ms/step - loss: 0.0604\n",
            "Epoch 292/400\n",
            "4/4 [==============================] - 0s 3ms/step - loss: 0.0603\n",
            "Epoch 293/400\n",
            "4/4 [==============================] - 0s 3ms/step - loss: 0.0607\n",
            "Epoch 294/400\n",
            "4/4 [==============================] - 0s 3ms/step - loss: 0.0604\n",
            "Epoch 295/400\n",
            "4/4 [==============================] - 0s 4ms/step - loss: 0.0604\n",
            "Epoch 296/400\n",
            "4/4 [==============================] - 0s 3ms/step - loss: 0.0603\n",
            "Epoch 297/400\n",
            "4/4 [==============================] - 0s 9ms/step - loss: 0.0602\n",
            "Epoch 298/400\n",
            "4/4 [==============================] - 0s 4ms/step - loss: 0.0602\n",
            "Epoch 299/400\n",
            "4/4 [==============================] - 0s 3ms/step - loss: 0.0602\n",
            "Epoch 300/400\n",
            "4/4 [==============================] - 0s 3ms/step - loss: 0.0601\n",
            "Epoch 301/400\n",
            "4/4 [==============================] - 0s 4ms/step - loss: 0.0601\n",
            "Epoch 302/400\n",
            "4/4 [==============================] - 0s 4ms/step - loss: 0.0604\n",
            "Epoch 303/400\n",
            "4/4 [==============================] - 0s 5ms/step - loss: 0.0604\n",
            "Epoch 304/400\n",
            "4/4 [==============================] - 0s 3ms/step - loss: 0.0603\n",
            "Epoch 305/400\n",
            "4/4 [==============================] - 0s 4ms/step - loss: 0.0599\n",
            "Epoch 306/400\n",
            "4/4 [==============================] - 0s 5ms/step - loss: 0.0598\n",
            "Epoch 307/400\n",
            "4/4 [==============================] - 0s 5ms/step - loss: 0.0599\n",
            "Epoch 308/400\n",
            "4/4 [==============================] - 0s 4ms/step - loss: 0.0597\n",
            "Epoch 309/400\n",
            "4/4 [==============================] - 0s 4ms/step - loss: 0.0600\n",
            "Epoch 310/400\n",
            "4/4 [==============================] - 0s 4ms/step - loss: 0.0598\n",
            "Epoch 311/400\n",
            "4/4 [==============================] - 0s 2ms/step - loss: 0.0596\n",
            "Epoch 312/400\n",
            "4/4 [==============================] - 0s 9ms/step - loss: 0.0597\n",
            "Epoch 313/400\n",
            "4/4 [==============================] - 0s 5ms/step - loss: 0.0598\n",
            "Epoch 314/400\n",
            "4/4 [==============================] - 0s 6ms/step - loss: 0.0601\n",
            "Epoch 315/400\n",
            "4/4 [==============================] - 0s 3ms/step - loss: 0.0597\n",
            "Epoch 316/400\n",
            "4/4 [==============================] - 0s 3ms/step - loss: 0.0603\n",
            "Epoch 317/400\n",
            "4/4 [==============================] - 0s 3ms/step - loss: 0.0597\n",
            "Epoch 318/400\n",
            "4/4 [==============================] - 0s 3ms/step - loss: 0.0596\n",
            "Epoch 319/400\n",
            "4/4 [==============================] - 0s 2ms/step - loss: 0.0594\n",
            "Epoch 320/400\n",
            "4/4 [==============================] - 0s 4ms/step - loss: 0.0595\n",
            "Epoch 321/400\n",
            "4/4 [==============================] - 0s 4ms/step - loss: 0.0593\n",
            "Epoch 322/400\n",
            "4/4 [==============================] - 0s 4ms/step - loss: 0.0595\n",
            "Epoch 323/400\n",
            "4/4 [==============================] - 0s 4ms/step - loss: 0.0600\n",
            "Epoch 324/400\n",
            "4/4 [==============================] - 0s 6ms/step - loss: 0.0593\n",
            "Epoch 325/400\n",
            "4/4 [==============================] - 0s 3ms/step - loss: 0.0598\n",
            "Epoch 326/400\n",
            "4/4 [==============================] - 0s 4ms/step - loss: 0.0591\n",
            "Epoch 327/400\n",
            "4/4 [==============================] - 0s 3ms/step - loss: 0.0591\n",
            "Epoch 328/400\n",
            "4/4 [==============================] - 0s 4ms/step - loss: 0.0592\n",
            "Epoch 329/400\n",
            "4/4 [==============================] - 0s 8ms/step - loss: 0.0598\n",
            "Epoch 330/400\n",
            "4/4 [==============================] - 0s 5ms/step - loss: 0.0591\n",
            "Epoch 331/400\n",
            "4/4 [==============================] - 0s 4ms/step - loss: 0.0593\n",
            "Epoch 332/400\n",
            "4/4 [==============================] - 0s 5ms/step - loss: 0.0591\n",
            "Epoch 333/400\n",
            "4/4 [==============================] - 0s 4ms/step - loss: 0.0591\n",
            "Epoch 334/400\n",
            "4/4 [==============================] - 0s 3ms/step - loss: 0.0591\n",
            "Epoch 335/400\n",
            "4/4 [==============================] - 0s 5ms/step - loss: 0.0596\n",
            "Epoch 336/400\n",
            "4/4 [==============================] - 0s 3ms/step - loss: 0.0592\n",
            "Epoch 337/400\n",
            "4/4 [==============================] - 0s 4ms/step - loss: 0.0592\n",
            "Epoch 338/400\n",
            "4/4 [==============================] - 0s 5ms/step - loss: 0.0594\n",
            "Epoch 339/400\n",
            "4/4 [==============================] - 0s 4ms/step - loss: 0.0589\n",
            "Epoch 340/400\n",
            "4/4 [==============================] - 0s 4ms/step - loss: 0.0590\n",
            "Epoch 341/400\n",
            "4/4 [==============================] - 0s 4ms/step - loss: 0.0594\n",
            "Epoch 342/400\n",
            "4/4 [==============================] - 0s 4ms/step - loss: 0.0592\n",
            "Epoch 343/400\n",
            "4/4 [==============================] - 0s 4ms/step - loss: 0.0586\n",
            "Epoch 344/400\n",
            "4/4 [==============================] - 0s 7ms/step - loss: 0.0587\n",
            "Epoch 345/400\n",
            "4/4 [==============================] - 0s 4ms/step - loss: 0.0587\n",
            "Epoch 346/400\n",
            "4/4 [==============================] - 0s 4ms/step - loss: 0.0588\n",
            "Epoch 347/400\n",
            "4/4 [==============================] - 0s 4ms/step - loss: 0.0591\n",
            "Epoch 348/400\n",
            "4/4 [==============================] - 0s 4ms/step - loss: 0.0587\n",
            "Epoch 349/400\n",
            "4/4 [==============================] - 0s 4ms/step - loss: 0.0586\n",
            "Epoch 350/400\n",
            "4/4 [==============================] - 0s 4ms/step - loss: 0.0586\n",
            "Epoch 351/400\n",
            "4/4 [==============================] - 0s 4ms/step - loss: 0.0586\n",
            "Epoch 352/400\n",
            "4/4 [==============================] - 0s 5ms/step - loss: 0.0589\n",
            "Epoch 353/400\n",
            "4/4 [==============================] - 0s 4ms/step - loss: 0.0587\n",
            "Epoch 354/400\n",
            "4/4 [==============================] - 0s 3ms/step - loss: 0.0585\n",
            "Epoch 355/400\n",
            "4/4 [==============================] - 0s 4ms/step - loss: 0.0590\n",
            "Epoch 356/400\n",
            "4/4 [==============================] - 0s 5ms/step - loss: 0.0584\n",
            "Epoch 357/400\n",
            "4/4 [==============================] - 0s 4ms/step - loss: 0.0592\n",
            "Epoch 358/400\n",
            "4/4 [==============================] - 0s 4ms/step - loss: 0.0589\n",
            "Epoch 359/400\n",
            "4/4 [==============================] - 0s 4ms/step - loss: 0.0582\n",
            "Epoch 360/400\n",
            "4/4 [==============================] - 0s 5ms/step - loss: 0.0581\n",
            "Epoch 361/400\n",
            "4/4 [==============================] - 0s 5ms/step - loss: 0.0588\n",
            "Epoch 362/400\n",
            "4/4 [==============================] - 0s 10ms/step - loss: 0.0585\n",
            "Epoch 363/400\n",
            "4/4 [==============================] - 0s 5ms/step - loss: 0.0584\n",
            "Epoch 364/400\n",
            "4/4 [==============================] - 0s 3ms/step - loss: 0.0583\n",
            "Epoch 365/400\n",
            "4/4 [==============================] - 0s 4ms/step - loss: 0.0583\n",
            "Epoch 366/400\n",
            "4/4 [==============================] - 0s 3ms/step - loss: 0.0586\n",
            "Epoch 367/400\n",
            "4/4 [==============================] - 0s 4ms/step - loss: 0.0586\n",
            "Epoch 368/400\n",
            "4/4 [==============================] - 0s 9ms/step - loss: 0.0582\n",
            "Epoch 369/400\n",
            "4/4 [==============================] - 0s 4ms/step - loss: 0.0582\n",
            "Epoch 370/400\n",
            "4/4 [==============================] - 0s 4ms/step - loss: 0.0580\n",
            "Epoch 371/400\n",
            "4/4 [==============================] - 0s 4ms/step - loss: 0.0582\n",
            "Epoch 372/400\n",
            "4/4 [==============================] - 0s 5ms/step - loss: 0.0588\n",
            "Epoch 373/400\n",
            "4/4 [==============================] - 0s 6ms/step - loss: 0.0584\n",
            "Epoch 374/400\n",
            "4/4 [==============================] - 0s 4ms/step - loss: 0.0588\n",
            "Epoch 375/400\n",
            "4/4 [==============================] - 0s 4ms/step - loss: 0.0582\n",
            "Epoch 376/400\n",
            "4/4 [==============================] - 0s 4ms/step - loss: 0.0583\n",
            "Epoch 377/400\n",
            "4/4 [==============================] - 0s 6ms/step - loss: 0.0583\n",
            "Epoch 378/400\n",
            "4/4 [==============================] - 0s 5ms/step - loss: 0.0582\n",
            "Epoch 379/400\n",
            "4/4 [==============================] - 0s 5ms/step - loss: 0.0581\n",
            "Epoch 380/400\n",
            "4/4 [==============================] - 0s 4ms/step - loss: 0.0580\n",
            "Epoch 381/400\n",
            "4/4 [==============================] - 0s 4ms/step - loss: 0.0583\n",
            "Epoch 382/400\n",
            "4/4 [==============================] - 0s 4ms/step - loss: 0.0581\n",
            "Epoch 383/400\n",
            "4/4 [==============================] - 0s 3ms/step - loss: 0.0578\n",
            "Epoch 384/400\n",
            "4/4 [==============================] - 0s 3ms/step - loss: 0.0580\n",
            "Epoch 385/400\n",
            "4/4 [==============================] - 0s 5ms/step - loss: 0.0579\n",
            "Epoch 386/400\n",
            "4/4 [==============================] - 0s 4ms/step - loss: 0.0578\n",
            "Epoch 387/400\n",
            "4/4 [==============================] - 0s 4ms/step - loss: 0.0584\n",
            "Epoch 388/400\n",
            "4/4 [==============================] - 0s 3ms/step - loss: 0.0577\n",
            "Epoch 389/400\n",
            "4/4 [==============================] - 0s 4ms/step - loss: 0.0581\n",
            "Epoch 390/400\n",
            "4/4 [==============================] - 0s 3ms/step - loss: 0.0586\n",
            "Epoch 391/400\n",
            "4/4 [==============================] - 0s 3ms/step - loss: 0.0581\n",
            "Epoch 392/400\n",
            "4/4 [==============================] - 0s 4ms/step - loss: 0.0582\n",
            "Epoch 393/400\n",
            "4/4 [==============================] - 0s 3ms/step - loss: 0.0578\n",
            "Epoch 394/400\n",
            "4/4 [==============================] - 0s 4ms/step - loss: 0.0581\n",
            "Epoch 395/400\n",
            "4/4 [==============================] - 0s 4ms/step - loss: 0.0579\n",
            "Epoch 396/400\n",
            "4/4 [==============================] - 0s 4ms/step - loss: 0.0578\n",
            "Epoch 397/400\n",
            "4/4 [==============================] - 0s 6ms/step - loss: 0.0577\n",
            "Epoch 398/400\n",
            "4/4 [==============================] - 0s 4ms/step - loss: 0.0577\n",
            "Epoch 399/400\n",
            "4/4 [==============================] - 0s 4ms/step - loss: 0.0580\n",
            "Epoch 400/400\n",
            "4/4 [==============================] - 0s 6ms/step - loss: 0.0576\n"
          ],
          "name": "stdout"
        },
        {
          "output_type": "execute_result",
          "data": {
            "text/plain": [
              "<tensorflow.python.keras.callbacks.History at 0x7f21f07dbc10>"
            ]
          },
          "metadata": {
            "tags": []
          },
          "execution_count": 62
        }
      ]
    },
    {
      "cell_type": "code",
      "metadata": {
        "id": "uFg_ptwZ2PJX"
      },
      "source": [
        "y_predict4 = regressor4.predict(xtreino4)"
      ],
      "execution_count": 64,
      "outputs": []
    },
    {
      "cell_type": "code",
      "metadata": {
        "id": "0_XXhvlOdZ32"
      },
      "source": [
        "y_predict_teste4 = regressor4.predict(xtest4)"
      ],
      "execution_count": 65,
      "outputs": []
    },
    {
      "cell_type": "code",
      "metadata": {
        "id": "TBUQf7JddDcn"
      },
      "source": [
        "resultado_ajuste = pd.DataFrame(y_predict4)[0]\n",
        "resultado = pd.DataFrame(y_predict_teste4)[0]"
      ],
      "execution_count": 66,
      "outputs": []
    },
    {
      "cell_type": "code",
      "metadata": {
        "colab": {
          "base_uri": "https://localhost:8080/",
          "height": 429
        },
        "id": "PDCeFs882WJP",
        "outputId": "977f9d93-d2fd-4e56-9653-fd5303cac30b"
      },
      "source": [
        "sns.lineplot(x='tempo', y=ytreino4, data=passageiros[4:129], label='treino')\n",
        "sns.lineplot(x='tempo', y=resultado_ajuste.values , data=passageiros[4:129], label='ajuste')\n",
        "\n",
        "\n",
        "\n",
        "sns.lineplot(x='tempo', y=ytest4, data=passageiros[133:144], label='teste')\n",
        "sns.lineplot(x='tempo', y=resultado.values, data=passageiros[133:144], label='previsão')"
      ],
      "execution_count": 67,
      "outputs": [
        {
          "output_type": "execute_result",
          "data": {
            "text/plain": [
              "<matplotlib.axes._subplots.AxesSubplot at 0x7f21f066bc50>"
            ]
          },
          "metadata": {
            "tags": []
          },
          "execution_count": 67
        },
        {
          "output_type": "display_data",
          "data": {
            "image/png": "[encoded data removed]",
            "text/plain": [
              "<Figure size 720x432 with 1 Axes>"
            ]
          },
          "metadata": {
            "tags": [],
            "needs_background": "light"
          }
        }
      ]
    },
    {
      "cell_type": "code",
      "metadata": {
        "id": "uV89HhhgfpL7"
      },
      "source": [
        ""
      ],
      "execution_count": null,
      "outputs": []
    }
  ]
}